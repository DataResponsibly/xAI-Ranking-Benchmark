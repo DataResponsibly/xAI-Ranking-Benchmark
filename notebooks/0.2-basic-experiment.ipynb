{
 "cells": [
  {
   "cell_type": "code",
   "execution_count": 1,
   "metadata": {},
   "outputs": [],
   "source": [
    "import sys\n",
    "\n",
    "sys.path.append(\"..\")\n",
    "\n",
    "import numpy as np\n",
    "import pandas as pd\n",
    "from lightgbm import LGBMRanker\n",
    "from xai_ranking.benchmarks import (\n",
    "    human_in_the_loop,\n",
    "    hierarchical_ranking_explanation,\n",
    "    lime_experiment,\n",
    "    lime_batch_experiment,\n",
    "    shap_experiment,\n",
    "    shap_batch_experiment,\n",
    "    sharp_experiment,\n",
    "    sharp_batch_experiment,\n",
    "    # participation_experiment,\n",
    ")\n",
    "from xai_ranking.preprocessing import (\n",
    "    preprocess_atp_data,\n",
    "    preprocess_csrank_data,\n",
    "    preprocess_higher_education_data,\n",
    "    preprocess_movers_data,\n",
    ")\n",
    "from xai_ranking.datasets import (\n",
    "    fetch_atp_data,\n",
    "    fetch_csrank_data,\n",
    "    fetch_higher_education_data,\n",
    "    fetch_movers_data,\n",
    ")\n",
    "from xai_ranking.scorers import (\n",
    "    atp_score,\n",
    "    csrank_score,\n",
    "    higher_education_score,\n",
    ")\n",
    "\n",
    "RNG_SEED = 42"
   ]
  },
  {
   "cell_type": "code",
   "execution_count": 2,
   "metadata": {},
   "outputs": [
    {
     "data": {
      "text/html": [
       "<style>#sk-container-id-1 {color: black;}#sk-container-id-1 pre{padding: 0;}#sk-container-id-1 div.sk-toggleable {background-color: white;}#sk-container-id-1 label.sk-toggleable__label {cursor: pointer;display: block;width: 100%;margin-bottom: 0;padding: 0.3em;box-sizing: border-box;text-align: center;}#sk-container-id-1 label.sk-toggleable__label-arrow:before {content: \"▸\";float: left;margin-right: 0.25em;color: #696969;}#sk-container-id-1 label.sk-toggleable__label-arrow:hover:before {color: black;}#sk-container-id-1 div.sk-estimator:hover label.sk-toggleable__label-arrow:before {color: black;}#sk-container-id-1 div.sk-toggleable__content {max-height: 0;max-width: 0;overflow: hidden;text-align: left;background-color: #f0f8ff;}#sk-container-id-1 div.sk-toggleable__content pre {margin: 0.2em;color: black;border-radius: 0.25em;background-color: #f0f8ff;}#sk-container-id-1 input.sk-toggleable__control:checked~div.sk-toggleable__content {max-height: 200px;max-width: 100%;overflow: auto;}#sk-container-id-1 input.sk-toggleable__control:checked~label.sk-toggleable__label-arrow:before {content: \"▾\";}#sk-container-id-1 div.sk-estimator input.sk-toggleable__control:checked~label.sk-toggleable__label {background-color: #d4ebff;}#sk-container-id-1 div.sk-label input.sk-toggleable__control:checked~label.sk-toggleable__label {background-color: #d4ebff;}#sk-container-id-1 input.sk-hidden--visually {border: 0;clip: rect(1px 1px 1px 1px);clip: rect(1px, 1px, 1px, 1px);height: 1px;margin: -1px;overflow: hidden;padding: 0;position: absolute;width: 1px;}#sk-container-id-1 div.sk-estimator {font-family: monospace;background-color: #f0f8ff;border: 1px dotted black;border-radius: 0.25em;box-sizing: border-box;margin-bottom: 0.5em;}#sk-container-id-1 div.sk-estimator:hover {background-color: #d4ebff;}#sk-container-id-1 div.sk-parallel-item::after {content: \"\";width: 100%;border-bottom: 1px solid gray;flex-grow: 1;}#sk-container-id-1 div.sk-label:hover label.sk-toggleable__label {background-color: #d4ebff;}#sk-container-id-1 div.sk-serial::before {content: \"\";position: absolute;border-left: 1px solid gray;box-sizing: border-box;top: 0;bottom: 0;left: 50%;z-index: 0;}#sk-container-id-1 div.sk-serial {display: flex;flex-direction: column;align-items: center;background-color: white;padding-right: 0.2em;padding-left: 0.2em;position: relative;}#sk-container-id-1 div.sk-item {position: relative;z-index: 1;}#sk-container-id-1 div.sk-parallel {display: flex;align-items: stretch;justify-content: center;background-color: white;position: relative;}#sk-container-id-1 div.sk-item::before, #sk-container-id-1 div.sk-parallel-item::before {content: \"\";position: absolute;border-left: 1px solid gray;box-sizing: border-box;top: 0;bottom: 0;left: 50%;z-index: -1;}#sk-container-id-1 div.sk-parallel-item {display: flex;flex-direction: column;z-index: 1;position: relative;background-color: white;}#sk-container-id-1 div.sk-parallel-item:first-child::after {align-self: flex-end;width: 50%;}#sk-container-id-1 div.sk-parallel-item:last-child::after {align-self: flex-start;width: 50%;}#sk-container-id-1 div.sk-parallel-item:only-child::after {width: 0;}#sk-container-id-1 div.sk-dashed-wrapped {border: 1px dashed gray;margin: 0 0.4em 0.5em 0.4em;box-sizing: border-box;padding-bottom: 0.4em;background-color: white;}#sk-container-id-1 div.sk-label label {font-family: monospace;font-weight: bold;display: inline-block;line-height: 1.2em;}#sk-container-id-1 div.sk-label-container {text-align: center;}#sk-container-id-1 div.sk-container {/* jupyter's `normalize.less` sets `[hidden] { display: none; }` but bootstrap.min.css set `[hidden] { display: none !important; }` so we also need the `!important` here to be able to override the default hidden behavior on the sphinx rendered scikit-learn.org. See: https://github.com/scikit-learn/scikit-learn/issues/21755 */display: inline-block !important;position: relative;}#sk-container-id-1 div.sk-text-repr-fallback {display: none;}</style><div id=\"sk-container-id-1\" class=\"sk-top-container\"><div class=\"sk-text-repr-fallback\"><pre>LGBMRanker(label_gain=[0, 1, 2, 3, 4, 5, 6, 7, 8, 9, 10, 11, 12, 13, 14, 15, 16,\n",
       "                       17, 18, 19, 20, 21, 22, 23, 24, 25, 26, 27, 28, 29, ...],\n",
       "           objective=&#x27;lambdarank&#x27;, verbose=-1)</pre><b>In a Jupyter environment, please rerun this cell to show the HTML representation or trust the notebook. <br />On GitHub, the HTML representation is unable to render, please try loading this page with nbviewer.org.</b></div><div class=\"sk-container\" hidden><div class=\"sk-item\"><div class=\"sk-estimator sk-toggleable\"><input class=\"sk-toggleable__control sk-hidden--visually\" id=\"sk-estimator-id-1\" type=\"checkbox\" checked><label for=\"sk-estimator-id-1\" class=\"sk-toggleable__label sk-toggleable__label-arrow\">LGBMRanker</label><div class=\"sk-toggleable__content\"><pre>LGBMRanker(label_gain=[0, 1, 2, 3, 4, 5, 6, 7, 8, 9, 10, 11, 12, 13, 14, 15, 16,\n",
       "                       17, 18, 19, 20, 21, 22, 23, 24, 25, 26, 27, 28, 29, ...],\n",
       "           objective=&#x27;lambdarank&#x27;, verbose=-1)</pre></div></div></div></div></div>"
      ],
      "text/plain": [
       "LGBMRanker(label_gain=[0, 1, 2, 3, 4, 5, 6, 7, 8, 9, 10, 11, 12, 13, 14, 15, 16,\n",
       "                       17, 18, 19, 20, 21, 22, 23, 24, 25, 26, 27, 28, 29, ...],\n",
       "           objective='lambdarank', verbose=-1)"
      ]
     },
     "execution_count": 2,
     "metadata": {},
     "output_type": "execute_result"
    }
   ],
   "source": [
    "# Set up ranker for the moving company dataset:\n",
    "X, ranks, score = preprocess_movers_data(fetch_movers_data()) \n",
    "qids_train = X.index.value_counts().to_numpy()\n",
    "\n",
    "model = LGBMRanker(\n",
    "    objective=\"lambdarank\", label_gain=list(range(max(ranks) + 1)), verbose=-1\n",
    ")\n",
    "model.fit(\n",
    "    X=X,\n",
    "    y=ranks,\n",
    "    group=qids_train,\n",
    ")"
   ]
  },
  {
   "cell_type": "code",
   "execution_count": 3,
   "metadata": {},
   "outputs": [],
   "source": [
    "datasets = [\n",
    "    {\n",
    "        \"name\": \"ATP\",\n",
    "        \"data\": fetch_atp_data().head(20),\n",
    "        \"preprocess\": preprocess_atp_data,\n",
    "        \"scorer\": atp_score,\n",
    "    },\n",
    "    {\n",
    "        \"name\": \"CSRank\",\n",
    "        \"data\": fetch_csrank_data().head(20),\n",
    "        \"preprocess\": preprocess_csrank_data,\n",
    "        \"scorer\": csrank_score,\n",
    "    },\n",
    "    {\n",
    "        \"name\": \"Higher Education\",\n",
    "        \"data\": fetch_higher_education_data(year=2021).head(20),\n",
    "        \"preprocess\": preprocess_higher_education_data,\n",
    "        \"scorer\": higher_education_score,\n",
    "    },\n",
    "    {\n",
    "        \"name\": \"Moving Company\",\n",
    "        \"data\": fetch_movers_data(),\n",
    "        \"preprocess\": preprocess_movers_data,\n",
    "        \"scorer\": model.predict,\n",
    "    },\n",
    "]\n",
    "xai_methods = [\n",
    "    {\"name\": \"LIME\", \"experiment\": lime_experiment},\n",
    "    {\"name\": \"BATCH_LIME\", \"experiment\": lime_batch_experiment},\n",
    "    {\"name\": \"SHAP\", \"experiment\": shap_experiment},\n",
    "    {\"name\": \"BATCH_SHAP\", \"experiment\": shap_batch_experiment},\n",
    "    {\"name\": \"ShaRP\", \"experiment\": sharp_experiment},\n",
    "    {\"name\": \"BATCH_ShaRP\", \"experiment\": sharp_batch_experiment},\n",
    "    # {\"name\": \"Participation\", \"experiment\": participation_experiment},\n",
    "    {\"name\": \"HRE\", \"experiment\": hierarchical_ranking_explanation},\n",
    "    {\"name\": \"HIL\", \"experiment\": human_in_the_loop},\n",
    "]"
   ]
  },
  {
   "cell_type": "code",
   "execution_count": 4,
   "metadata": {},
   "outputs": [
    {
     "data": {
      "application/vnd.jupyter.widget-view+json": {
       "model_id": "611f6b1e7ad24217980523b7fce1f588",
       "version_major": 2,
       "version_minor": 0
      },
      "text/plain": [
       "  0%|          | 0/20 [00:00<?, ?it/s]"
      ]
     },
     "metadata": {},
     "output_type": "display_data"
    },
    {
     "data": {
      "application/vnd.jupyter.widget-view+json": {
       "model_id": "5e8e65c3a89a4c04b5717750c4f1ab96",
       "version_major": 2,
       "version_minor": 0
      },
      "text/plain": [
       "  0%|          | 0/20 [00:00<?, ?it/s]"
      ]
     },
     "metadata": {},
     "output_type": "display_data"
    },
    {
     "data": {
      "application/vnd.jupyter.widget-view+json": {
       "model_id": "f08bc6cbc2024f368e57c6db030eb35b",
       "version_major": 2,
       "version_minor": 0
      },
      "text/plain": [
       "  0%|          | 0/20 [00:00<?, ?it/s]"
      ]
     },
     "metadata": {},
     "output_type": "display_data"
    },
    {
     "name": "stderr",
     "output_type": "stream",
     "text": [
      "Usage of np.ndarray subset (sliced data) is not recommended due to it will double the peak memory cost in LightGBM.\n"
     ]
    },
    {
     "data": {
      "application/vnd.jupyter.widget-view+json": {
       "model_id": "a724cdd4417c4d16955db4cc33745bc9",
       "version_major": 2,
       "version_minor": 0
      },
      "text/plain": [
       "  0%|          | 0/20 [00:00<?, ?it/s]"
      ]
     },
     "metadata": {},
     "output_type": "display_data"
    }
   ],
   "source": [
    "results = {}\n",
    "for dataset in datasets:\n",
    "    results[dataset[\"name\"]] = {}\n",
    "    for xai_method in xai_methods:\n",
    "        \n",
    "        experiment_func = xai_method[\"experiment\"]\n",
    "        preprocess_func = dataset[\"preprocess\"]\n",
    "        score_func = dataset[\"scorer\"]\n",
    "        \n",
    "        X, ranks, scores = preprocess_func(dataset[\"data\"])\n",
    "        contributions = experiment_func(X, score_func)\n",
    "        \n",
    "        results[dataset[\"name\"]][xai_method[\"name\"]] = contributions\n",
    "\n",
    "        result_df = pd.DataFrame(contributions, columns=X.columns, index=X.index)\n",
    "        result_df.to_csv(f\"results/_contributions_{dataset['name']}_{xai_method['name']}.csv\")\n",
    "        # with open(f\"_contributions_{dataset['name']}_{xai_method['name']}.npy\", \"wb\") as f:\n",
    "        #     np.save(f, contributions)"
   ]
  },
  {
   "cell_type": "code",
   "execution_count": 5,
   "metadata": {},
   "outputs": [
    {
     "data": {
      "text/plain": [
       "array([[-0.95      ,  1.95      , -2.55      ],\n",
       "       [-0.6       , -0.75      ,  0.8       ],\n",
       "       [ 1.2       , -0.45      ,  8.7       ],\n",
       "       [ 1.55      , -0.45      ,  7.35      ],\n",
       "       [ 1.61666667,  1.21666667,  3.61666667],\n",
       "       [-0.78333333, -0.93333333, -3.83333333],\n",
       "       [-0.65      , -0.8       , -3.1       ],\n",
       "       [-0.63333333, -0.78333333, -2.13333333],\n",
       "       [ 2.25      , -0.75      ,  0.95      ],\n",
       "       [-0.78333333, -0.93333333, -3.83333333],\n",
       "       [-0.83333333,  1.56666667, -0.28333333],\n",
       "       [ 2.21666667,  1.81666667,  1.41666667],\n",
       "       [-1.05      , -1.2       , -5.3       ],\n",
       "       [-1.18333333, -1.33333333, -6.03333333],\n",
       "       [-0.3       , -0.45      ,  5.2       ],\n",
       "       [ 2.56666667, -0.63333333,  1.51666667],\n",
       "       [-0.43333333, -0.43333333,  8.31666667],\n",
       "       [-1.31666667, -1.46666667, -6.76666667],\n",
       "       [-1.2       ,  3.25      , -4.6       ],\n",
       "       [-0.68333333,  1.56666667,  0.56666667]])"
      ]
     },
     "execution_count": 5,
     "metadata": {},
     "output_type": "execute_result"
    }
   ],
   "source": "results"
  }
 ],
 "metadata": {
  "kernelspec": {
   "display_name": "sharp",
   "language": "python",
   "name": "python3"
  },
  "language_info": {
   "codemirror_mode": {
    "name": "ipython",
    "version": 3
   },
   "file_extension": ".py",
   "mimetype": "text/x-python",
   "name": "python",
   "nbconvert_exporter": "python",
   "pygments_lexer": "ipython3",
   "version": "3.12.0"
  }
 },
 "nbformat": 4,
 "nbformat_minor": 2
}
