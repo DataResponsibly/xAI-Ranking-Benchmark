{
 "cells": [
  {
   "cell_type": "code",
   "metadata": {},
   "source": [
    "import os\n",
    "import sys\n",
    "\n",
    "sys.path.append(\"..\")\n",
    "\n",
    "from itertools import product\n",
    "from lightgbm import LGBMRanker\n",
    "from sklearn.utils import check_random_state\n",
    "from xai_ranking.benchmarks import (\n",
    "    human_in_the_loop_experiment,\n",
    "    human_in_the_loop_batch_experiment,\n",
    "    hierarchical_ranking_explanation,\n",
    "    hierarchical_ranking_batch_explanation,\n",
    "    lime_experiment,\n",
    "    lime_batch_experiment,\n",
    "    shap_experiment,\n",
    "    shap_batch_experiment,\n",
    "    sharp_experiment,\n",
    "    sharp_batch_experiment,\n",
    "    # participation_experiment,\n",
    ")\n",
    "from xai_ranking.preprocessing import (\n",
    "    preprocess_atp_data,\n",
    "    preprocess_csrank_data,\n",
    "    preprocess_higher_education_data,\n",
    "    preprocess_movers_data,\n",
    ")\n",
    "from xai_ranking.datasets import (\n",
    "    fetch_atp_data,\n",
    "    fetch_csrank_data,\n",
    "    fetch_higher_education_data,\n",
    "    fetch_movers_data,\n",
    ")\n",
    "from xai_ranking.scorers import (\n",
    "    atp_score,\n",
    "    csrank_score,\n",
    "    higher_education_score,\n",
    ")\n",
    "from xai_ranking.metrics import (\n",
    "    explanation_sensitivity, outcome_sensitivity,\n",
    "    bootstrapped_explanation_consistency, cross_method_explanation_consistency,\n",
    "    cross_method_outcome_consistency\n",
    ")\n",
    "import pandas as pd\n",
    "import numpy as np\n",
    "import matplotlib.pyplot as plt\n",
    "from mlresearch.utils import check_random_states, set_matplotlib_style\n",
    "from sharp.utils import scores_to_ordering\n",
    "\n",
    "RNG_SEED = 42"
   ],
   "outputs": [],
   "execution_count": null
  },
  {
   "cell_type": "code",
   "metadata": {},
   "source": [
    "# Set up ranker for the moving company dataset:\n",
    "X, ranks, score = preprocess_movers_data(fetch_movers_data(test=False))\n",
    "qids_train = X.index.value_counts().to_numpy()\n",
    "\n",
    "model = LGBMRanker(\n",
    "    objective=\"lambdarank\", label_gain=list(range(max(ranks) + 1)), verbose=-1\n",
    ")\n",
    "model.fit(\n",
    "    X=X,\n",
    "    y=ranks,\n",
    "    group=qids_train,\n",
    ")"
   ],
   "outputs": [],
   "execution_count": null
  },
  {
   "cell_type": "code",
   "metadata": {},
   "source": [
    "datasets = [\n",
    "    {\n",
    "        \"name\": \"ATP\",\n",
    "        \"data\": preprocess_atp_data(fetch_atp_data()),\n",
    "        \"scorer\": atp_score,\n",
    "        \"done\": False\n",
    "    },\n",
    "    {\n",
    "        \"name\": \"CSRank\",\n",
    "        \"data\": preprocess_csrank_data(fetch_csrank_data()),\n",
    "        \"scorer\": csrank_score,\n",
    "        \"done\": False\n",
    "    },\n",
    "    {\n",
    "        \"name\": \"Higher Education\",\n",
    "        \"data\": preprocess_higher_education_data(\n",
    "            fetch_higher_education_data(year=2020)\n",
    "        ),\n",
    "        \"scorer\": higher_education_score,\n",
    "        \"done\": False\n",
    "    },\n",
    "    {\n",
    "        \"name\": \"Moving Company\",\n",
    "        \"data\": preprocess_movers_data(fetch_movers_data(test=True)),\n",
    "        \"scorer\": model.predict,\n",
    "        \"done\": False\n",
    "    },\n",
    "]\n",
    "xai_methods = [\n",
    "    {\n",
    "        \"iterations\": 1,\n",
    "        \"name\": \"LIME\",\n",
    "        \"experiment\": lime_experiment,\n",
    "        \"kwargs\": {\"mode\": \"regression\"},  # classification, regression\n",
    "        \"done\": True\n",
    "    },\n",
    "    {\n",
    "        \"iterations\": 1,\n",
    "        \"name\": \"SHAP\",\n",
    "        \"experiment\": shap_experiment,\n",
    "        \"kwargs\": {},\n",
    "        \"done\": True\n",
    "    },\n",
    "    {\n",
    "        \"iterations\": 1,\n",
    "        \"name\": \"ShaRP\",\n",
    "        \"experiment\": sharp_experiment,\n",
    "        \"kwargs\": {\n",
    "            \"verbose\": True,\n",
    "            \"sample_size\": None,\n",
    "            \"measure\": \"shapley\",\n",
    "            \"n_jobs\": -1,\n",
    "            \"replace\": True\n",
    "        },\n",
    "        \"done\": True\n",
    "    },\n",
    "    {\n",
    "        \"iterations\": 1,\n",
    "        \"name\": \"HRE_DT\",\n",
    "        \"experiment\": hierarchical_ranking_explanation,\n",
    "        \"kwargs\": {\n",
    "            \"model_type\": \"DT\",  # DT, LR, OLS, PLS\n",
    "            \"s\": 10\n",
    "        },\n",
    "        \"done\": False\n",
    "    },\n",
    "    {\n",
    "        \"iterations\": 1,\n",
    "        \"name\": \"HRE_LR\",\n",
    "        \"experiment\": hierarchical_ranking_explanation,\n",
    "        \"kwargs\": {\n",
    "            \"model_type\": \"LR\",  # DT, LR, OLS, PLS\n",
    "            \"s\": 10\n",
    "        },\n",
    "        \"done\": False\n",
    "    },\n",
    "    {\n",
    "        \"iterations\": 1,\n",
    "        \"name\": \"HRE_OLS\",\n",
    "        \"experiment\": hierarchical_ranking_explanation,\n",
    "        \"kwargs\": {\n",
    "            \"model_type\": \"OLS\",  # DT, LR, OLS, PLS\n",
    "            \"s\": 10\n",
    "        },\n",
    "        \"done\": False\n",
    "    },\n",
    "    {\n",
    "        \"iterations\": 1,\n",
    "        \"name\": \"HRE_PLS\",\n",
    "        \"experiment\": hierarchical_ranking_explanation,\n",
    "        \"kwargs\": {\n",
    "            \"model_type\": \"PLS\",  # DT, LR, OLS, PLS\n",
    "            \"s\": 10\n",
    "        },\n",
    "        \"done\": False\n",
    "    },\n",
    "    {\n",
    "        \"iterations\": 1,\n",
    "        \"name\": \"HIL\",\n",
    "        \"experiment\": human_in_the_loop_experiment,\n",
    "        \"kwargs\": {\"upper_bound\": 1, \"lower_bound\": None},\n",
    "        \"done\": True\n",
    "    },\n",
    "    # {\"iterations\": 1, \"name\": \"Participation\", \"experiment\": participation_experiment},\n",
    "]\n",
    "\n",
    "total_states = sum(map(lambda x: x[\"iterations\"], xai_methods)) * len(datasets)\n",
    "random_states = (x for x in check_random_states(RNG_SEED, total_states))"
   ],
   "outputs": [],
   "execution_count": null
  },
  {
   "cell_type": "code",
   "metadata": {},
   "source": [
    "# Uncomment to run full experiment\n",
    "\n",
    "results = {}\n",
    "for dataset in datasets:\n",
    "    results[dataset[\"name\"]] = {}\n",
    "    for xai_method in xai_methods:\n",
    "        results[dataset[\"name\"]][xai_method[\"name\"]] = []\n",
    "\n",
    "        experiment_func = xai_method[\"experiment\"]\n",
    "        score_func = dataset[\"scorer\"]\n",
    "\n",
    "        X, ranks, scores = dataset[\"data\"]\n",
    "\n",
    "        for iteration_idx in range(xai_method[\"iterations\"]):\n",
    "            random_state = next(random_states)\n",
    "            if ((\"done\" in dataset and dataset[\"done\"]) or\n",
    "                    (\"done\" in xai_method and xai_method[\"done\"])):\n",
    "                continue\n",
    "            if (xai_method[\"name\"] in (\"HRE_LR\", \"HRE_PLS\") and\n",
    "                    dataset[\"name\"] == \"Moving Company\"):\n",
    "                # dataset has binary categorical data\n",
    "                # specified methods cannot handle such data \n",
    "                continue \n",
    "\n",
    "            kwargs = {} if \"kwargs\" not in xai_method else xai_method[\"kwargs\"]\n",
    "            if dataset[\"name\"] == \"Moving Company\" and xai_method[\"name\"].endswith(\"ShaRP\"):\n",
    "                kwargs[\"sample_size\"] = 150\n",
    "\n",
    "            contributions = experiment_func(X, score_func, random_state=random_state, **kwargs)\n",
    "\n",
    "            results[dataset[\"name\"]][xai_method[\"name\"]].append(contributions)\n",
    "            result_df = pd.DataFrame(contributions, columns=X.columns, index=X.index)\n",
    "            result_df.to_csv(\n",
    "                f\"results/_contributions_{dataset['name']}_{xai_method['name']}_{iteration_idx}.csv\"\n",
    "            )"
   ],
   "outputs": [],
   "execution_count": null
  },
  {
   "cell_type": "code",
   "metadata": {},
   "source": [
    "def read_results_from_files():\n",
    "    return_dict = {}\n",
    "    for cur_dataset in datasets:\n",
    "        return_dict[cur_dataset[\"name\"]] = {}\n",
    "        for cur_xai_method in xai_methods:\n",
    "            return_dict[cur_dataset[\"name\"]][cur_xai_method[\"name\"]] = []\n",
    "            for iteration in range(cur_xai_method[\"iterations\"]):\n",
    "                fname = (\n",
    "                    f\"results/_contributions_\"\n",
    "                    f\"{cur_dataset['name']}_{cur_xai_method['name']}_\"\n",
    "                    f\"{iteration}.csv\"\n",
    "                )\n",
    "                if os.path.isfile(fname):\n",
    "                    (\n",
    "                        return_dict[cur_dataset[\"name\"]][cur_xai_method[\"name\"]].append(\n",
    "                            pd.read_csv(fname, index_col=0)\n",
    "                        )\n",
    "                    )\n",
    "    return return_dict"
   ],
   "outputs": [],
   "execution_count": null
  },
  {
   "cell_type": "code",
   "metadata": {},
   "source": [
    "results = read_results_from_files()"
   ],
   "outputs": [],
   "execution_count": null
  },
  {
   "cell_type": "code",
   "metadata": {},
   "source": [
    "results"
   ],
   "outputs": [],
   "execution_count": null
  },
  {
   "cell_type": "markdown",
   "metadata": {},
   "source": [
    "# Explanation Sensitivity"
   ]
  },
  {
   "cell_type": "code",
   "metadata": {},
   "source": [
    "help(explanation_sensitivity)"
   ],
   "outputs": [],
   "execution_count": null
  },
  {
   "cell_type": "code",
   "metadata": {},
   "source": [
    "methods = [method for method in results[\"ATP\"].keys() if not method.startswith(\"BATCH\")]\n",
    "\n",
    "expl_sens_res = {}\n",
    "expl_sens_sem = {}\n",
    "for method in methods:\n",
    "    expl_sens_res[method] = {}\n",
    "    expl_sens_sem[method] = {}\n",
    "    for dataset in datasets:\n",
    "        rankings = scores_to_ordering(dataset[\"scorer\"](dataset[\"data\"][0]))\n",
    "        result = explanation_sensitivity(\n",
    "            dataset[\"data\"][0],\n",
    "            results[dataset[\"name\"]][method][0],\n",
    "            rankings,\n",
    "            measure=\"jaccard\", n_features=2\n",
    "        )\n",
    "        expl_sens_res[method][dataset[\"name\"]] = result[0]\n",
    "        expl_sens_sem[method][dataset[\"name\"]] = result[1]"
   ],
   "outputs": [],
   "execution_count": null
  },
  {
   "cell_type": "code",
   "metadata": {},
   "source": [
    "pd.DataFrame(expl_sens_res)"
   ],
   "outputs": [],
   "execution_count": null
  },
  {
   "cell_type": "markdown",
   "metadata": {},
   "source": [
    "# Outcome Sensitivity"
   ]
  },
  {
   "cell_type": "code",
   "metadata": {},
   "source": [
    "help(outcome_sensitivity)"
   ],
   "outputs": [],
   "execution_count": null
  },
  {
   "cell_type": "code",
   "metadata": {},
   "source": [
    "methods = [method for method in results[\"ATP\"].keys() if not method.startswith(\"BATCH\")]\n",
    "\n",
    "out_sens_res = {}\n",
    "out_sens_sem = {}\n",
    "for method in methods:\n",
    "    out_sens_res[method] = {}\n",
    "    out_sens_sem[method] = {}\n",
    "    for dataset in datasets:\n",
    "        rankings = scores_to_ordering(dataset[\"scorer\"](dataset[\"data\"][0]))\n",
    "        result = outcome_sensitivity(\n",
    "            dataset[\"data\"][0],\n",
    "            dataset[\"scorer\"],\n",
    "            results[dataset[\"name\"]][method][0],\n",
    "            threshold=0.8,\n",
    "            n_neighbors=10,\n",
    "            n_tests=10,\n",
    "            std_multiplier=0.2,\n",
    "            aggregate_results=True,\n",
    "            random_state=RNG_SEED,\n",
    "        )\n",
    "        out_sens_res[method][dataset[\"name\"]] = result[0]\n",
    "        out_sens_sem[method][dataset[\"name\"]] = result[1]"
   ],
   "outputs": [],
   "execution_count": null
  },
  {
   "cell_type": "code",
   "metadata": {},
   "source": [
    "pd.DataFrame(out_sens_res)"
   ],
   "outputs": [],
   "execution_count": null
  },
  {
   "cell_type": "markdown",
   "metadata": {},
   "source": [
    "# Explanation Consistency"
   ]
  },
  {
   "cell_type": "code",
   "metadata": {},
   "source": [
    "help(cross_method_explanation_consistency)"
   ],
   "outputs": [],
   "execution_count": null
  },
  {
   "cell_type": "code",
   "metadata": {},
   "source": [
    "methods = [method for method in results[\"ATP\"].keys() if not method.startswith(\"BATCH\")]\n",
    "\n",
    "exp_cons_res = {}\n",
    "exp_cons_sem = {}\n",
    "for dataset in datasets:\n",
    "    exp_cons_res[dataset[\"name\"]] = pd.DataFrame(index=methods, columns=methods)\n",
    "    exp_cons_sem[dataset[\"name\"]] = pd.DataFrame(index=methods, columns=methods)\n",
    "    for method1, method2 in product(methods, methods):\n",
    "        result = cross_method_explanation_consistency(\n",
    "            results[dataset[\"name\"]][method1][0], results[dataset[\"name\"]][method2][0],\n",
    "            measure=\"jaccard\", n_features=2\n",
    "        )\n",
    "\n",
    "        exp_cons_res[dataset[\"name\"]].loc[method1, method2] = result[0]\n",
    "        exp_cons_sem[dataset[\"name\"]].loc[method1, method2] = result[1]"
   ],
   "outputs": [],
   "execution_count": null
  },
  {
   "cell_type": "code",
   "metadata": {},
   "source": [
    "avg_exp_cons_res = pd.DataFrame(columns=methods, index=methods).fillna(0)\n",
    "for dataset, res_ in exp_cons_res.items():\n",
    "    avg_exp_cons_res += res_\n",
    "\n",
    "avg_exp_cons_res /= len(datasets)\n",
    "avg_exp_cons_res"
   ],
   "outputs": [],
   "execution_count": null
  },
  {
   "cell_type": "code",
   "metadata": {},
   "source": [
    "exp_cons_res[\"CSRank\"]\n"
   ],
   "outputs": [],
   "execution_count": null
  },
  {
   "cell_type": "markdown",
   "metadata": {},
   "source": [
    "# Outcome Consistency"
   ]
  },
  {
   "cell_type": "code",
   "metadata": {},
   "source": [
    "help(cross_method_outcome_consistency)"
   ],
   "outputs": [],
   "execution_count": null
  },
  {
   "cell_type": "code",
   "metadata": {},
   "source": [
    "methods = [method for method in results[\"ATP\"].keys() if not method.startswith(\"BATCH\")]\n",
    "\n",
    "out_cons_res = {}\n",
    "out_cons_sem = {}\n",
    "for dataset in datasets:\n",
    "    out_cons_res[dataset[\"name\"]] = pd.DataFrame(index=methods, columns=methods)\n",
    "    out_cons_sem[dataset[\"name\"]] = pd.DataFrame(index=methods, columns=methods)\n",
    "    for method1, method2 in product(methods, methods):\n",
    "        result = cross_method_outcome_consistency(\n",
    "            dataset[\"data\"][0], dataset[\"scorer\"],\n",
    "            results[dataset[\"name\"]][method1][0],\n",
    "            results[dataset[\"name\"]][method2][0],\n",
    "            random_state=RNG_SEED\n",
    "        )\n",
    "\n",
    "        out_cons_res[dataset[\"name\"]].loc[method1, method2] = result[0]\n",
    "        out_cons_sem[dataset[\"name\"]].loc[method1, method2] = result[1]\n"
   ],
   "outputs": [],
   "execution_count": null
  },
  {
   "cell_type": "code",
   "metadata": {},
   "source": [
    "out_cons_res[\"Higher Education\"]\n",
    "\n",
    "avg_out_cons_res = pd.DataFrame(columns=methods, index=methods).fillna(0)\n",
    "for dataset, res_ in out_cons_res.items():\n",
    "    if dataset != \"Moving Company\":\n",
    "        avg_out_cons_res += res_\n",
    "\n",
    "avg_out_cons_res /= len(datasets)\n",
    "avg_out_cons_res"
   ],
   "outputs": [],
   "execution_count": null
  },
  {
   "cell_type": "markdown",
   "metadata": {},
   "source": [
    "# Bootstrapped Consistency"
   ]
  },
  {
   "cell_type": "code",
   "metadata": {},
   "source": [
    "help(bootstrapped_explanation_consistency)"
   ],
   "outputs": [],
   "execution_count": null
  },
  {
   "cell_type": "code",
   "metadata": {},
   "source": [
    "methods = [method for method in results[\"ATP\"].keys() if not method.startswith(\"BATCH\")]\n",
    "\n",
    "boot_cons_res = {}\n",
    "boot_cons_sem = {}\n",
    "for method in methods:\n",
    "    boot_cons_res[method] = {}\n",
    "    boot_cons_sem[method] = {}\n",
    "    for dataset in datasets:\n",
    "        try:\n",
    "            result = bootstrapped_explanation_consistency(\n",
    "                results[dataset[\"name\"]][method][0], results[dataset[\"name\"]][f\"BATCH_{method}\"],\n",
    "                measure=\"euclidean\"\n",
    "            )\n",
    "            boot_cons_res[method][dataset[\"name\"]] = result[0]\n",
    "            boot_cons_sem[method][dataset[\"name\"]] = result[1]\n",
    "        except:\n",
    "            pass"
   ],
   "outputs": [],
   "execution_count": null
  },
  {
   "cell_type": "code",
   "metadata": {},
   "source": [
    "pd.DataFrame(boot_cons_res).round(5)"
   ],
   "outputs": [],
   "execution_count": null
  },
  {
   "cell_type": "code",
   "metadata": {},
   "source": [],
   "outputs": [],
   "execution_count": null
  },
  {
   "cell_type": "code",
   "metadata": {},
   "source": [
    "datasets[2][\"data\"][0]"
   ],
   "outputs": [],
   "execution_count": null
  },
  {
   "cell_type": "code",
   "metadata": {},
   "source": [
    "datasets[3][\"name\"]"
   ],
   "outputs": [],
   "execution_count": null
  },
  {
   "cell_type": "code",
   "metadata": {},
   "source": [
    "datasets[3][\"data\"][0]"
   ],
   "outputs": [],
   "execution_count": null
  },
  {
   "cell_type": "code",
   "metadata": {},
   "source": [],
   "outputs": [],
   "execution_count": null
  },
  {
   "cell_type": "code",
   "metadata": {},
   "source": [],
   "outputs": [],
   "execution_count": null
  },
  {
   "cell_type": "markdown",
   "metadata": {},
   "source": [
    "# Old metrics"
   ]
  },
  {
   "cell_type": "code",
   "metadata": {},
   "source": [
    "from xai_ranking.metrics.old_metrics import compute_all_agreement, compute_all_fidelity, compute_all_sensitivity, \\\n",
    "    compute_all_stability"
   ],
   "outputs": [],
   "execution_count": null
  },
  {
   "cell_type": "code",
   "metadata": {},
   "source": [
    "def plot_dataset_aggregated_summary(agg_mean, agg_sem, gap=0.3):\n",
    "    n_cols = len(agg_mean.columns)\n",
    "    x = np.arange(n_cols).astype(np.float64)\n",
    "\n",
    "    methods = agg_mean.index.unique()\n",
    "    bars = len(methods)\n",
    "    bar_width = (1 - gap) / bars\n",
    "    x -= (bars - 1) * bar_width / 2\n",
    "\n",
    "    for method in methods:\n",
    "        plt.errorbar(\n",
    "            x,\n",
    "            agg_mean.loc[method],\n",
    "            yerr=agg_sem.loc[method],\n",
    "            marker=\"o\",\n",
    "            label=method,\n",
    "            linestyle=\"None\",\n",
    "        )\n",
    "        x += bar_width\n",
    "    plt.legend()\n",
    "    plt.xticks(np.arange(n_cols), agg_mean.columns, rotation=45)"
   ],
   "outputs": [],
   "execution_count": null
  },
  {
   "cell_type": "code",
   "metadata": {},
   "source": [
    "set_matplotlib_style(font_size=12, **{\"font.family\": [\"Nimbus Roman\"]})\n",
    "aggregated_summary, aggregated_error = compute_all_stability(results, axis=0)\n",
    "for dataset in aggregated_summary:\n",
    "    plot_dataset_aggregated_summary(\n",
    "        aggregated_summary[dataset], aggregated_error[dataset]\n",
    "    )\n",
    "    plt.title(dataset)\n",
    "    plt.show()"
   ],
   "outputs": [],
   "execution_count": null
  },
  {
   "cell_type": "markdown",
   "metadata": {},
   "source": [
    "# Agreement"
   ]
  },
  {
   "cell_type": "code",
   "metadata": {},
   "source": [
    "agreement_results = compute_all_agreement(results, n_features=3)\n",
    "agreement_results[\"ATP\"][\"kendall\"]"
   ],
   "outputs": [],
   "execution_count": null
  },
  {
   "cell_type": "code",
   "metadata": {},
   "source": [
    "agreement_results[\"ATP\"][\"jaccard\"]"
   ],
   "outputs": [],
   "execution_count": null
  },
  {
   "cell_type": "code",
   "metadata": {},
   "source": [
    "agreement_results[\"CSRank\"][\"kendall\"]"
   ],
   "outputs": [],
   "execution_count": null
  },
  {
   "cell_type": "code",
   "metadata": {},
   "source": [
    "agreement_results[\"CSRank\"][\"jaccard\"]"
   ],
   "outputs": [],
   "execution_count": null
  },
  {
   "cell_type": "code",
   "metadata": {},
   "source": [
    "agreement_results[\"Higher Education\"][\"kendall\"]"
   ],
   "outputs": [],
   "execution_count": null
  },
  {
   "cell_type": "markdown",
   "metadata": {},
   "source": [
    "# Sensitivity"
   ]
  },
  {
   "cell_type": "code",
   "metadata": {},
   "source": [
    "sensitivity_results = compute_all_sensitivity(\n",
    "    original_data=datasets,\n",
    "    results=results,\n",
    "    n_neighbors=10\n",
    ")"
   ],
   "outputs": [],
   "execution_count": null
  },
  {
   "cell_type": "code",
   "metadata": {},
   "source": [
    "pd.DataFrame(sensitivity_results[0])"
   ],
   "outputs": [],
   "execution_count": null
  },
  {
   "cell_type": "markdown",
   "metadata": {},
   "source": [
    "# Fidelity"
   ]
  },
  {
   "cell_type": "code",
   "metadata": {},
   "source": [
    "fidelity_results = compute_all_fidelity(\n",
    "    original_data=datasets,\n",
    "    results=results,\n",
    "    random_state=RNG_SEED\n",
    ")\n",
    "pd.DataFrame(fidelity_results[0])"
   ],
   "outputs": [],
   "execution_count": null
  },
  {
   "cell_type": "code",
   "metadata": {},
   "source": "pd.DataFrame(fidelity_results[0]).mean(1)  # .drop(columns=\"Moving Company\").mean(1)",
   "outputs": [],
   "execution_count": null
  }
 ],
 "metadata": {
  "kernelspec": {
   "display_name": "Python 3 (ipykernel)",
   "language": "python",
   "name": "python3"
  },
  "language_info": {
   "codemirror_mode": {
    "name": "ipython",
    "version": 3
   },
   "file_extension": ".py",
   "mimetype": "text/x-python",
   "name": "python",
   "nbconvert_exporter": "python",
   "pygments_lexer": "ipython3",
   "version": "3.12.0"
  }
 },
 "nbformat": 4,
 "nbformat_minor": 4
}
