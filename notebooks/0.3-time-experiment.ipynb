{
 "cells": [
  {
   "cell_type": "code",
   "id": "initial_id",
   "metadata": {
    "collapsed": true
   },
   "source": [
    "import tqdm\n",
    "from sharp import ShaRP\n",
    "\n",
    "import time\n",
    "import pandas as pd\n",
    "\n",
    "from xai_ranking.preprocessing import preprocess_atp_data\n",
    "from xai_ranking.datasets import fetch_atp_data\n",
    "from xai_ranking.scorers import atp_score\n",
    "\n",
    "RNG_SEED = 42"
   ],
   "outputs": [],
   "execution_count": null
  },
  {
   "metadata": {},
   "cell_type": "code",
   "source": [
    "datasets = [\n",
    "    {\n",
    "        \"name\": \"ATP\",\n",
    "        \"data\": preprocess_atp_data(fetch_atp_data()),\n",
    "        \"scorer\": atp_score,\n",
    "    }\n",
    "]\n",
    "default_kwargs = {\n",
    "    \"qoi\": \"rank\",\n",
    "    \"measure\": \"shapley\",\n",
    "    \"sample_size\": None,\n",
    "    \"coalition_size\": None,\n",
    "    \"replace\": True,\n",
    "    \"random_state\": RNG_SEED,\n",
    "    \"n_jobs\": -1,\n",
    "}\n",
    "parameters_to_change = {\n",
    "    \"coalition_size\": [i for i in range(1, 5)],\n",
    "    \"sample_size\": [i for i in range(10, 200, 20)]\n",
    "}"
   ],
   "id": "a0fdea795afd09c1",
   "outputs": [],
   "execution_count": null
  },
  {
   "metadata": {},
   "cell_type": "code",
   "source": [
    "results = {}\n",
    "for dataset in datasets:\n",
    "    X, _, _ = dataset[\"data\"]\n",
    "    result_cols = ([\"parameter\", \"parameter_value\", \"value\", \"time\"] +\n",
    "                   X.columns.tolist())\n",
    "\n",
    "    baseline_sharp = ShaRP(target_function=dataset[\"scorer\"], **default_kwargs)\n",
    "    baseline_sharp.fit(X)\n",
    "\n",
    "    start = time.time()\n",
    "    # Why are we averaging the contributions across all data points? \n",
    "    # Shouldn't it be just zero?\n",
    "    baseline_contr = baseline_sharp.all(X).mean(axis=0)\n",
    "    end = time.time()\n",
    "\n",
    "    exact_results_row = [None, None, 0, end - start] + baseline_contr.tolist()\n",
    "    result_df = [exact_results_row]\n",
    "\n",
    "    for parameter, parameter_values in parameters_to_change.items():\n",
    "        print(f\"Alternating parameter: {parameter}\")\n",
    "        default_value = default_kwargs[parameter] if parameter in default_kwargs else None\n",
    "\n",
    "        for parameter_value in tqdm.tqdm(parameter_values):\n",
    "            default_kwargs[parameter] = parameter_value\n",
    "            sharp = ShaRP(\n",
    "                target_function=dataset[\"scorer\"],\n",
    "                **default_kwargs,\n",
    "            )\n",
    "            sharp.fit(X)\n",
    "\n",
    "            start = time.time()\n",
    "            # Why mean is here?\n",
    "            contr = sharp.all(X).mean(axis=0)\n",
    "            end = time.time()\n",
    "\n",
    "            results_row = [\n",
    "                              parameter,\n",
    "                              parameter_value,\n",
    "                              (baseline_contr - contr).mean(),  # Maybe squared?\n",
    "                              end - start\n",
    "                          ] + contr.tolist()\n",
    "            result_df.append(results_row)\n",
    "    results[dataset[\"name\"]] = pd.DataFrame(result_df, columns=result_cols)\n",
    "    results[dataset[\"name\"]].to_csv(\"results/time-experiment-\" + dataset[\"name\"] + \".csv\")"
   ],
   "id": "4ce44d4e8b8ec501",
   "outputs": [],
   "execution_count": null
  },
  {
   "metadata": {},
   "cell_type": "code",
   "source": "results[\"ATP\"]",
   "id": "ac3fa04b178aeec3",
   "outputs": [],
   "execution_count": null
  }
 ],
 "metadata": {
  "kernelspec": {
   "display_name": "Python 3",
   "language": "python",
   "name": "python3"
  },
  "language_info": {
   "codemirror_mode": {
    "name": "ipython",
    "version": 2
   },
   "file_extension": ".py",
   "mimetype": "text/x-python",
   "name": "python",
   "nbconvert_exporter": "python",
   "pygments_lexer": "ipython2",
   "version": "2.7.6"
  }
 },
 "nbformat": 4,
 "nbformat_minor": 5
}
