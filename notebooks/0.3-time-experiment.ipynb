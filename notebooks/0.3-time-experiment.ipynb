{
 "cells": [
  {
   "cell_type": "code",
   "execution_count": 1,
   "id": "initial_id",
   "metadata": {
    "collapsed": true
   },
   "outputs": [],
   "source": [
    "import tqdm\n",
    "import time\n",
    "import numpy as np\n",
    "import pandas as pd\n",
    "\n",
    "from sharp import ShaRP\n",
    "from sharp.utils import scores_to_ordering\n",
    "from xai_ranking.preprocessing import preprocess_atp_data\n",
    "from xai_ranking.datasets import fetch_atp_data\n",
    "from xai_ranking.scorers import atp_score\n",
    "from xai_ranking.metrics import kendall_agreement, fidelity, sensitivity\n",
    "from mlresearch.utils import check_random_states\n",
    "\n",
    "RNG_SEED = 42\n",
    "N_RUNS = 5"
   ]
  },
  {
   "cell_type": "code",
   "execution_count": 2,
   "id": "a0fdea795afd09c1",
   "metadata": {},
   "outputs": [],
   "source": [
    "random_states = check_random_states(RNG_SEED, N_RUNS)\n",
    "\n",
    "dataset = {\n",
    "    \"name\": \"ATP\",\n",
    "    \"data\": preprocess_atp_data(fetch_atp_data()),\n",
    "    \"scorer\": atp_score,\n",
    "}\n",
    "\n",
    "default_kwargs = {\n",
    "    \"qoi\": \"rank\",\n",
    "    \"measure\": \"shapley\",\n",
    "    \"sample_size\": None,\n",
    "    \"coalition_size\": None,\n",
    "    \"replace\": True,\n",
    "    \"n_jobs\": -1,\n",
    "}\n",
    "parameters_to_change = {\n",
    "    \"coalition_size\": [i for i in range(1, 6)],\n",
    "    \"sample_size\": [i for i in range(6, 90, 5)],\n",
    "    \"n_jobs\": [i for i in range(1, 32)]\n",
    "}"
   ]
  },
  {
   "cell_type": "code",
   "execution_count": 9,
   "id": "4ce44d4e8b8ec501",
   "metadata": {},
   "outputs": [
    {
     "name": "stderr",
     "output_type": "stream",
     "text": [
      "  0%|          | 0/5 [00:00<?, ?it/s]"
     ]
    },
    {
     "name": "stderr",
     "output_type": "stream",
     "text": [
      "100%|██████████| 5/5 [01:44<00:00, 20.88s/it]\n"
     ]
    },
    {
     "name": "stdout",
     "output_type": "stream",
     "text": [
      "Alternating parameter: coalition_size\n"
     ]
    },
    {
     "name": "stderr",
     "output_type": "stream",
     "text": [
      "  0%|          | 0/5 [00:04<?, ?it/s]\n"
     ]
    },
    {
     "ename": "KeyboardInterrupt",
     "evalue": "",
     "output_type": "error",
     "traceback": [
      "\u001b[0;31m---------------------------------------------------------------------------\u001b[0m",
      "\u001b[0;31mKeyboardInterrupt\u001b[0m                         Traceback (most recent call last)",
      "Cell \u001b[0;32mIn[9], line 48\u001b[0m\n\u001b[1;32m     43\u001b[0m sharp \u001b[38;5;241m=\u001b[39m ShaRP(\n\u001b[1;32m     44\u001b[0m     target_function\u001b[38;5;241m=\u001b[39mdataset[\u001b[38;5;124m\"\u001b[39m\u001b[38;5;124mscorer\u001b[39m\u001b[38;5;124m\"\u001b[39m],\n\u001b[1;32m     45\u001b[0m     \u001b[38;5;241m*\u001b[39m\u001b[38;5;241m*\u001b[39mdefault_kwargs,\n\u001b[1;32m     46\u001b[0m )\n\u001b[1;32m     47\u001b[0m sharp\u001b[38;5;241m.\u001b[39mfit(X)\n\u001b[0;32m---> 48\u001b[0m contr \u001b[38;5;241m=\u001b[39m \u001b[43msharp\u001b[49m\u001b[38;5;241;43m.\u001b[39;49m\u001b[43mall\u001b[49m\u001b[43m(\u001b[49m\u001b[43mX\u001b[49m\u001b[43m)\u001b[49m\n\u001b[1;32m     49\u001b[0m end \u001b[38;5;241m=\u001b[39m time\u001b[38;5;241m.\u001b[39mtime()\n\u001b[1;32m     50\u001b[0m times\u001b[38;5;241m.\u001b[39mappend(end \u001b[38;5;241m-\u001b[39m start)\n",
      "File \u001b[0;32m~/miniconda3/envs/sharp/lib/python3.12/site-packages/sharp/base.py:184\u001b[0m, in \u001b[0;36mShaRP.all\u001b[0;34m(self, X, y, **kwargs)\u001b[0m\n\u001b[1;32m    179\u001b[0m \u001b[38;5;250m\u001b[39m\u001b[38;5;124;03m\"\"\"\u001b[39;00m\n\u001b[1;32m    180\u001b[0m \u001b[38;5;124;03mset_cols_idx should be passed in kwargs if measure is marginal\u001b[39;00m\n\u001b[1;32m    181\u001b[0m \u001b[38;5;124;03m\"\"\"\u001b[39;00m\n\u001b[1;32m    182\u001b[0m X_, y_ \u001b[38;5;241m=\u001b[39m check_inputs(X, y)\n\u001b[0;32m--> 184\u001b[0m influences \u001b[38;5;241m=\u001b[39m \u001b[43mparallel_loop\u001b[49m\u001b[43m(\u001b[49m\n\u001b[1;32m    185\u001b[0m \u001b[43m    \u001b[49m\u001b[38;5;28;43;01mlambda\u001b[39;49;00m\u001b[43m \u001b[49m\u001b[43msample_idx\u001b[49m\u001b[43m:\u001b[49m\u001b[43m \u001b[49m\u001b[38;5;28;43mself\u001b[39;49m\u001b[38;5;241;43m.\u001b[39;49m\u001b[43mindividual\u001b[49m\u001b[43m(\u001b[49m\u001b[43msample_idx\u001b[49m\u001b[43m,\u001b[49m\u001b[43m \u001b[49m\u001b[43mX_\u001b[49m\u001b[43m,\u001b[49m\u001b[43m \u001b[49m\u001b[43mverbose\u001b[49m\u001b[38;5;241;43m=\u001b[39;49m\u001b[38;5;28;43;01mFalse\u001b[39;49;00m\u001b[43m,\u001b[49m\u001b[43m \u001b[49m\u001b[38;5;241;43m*\u001b[39;49m\u001b[38;5;241;43m*\u001b[39;49m\u001b[43mkwargs\u001b[49m\u001b[43m)\u001b[49m\u001b[43m,\u001b[49m\n\u001b[1;32m    186\u001b[0m \u001b[43m    \u001b[49m\u001b[38;5;28;43mrange\u001b[39;49m\u001b[43m(\u001b[49m\u001b[43mX_\u001b[49m\u001b[38;5;241;43m.\u001b[39;49m\u001b[43mshape\u001b[49m\u001b[43m[\u001b[49m\u001b[38;5;241;43m0\u001b[39;49m\u001b[43m]\u001b[49m\u001b[43m)\u001b[49m\u001b[43m,\u001b[49m\n\u001b[1;32m    187\u001b[0m \u001b[43m    \u001b[49m\u001b[43mn_jobs\u001b[49m\u001b[38;5;241;43m=\u001b[39;49m\u001b[38;5;28;43mself\u001b[39;49m\u001b[38;5;241;43m.\u001b[39;49m\u001b[43mn_jobs\u001b[49m\u001b[43m,\u001b[49m\n\u001b[1;32m    188\u001b[0m \u001b[43m    \u001b[49m\u001b[43mprogress_bar\u001b[49m\u001b[38;5;241;43m=\u001b[39;49m\u001b[38;5;28;43mself\u001b[39;49m\u001b[38;5;241;43m.\u001b[39;49m\u001b[43mverbose\u001b[49m\u001b[43m,\u001b[49m\n\u001b[1;32m    189\u001b[0m \u001b[43m\u001b[49m\u001b[43m)\u001b[49m\n\u001b[1;32m    191\u001b[0m \u001b[38;5;28;01mreturn\u001b[39;00m np\u001b[38;5;241m.\u001b[39marray(influences)\n",
      "File \u001b[0;32m~/miniconda3/envs/sharp/lib/python3.12/site-packages/sharp/utils/_parallelize.py:112\u001b[0m, in \u001b[0;36mparallel_loop\u001b[0;34m(function, iterable, n_jobs, progress_bar, description)\u001b[0m\n\u001b[1;32m    109\u001b[0m         \u001b[38;5;28;01mreturn\u001b[39;00m Parallel(n_jobs\u001b[38;5;241m=\u001b[39mn_jobs)(delayed(function)(i) \u001b[38;5;28;01mfor\u001b[39;00m i \u001b[38;5;129;01min\u001b[39;00m iterable)\n\u001b[1;32m    111\u001b[0m \u001b[38;5;28;01melse\u001b[39;00m:\n\u001b[0;32m--> 112\u001b[0m     \u001b[38;5;28;01mreturn\u001b[39;00m \u001b[43mParallel\u001b[49m\u001b[43m(\u001b[49m\u001b[43mn_jobs\u001b[49m\u001b[38;5;241;43m=\u001b[39;49m\u001b[43mn_jobs\u001b[49m\u001b[43m)\u001b[49m\u001b[43m(\u001b[49m\u001b[43mdelayed\u001b[49m\u001b[43m(\u001b[49m\u001b[43mfunction\u001b[49m\u001b[43m)\u001b[49m\u001b[43m(\u001b[49m\u001b[43mi\u001b[49m\u001b[43m)\u001b[49m\u001b[43m \u001b[49m\u001b[38;5;28;43;01mfor\u001b[39;49;00m\u001b[43m \u001b[49m\u001b[43mi\u001b[49m\u001b[43m \u001b[49m\u001b[38;5;129;43;01min\u001b[39;49;00m\u001b[43m \u001b[49m\u001b[43miterable\u001b[49m\u001b[43m)\u001b[49m\n",
      "File \u001b[0;32m~/miniconda3/envs/sharp/lib/python3.12/site-packages/joblib/parallel.py:1952\u001b[0m, in \u001b[0;36mParallel.__call__\u001b[0;34m(self, iterable)\u001b[0m\n\u001b[1;32m   1946\u001b[0m \u001b[38;5;66;03m# The first item from the output is blank, but it makes the interpreter\u001b[39;00m\n\u001b[1;32m   1947\u001b[0m \u001b[38;5;66;03m# progress until it enters the Try/Except block of the generator and\u001b[39;00m\n\u001b[1;32m   1948\u001b[0m \u001b[38;5;66;03m# reach the first `yield` statement. This starts the aynchronous\u001b[39;00m\n\u001b[1;32m   1949\u001b[0m \u001b[38;5;66;03m# dispatch of the tasks to the workers.\u001b[39;00m\n\u001b[1;32m   1950\u001b[0m \u001b[38;5;28mnext\u001b[39m(output)\n\u001b[0;32m-> 1952\u001b[0m \u001b[38;5;28;01mreturn\u001b[39;00m output \u001b[38;5;28;01mif\u001b[39;00m \u001b[38;5;28mself\u001b[39m\u001b[38;5;241m.\u001b[39mreturn_generator \u001b[38;5;28;01melse\u001b[39;00m \u001b[38;5;28;43mlist\u001b[39;49m\u001b[43m(\u001b[49m\u001b[43moutput\u001b[49m\u001b[43m)\u001b[49m\n",
      "File \u001b[0;32m~/miniconda3/envs/sharp/lib/python3.12/site-packages/joblib/parallel.py:1595\u001b[0m, in \u001b[0;36mParallel._get_outputs\u001b[0;34m(self, iterator, pre_dispatch)\u001b[0m\n\u001b[1;32m   1592\u001b[0m     \u001b[38;5;28;01myield\u001b[39;00m\n\u001b[1;32m   1594\u001b[0m     \u001b[38;5;28;01mwith\u001b[39;00m \u001b[38;5;28mself\u001b[39m\u001b[38;5;241m.\u001b[39m_backend\u001b[38;5;241m.\u001b[39mretrieval_context():\n\u001b[0;32m-> 1595\u001b[0m         \u001b[38;5;28;01myield from\u001b[39;00m \u001b[38;5;28mself\u001b[39m\u001b[38;5;241m.\u001b[39m_retrieve()\n\u001b[1;32m   1597\u001b[0m \u001b[38;5;28;01mexcept\u001b[39;00m \u001b[38;5;167;01mGeneratorExit\u001b[39;00m:\n\u001b[1;32m   1598\u001b[0m     \u001b[38;5;66;03m# The generator has been garbage collected before being fully\u001b[39;00m\n\u001b[1;32m   1599\u001b[0m     \u001b[38;5;66;03m# consumed. This aborts the remaining tasks if possible and warn\u001b[39;00m\n\u001b[1;32m   1600\u001b[0m     \u001b[38;5;66;03m# the user if necessary.\u001b[39;00m\n\u001b[1;32m   1601\u001b[0m     \u001b[38;5;28mself\u001b[39m\u001b[38;5;241m.\u001b[39m_exception \u001b[38;5;241m=\u001b[39m \u001b[38;5;28;01mTrue\u001b[39;00m\n",
      "File \u001b[0;32m~/miniconda3/envs/sharp/lib/python3.12/site-packages/joblib/parallel.py:1707\u001b[0m, in \u001b[0;36mParallel._retrieve\u001b[0;34m(self)\u001b[0m\n\u001b[1;32m   1702\u001b[0m \u001b[38;5;66;03m# If the next job is not ready for retrieval yet, we just wait for\u001b[39;00m\n\u001b[1;32m   1703\u001b[0m \u001b[38;5;66;03m# async callbacks to progress.\u001b[39;00m\n\u001b[1;32m   1704\u001b[0m \u001b[38;5;28;01mif\u001b[39;00m ((\u001b[38;5;28mlen\u001b[39m(\u001b[38;5;28mself\u001b[39m\u001b[38;5;241m.\u001b[39m_jobs) \u001b[38;5;241m==\u001b[39m \u001b[38;5;241m0\u001b[39m) \u001b[38;5;129;01mor\u001b[39;00m\n\u001b[1;32m   1705\u001b[0m     (\u001b[38;5;28mself\u001b[39m\u001b[38;5;241m.\u001b[39m_jobs[\u001b[38;5;241m0\u001b[39m]\u001b[38;5;241m.\u001b[39mget_status(\n\u001b[1;32m   1706\u001b[0m         timeout\u001b[38;5;241m=\u001b[39m\u001b[38;5;28mself\u001b[39m\u001b[38;5;241m.\u001b[39mtimeout) \u001b[38;5;241m==\u001b[39m TASK_PENDING)):\n\u001b[0;32m-> 1707\u001b[0m     \u001b[43mtime\u001b[49m\u001b[38;5;241;43m.\u001b[39;49m\u001b[43msleep\u001b[49m\u001b[43m(\u001b[49m\u001b[38;5;241;43m0.01\u001b[39;49m\u001b[43m)\u001b[49m\n\u001b[1;32m   1708\u001b[0m     \u001b[38;5;28;01mcontinue\u001b[39;00m\n\u001b[1;32m   1710\u001b[0m \u001b[38;5;66;03m# We need to be careful: the job list can be filling up as\u001b[39;00m\n\u001b[1;32m   1711\u001b[0m \u001b[38;5;66;03m# we empty it and Python list are not thread-safe by\u001b[39;00m\n\u001b[1;32m   1712\u001b[0m \u001b[38;5;66;03m# default hence the use of the lock\u001b[39;00m\n",
      "\u001b[0;31mKeyboardInterrupt\u001b[0m: "
     ]
    }
   ],
   "source": [
    "X = dataset[\"data\"][0]\n",
    "scorer = dataset[\"scorer\"]\n",
    "ranking = scores_to_ordering(scorer(dataset[\"data\"][0]))\n",
    "result_cols = (\n",
    "    [\"parameter\", \"parameter_value\", \"avg_time\"] \n",
    "    + [f\"time_{i}\" for i in range(N_RUNS)]\n",
    "    + [f\"agreement_{i}\" for i in range(N_RUNS)]\n",
    "    + [f\"fidelity_{i}\" for i in range(N_RUNS)]\n",
    "    + [f\"sensitivity_{i}\" for i in range(N_RUNS)]\n",
    ")\n",
    "\n",
    "times = []\n",
    "agreements = []\n",
    "fidelities = []\n",
    "sensitivities = []\n",
    "for i in tqdm.tqdm(range(N_RUNS)):\n",
    "    start = time.time()\n",
    "    baseline_sharp = ShaRP(target_function=dataset[\"scorer\"], random_state=random_states[i], **default_kwargs)\n",
    "    baseline_sharp.fit(X)\n",
    "    baseline_contr = baseline_sharp.all(X)\n",
    "    end = time.time()\n",
    "\n",
    "    # Save metrics - compute agreement, fidelity and sensitivity metrics here\n",
    "    times.append(end - start)\n",
    "    agreements.append(1)\n",
    "    # agreements.append(kendall_agreement(baseline_contr, baseline_contr))\n",
    "    fidelities.append(fidelity(X, dataset[\"scorer\"], baseline_contr, random_state=random_states[i])[0])\n",
    "    sensitivities.append(sensitivity(X, baseline_contr, ranking)[0])\n",
    "\n",
    "exact_results_row = [np.nan, np.nan, np.mean(times)] + times + agreements + fidelities + sensitivities\n",
    "result_df = [exact_results_row]\n",
    "\n",
    "for parameter, parameter_values in parameters_to_change.items():\n",
    "    print(f\"Alternating parameter: {parameter}\")\n",
    "    # default_value = default_kwargs[parameter] if parameter in default_kwargs else None\n",
    "\n",
    "    for parameter_value in tqdm.tqdm(parameter_values):\n",
    "        default_kwargs[parameter] = parameter_value\n",
    "\n",
    "        times = []\n",
    "        agreements = []\n",
    "        fidelities = []\n",
    "        sensitivities = []\n",
    "        for i in range(N_RUNS):\n",
    "            start = time.time()\n",
    "            sharp = ShaRP(\n",
    "                target_function=dataset[\"scorer\"],\n",
    "                **default_kwargs,\n",
    "            )\n",
    "            sharp.fit(X)\n",
    "            contr = sharp.all(X)\n",
    "            end = time.time()\n",
    "            times.append(end - start)\n",
    "\n",
    "            # Save metrics - compute agreement, fidelity and sensitivity metrics here\n",
    "            times.append(end - start)\n",
    "            agreements.append(1)\n",
    "            # agreements.append(kendall_agreement(baseline_contr, baseline_contr))\n",
    "            fidelities.append(fidelity(X, dataset[\"scorer\"], baseline_contr, random_state=random_states[i])[0])\n",
    "            sensitivities.append(sensitivity(X, baseline_contr, ranking)[0])\n",
    "\n",
    "        results_row = [\n",
    "            parameter,\n",
    "            parameter_value,\n",
    "            np.mean(times)\n",
    "        ] + times + agreements + fidelities + sensitivities\n",
    "        result_df.append(results_row)\n",
    "\n",
    "results = pd.DataFrame(result_df, columns=result_cols)\n",
    "results.to_csv(\"results/time-experiment-\" + dataset[\"name\"] + \".csv\")"
   ]
  },
  {
   "cell_type": "code",
   "execution_count": 10,
   "id": "ac3fa04b178aeec3",
   "metadata": {},
   "outputs": [
    {
     "data": {
      "text/html": [
       "<div>\n",
       "<style scoped>\n",
       "    .dataframe tbody tr th:only-of-type {\n",
       "        vertical-align: middle;\n",
       "    }\n",
       "\n",
       "    .dataframe tbody tr th {\n",
       "        vertical-align: top;\n",
       "    }\n",
       "\n",
       "    .dataframe thead th {\n",
       "        text-align: right;\n",
       "    }\n",
       "</style>\n",
       "<table border=\"1\" class=\"dataframe\">\n",
       "  <thead>\n",
       "    <tr style=\"text-align: right;\">\n",
       "      <th></th>\n",
       "      <th>parameter</th>\n",
       "      <th>parameter_value</th>\n",
       "      <th>avg_time</th>\n",
       "      <th>time_0</th>\n",
       "      <th>time_1</th>\n",
       "      <th>time_2</th>\n",
       "      <th>time_3</th>\n",
       "      <th>time_4</th>\n",
       "      <th>agreement_0</th>\n",
       "      <th>agreement_1</th>\n",
       "      <th>...</th>\n",
       "      <th>fidelity_0</th>\n",
       "      <th>fidelity_1</th>\n",
       "      <th>fidelity_2</th>\n",
       "      <th>fidelity_3</th>\n",
       "      <th>fidelity_4</th>\n",
       "      <th>sensitivity_0</th>\n",
       "      <th>sensitivity_1</th>\n",
       "      <th>sensitivity_2</th>\n",
       "      <th>sensitivity_3</th>\n",
       "      <th>sensitivity_4</th>\n",
       "    </tr>\n",
       "  </thead>\n",
       "  <tbody>\n",
       "    <tr>\n",
       "      <th>0</th>\n",
       "      <td>NaN</td>\n",
       "      <td>NaN</td>\n",
       "      <td>19.882732</td>\n",
       "      <td>17.299065</td>\n",
       "      <td>19.700095</td>\n",
       "      <td>20.802603</td>\n",
       "      <td>20.754905</td>\n",
       "      <td>20.85699</td>\n",
       "      <td>1</td>\n",
       "      <td>1</td>\n",
       "      <td>...</td>\n",
       "      <td>1.831773</td>\n",
       "      <td>1.820014</td>\n",
       "      <td>1.847919</td>\n",
       "      <td>1.833094</td>\n",
       "      <td>1.84208</td>\n",
       "      <td>0.167442</td>\n",
       "      <td>0.167752</td>\n",
       "      <td>0.168837</td>\n",
       "      <td>0.160775</td>\n",
       "      <td>0.164341</td>\n",
       "    </tr>\n",
       "  </tbody>\n",
       "</table>\n",
       "<p>1 rows × 23 columns</p>\n",
       "</div>"
      ],
      "text/plain": [
       "   parameter  parameter_value   avg_time     time_0     time_1     time_2  \\\n",
       "0        NaN              NaN  19.882732  17.299065  19.700095  20.802603   \n",
       "\n",
       "      time_3    time_4  agreement_0  agreement_1  ...  fidelity_0  fidelity_1  \\\n",
       "0  20.754905  20.85699            1            1  ...    1.831773    1.820014   \n",
       "\n",
       "   fidelity_2  fidelity_3  fidelity_4  sensitivity_0  sensitivity_1  \\\n",
       "0    1.847919    1.833094     1.84208       0.167442       0.167752   \n",
       "\n",
       "   sensitivity_2  sensitivity_3  sensitivity_4  \n",
       "0       0.168837       0.160775       0.164341  \n",
       "\n",
       "[1 rows x 23 columns]"
      ]
     },
     "execution_count": 10,
     "metadata": {},
     "output_type": "execute_result"
    }
   ],
   "source": [
    "results = pd.DataFrame(result_df, columns=result_cols)\n",
    "results"
   ]
  }
 ],
 "metadata": {
  "kernelspec": {
   "display_name": "Python 3",
   "language": "python",
   "name": "python3"
  },
  "language_info": {
   "codemirror_mode": {
    "name": "ipython",
    "version": 3
   },
   "file_extension": ".py",
   "mimetype": "text/x-python",
   "name": "python",
   "nbconvert_exporter": "python",
   "pygments_lexer": "ipython3",
   "version": "3.12.0"
  }
 },
 "nbformat": 4,
 "nbformat_minor": 5
}
