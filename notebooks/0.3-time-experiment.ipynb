{
 "cells": [
  {
   "cell_type": "code",
   "execution_count": 1,
   "id": "a8579c49-4942-47bc-8236-1c64d1b27727",
   "metadata": {},
   "outputs": [
    {
     "name": "stdout",
     "output_type": "stream",
     "text": [
      "Defaulting to user installation because normal site-packages is not writeable\n",
      "Collecting git+https://github.com/DataResponsibly/ShaRP.git\n",
      "  Cloning https://github.com/DataResponsibly/ShaRP.git to /state/partition1/job-48934037/pip-req-build-rufhcdnr\n",
      "  Running command git clone --filter=blob:none --quiet https://github.com/DataResponsibly/ShaRP.git /state/partition1/job-48934037/pip-req-build-rufhcdnr\n",
      "  Resolved https://github.com/DataResponsibly/ShaRP.git to commit 387a39ccd303e4211a182252b441266c4340ba70\n",
      "  Preparing metadata (setup.py) ... \u001b[?25ldone\n",
      "\u001b[?25hRequirement already satisfied: numpy>=1.20.0 in /home/vp724/.local/lib/python3.12/site-packages (from sharp==0.1.dev0) (2.0.1)\n",
      "Requirement already satisfied: pandas>=1.3.5 in /home/vp724/.local/lib/python3.12/site-packages (from sharp==0.1.dev0) (2.2.2)\n",
      "Requirement already satisfied: scikit-learn>=1.2.0 in /home/vp724/.local/lib/python3.12/site-packages (from sharp==0.1.dev0) (1.5.1)\n",
      "Requirement already satisfied: tqdm>=4.46.0 in /home/vp724/.local/lib/python3.12/site-packages (from sharp==0.1.dev0) (4.66.4)\n",
      "Requirement already satisfied: python-dateutil>=2.8.2 in /home/vp724/.local/lib/python3.12/site-packages (from pandas>=1.3.5->sharp==0.1.dev0) (2.9.0.post0)\n",
      "Requirement already satisfied: pytz>=2020.1 in /home/vp724/.local/lib/python3.12/site-packages (from pandas>=1.3.5->sharp==0.1.dev0) (2024.1)\n",
      "Requirement already satisfied: tzdata>=2022.7 in /home/vp724/.local/lib/python3.12/site-packages (from pandas>=1.3.5->sharp==0.1.dev0) (2024.1)\n",
      "Requirement already satisfied: scipy>=1.6.0 in /home/vp724/.local/lib/python3.12/site-packages (from scikit-learn>=1.2.0->sharp==0.1.dev0) (1.14.0)\n",
      "Requirement already satisfied: joblib>=1.2.0 in /home/vp724/.local/lib/python3.12/site-packages (from scikit-learn>=1.2.0->sharp==0.1.dev0) (1.4.2)\n",
      "Requirement already satisfied: threadpoolctl>=3.1.0 in /home/vp724/.local/lib/python3.12/site-packages (from scikit-learn>=1.2.0->sharp==0.1.dev0) (3.5.0)\n",
      "Requirement already satisfied: six>=1.5 in /home/vp724/.local/lib/python3.12/site-packages (from python-dateutil>=2.8.2->pandas>=1.3.5->sharp==0.1.dev0) (1.16.0)\n"
     ]
    }
   ],
   "source": [
    "!pip install -U git+https://github.com/DataResponsibly/ShaRP.git"
   ]
  },
  {
   "cell_type": "code",
   "execution_count": null,
   "id": "1c55579d-7f6c-4dd3-8623-0a89c443881b",
   "metadata": {},
   "outputs": [],
   "source": [
    "!pip install scikit-learn --upgrade"
   ]
  },
  {
   "cell_type": "code",
   "execution_count": 2,
   "id": "initial_id",
   "metadata": {},
   "outputs": [],
   "source": [
    "import os\n",
    "import sys\n",
    "\n",
    "sys.path.append(\"..\")\n",
    "\n",
    "import tqdm\n",
    "import time\n",
    "from copy import deepcopy\n",
    "import numpy as np\n",
    "import pandas as pd\n",
    "\n",
    "from sklearn.utils import check_random_state\n",
    "from lightgbm import LGBMRanker\n",
    "from sharp import ShaRP\n",
    "from sharp.utils import scores_to_ordering\n",
    "from xai_ranking.preprocessing import preprocess_higher_education_data\n",
    "from xai_ranking.scorers import higher_education_score\n",
    "from mlresearch.utils import check_random_states\n",
    "\n",
    "from xai_ranking.preprocessing import (\n",
    "    preprocess_atp_data,\n",
    "    preprocess_csrank_data,\n",
    "    preprocess_higher_education_data,\n",
    "    preprocess_movers_data,\n",
    "    preprocess_synthetic_data,\n",
    ")\n",
    "from xai_ranking.datasets import (\n",
    "    fetch_atp_data,\n",
    "    fetch_csrank_data,\n",
    "    fetch_higher_education_data,\n",
    "    fetch_movers_data,\n",
    "    fetch_synthetic_data,\n",
    ")\n",
    "from xai_ranking.scorers import (\n",
    "    atp_score,\n",
    "    csrank_score,\n",
    "    higher_education_score,\n",
    "    synthetic_equal_score_3ftrs,\n",
    ")\n",
    "from xai_ranking.metrics import (\n",
    "    explanation_sensitivity,\n",
    "    outcome_sensitivity,\n",
    "    bootstrapped_explanation_consistency,\n",
    "    cross_method_explanation_consistency,\n",
    "    cross_method_outcome_consistency,\n",
    "    outcome_fidelity,\n",
    ")\n",
    "\n",
    "RNG_SEED = 42\n",
    "N_RUNS = 5"
   ]
  },
  {
   "cell_type": "code",
   "execution_count": 3,
   "id": "22c5f17f",
   "metadata": {},
   "outputs": [
    {
     "data": {
      "text/html": [
       "<style>#sk-container-id-1 {\n",
       "  /* Definition of color scheme common for light and dark mode */\n",
       "  --sklearn-color-text: black;\n",
       "  --sklearn-color-line: gray;\n",
       "  /* Definition of color scheme for unfitted estimators */\n",
       "  --sklearn-color-unfitted-level-0: #fff5e6;\n",
       "  --sklearn-color-unfitted-level-1: #f6e4d2;\n",
       "  --sklearn-color-unfitted-level-2: #ffe0b3;\n",
       "  --sklearn-color-unfitted-level-3: chocolate;\n",
       "  /* Definition of color scheme for fitted estimators */\n",
       "  --sklearn-color-fitted-level-0: #f0f8ff;\n",
       "  --sklearn-color-fitted-level-1: #d4ebff;\n",
       "  --sklearn-color-fitted-level-2: #b3dbfd;\n",
       "  --sklearn-color-fitted-level-3: cornflowerblue;\n",
       "\n",
       "  /* Specific color for light theme */\n",
       "  --sklearn-color-text-on-default-background: var(--sg-text-color, var(--theme-code-foreground, var(--jp-content-font-color1, black)));\n",
       "  --sklearn-color-background: var(--sg-background-color, var(--theme-background, var(--jp-layout-color0, white)));\n",
       "  --sklearn-color-border-box: var(--sg-text-color, var(--theme-code-foreground, var(--jp-content-font-color1, black)));\n",
       "  --sklearn-color-icon: #696969;\n",
       "\n",
       "  @media (prefers-color-scheme: dark) {\n",
       "    /* Redefinition of color scheme for dark theme */\n",
       "    --sklearn-color-text-on-default-background: var(--sg-text-color, var(--theme-code-foreground, var(--jp-content-font-color1, white)));\n",
       "    --sklearn-color-background: var(--sg-background-color, var(--theme-background, var(--jp-layout-color0, #111)));\n",
       "    --sklearn-color-border-box: var(--sg-text-color, var(--theme-code-foreground, var(--jp-content-font-color1, white)));\n",
       "    --sklearn-color-icon: #878787;\n",
       "  }\n",
       "}\n",
       "\n",
       "#sk-container-id-1 {\n",
       "  color: var(--sklearn-color-text);\n",
       "}\n",
       "\n",
       "#sk-container-id-1 pre {\n",
       "  padding: 0;\n",
       "}\n",
       "\n",
       "#sk-container-id-1 input.sk-hidden--visually {\n",
       "  border: 0;\n",
       "  clip: rect(1px 1px 1px 1px);\n",
       "  clip: rect(1px, 1px, 1px, 1px);\n",
       "  height: 1px;\n",
       "  margin: -1px;\n",
       "  overflow: hidden;\n",
       "  padding: 0;\n",
       "  position: absolute;\n",
       "  width: 1px;\n",
       "}\n",
       "\n",
       "#sk-container-id-1 div.sk-dashed-wrapped {\n",
       "  border: 1px dashed var(--sklearn-color-line);\n",
       "  margin: 0 0.4em 0.5em 0.4em;\n",
       "  box-sizing: border-box;\n",
       "  padding-bottom: 0.4em;\n",
       "  background-color: var(--sklearn-color-background);\n",
       "}\n",
       "\n",
       "#sk-container-id-1 div.sk-container {\n",
       "  /* jupyter's `normalize.less` sets `[hidden] { display: none; }`\n",
       "     but bootstrap.min.css set `[hidden] { display: none !important; }`\n",
       "     so we also need the `!important` here to be able to override the\n",
       "     default hidden behavior on the sphinx rendered scikit-learn.org.\n",
       "     See: https://github.com/scikit-learn/scikit-learn/issues/21755 */\n",
       "  display: inline-block !important;\n",
       "  position: relative;\n",
       "}\n",
       "\n",
       "#sk-container-id-1 div.sk-text-repr-fallback {\n",
       "  display: none;\n",
       "}\n",
       "\n",
       "div.sk-parallel-item,\n",
       "div.sk-serial,\n",
       "div.sk-item {\n",
       "  /* draw centered vertical line to link estimators */\n",
       "  background-image: linear-gradient(var(--sklearn-color-text-on-default-background), var(--sklearn-color-text-on-default-background));\n",
       "  background-size: 2px 100%;\n",
       "  background-repeat: no-repeat;\n",
       "  background-position: center center;\n",
       "}\n",
       "\n",
       "/* Parallel-specific style estimator block */\n",
       "\n",
       "#sk-container-id-1 div.sk-parallel-item::after {\n",
       "  content: \"\";\n",
       "  width: 100%;\n",
       "  border-bottom: 2px solid var(--sklearn-color-text-on-default-background);\n",
       "  flex-grow: 1;\n",
       "}\n",
       "\n",
       "#sk-container-id-1 div.sk-parallel {\n",
       "  display: flex;\n",
       "  align-items: stretch;\n",
       "  justify-content: center;\n",
       "  background-color: var(--sklearn-color-background);\n",
       "  position: relative;\n",
       "}\n",
       "\n",
       "#sk-container-id-1 div.sk-parallel-item {\n",
       "  display: flex;\n",
       "  flex-direction: column;\n",
       "}\n",
       "\n",
       "#sk-container-id-1 div.sk-parallel-item:first-child::after {\n",
       "  align-self: flex-end;\n",
       "  width: 50%;\n",
       "}\n",
       "\n",
       "#sk-container-id-1 div.sk-parallel-item:last-child::after {\n",
       "  align-self: flex-start;\n",
       "  width: 50%;\n",
       "}\n",
       "\n",
       "#sk-container-id-1 div.sk-parallel-item:only-child::after {\n",
       "  width: 0;\n",
       "}\n",
       "\n",
       "/* Serial-specific style estimator block */\n",
       "\n",
       "#sk-container-id-1 div.sk-serial {\n",
       "  display: flex;\n",
       "  flex-direction: column;\n",
       "  align-items: center;\n",
       "  background-color: var(--sklearn-color-background);\n",
       "  padding-right: 1em;\n",
       "  padding-left: 1em;\n",
       "}\n",
       "\n",
       "\n",
       "/* Toggleable style: style used for estimator/Pipeline/ColumnTransformer box that is\n",
       "clickable and can be expanded/collapsed.\n",
       "- Pipeline and ColumnTransformer use this feature and define the default style\n",
       "- Estimators will overwrite some part of the style using the `sk-estimator` class\n",
       "*/\n",
       "\n",
       "/* Pipeline and ColumnTransformer style (default) */\n",
       "\n",
       "#sk-container-id-1 div.sk-toggleable {\n",
       "  /* Default theme specific background. It is overwritten whether we have a\n",
       "  specific estimator or a Pipeline/ColumnTransformer */\n",
       "  background-color: var(--sklearn-color-background);\n",
       "}\n",
       "\n",
       "/* Toggleable label */\n",
       "#sk-container-id-1 label.sk-toggleable__label {\n",
       "  cursor: pointer;\n",
       "  display: block;\n",
       "  width: 100%;\n",
       "  margin-bottom: 0;\n",
       "  padding: 0.5em;\n",
       "  box-sizing: border-box;\n",
       "  text-align: center;\n",
       "}\n",
       "\n",
       "#sk-container-id-1 label.sk-toggleable__label-arrow:before {\n",
       "  /* Arrow on the left of the label */\n",
       "  content: \"▸\";\n",
       "  float: left;\n",
       "  margin-right: 0.25em;\n",
       "  color: var(--sklearn-color-icon);\n",
       "}\n",
       "\n",
       "#sk-container-id-1 label.sk-toggleable__label-arrow:hover:before {\n",
       "  color: var(--sklearn-color-text);\n",
       "}\n",
       "\n",
       "/* Toggleable content - dropdown */\n",
       "\n",
       "#sk-container-id-1 div.sk-toggleable__content {\n",
       "  max-height: 0;\n",
       "  max-width: 0;\n",
       "  overflow: hidden;\n",
       "  text-align: left;\n",
       "  /* unfitted */\n",
       "  background-color: var(--sklearn-color-unfitted-level-0);\n",
       "}\n",
       "\n",
       "#sk-container-id-1 div.sk-toggleable__content.fitted {\n",
       "  /* fitted */\n",
       "  background-color: var(--sklearn-color-fitted-level-0);\n",
       "}\n",
       "\n",
       "#sk-container-id-1 div.sk-toggleable__content pre {\n",
       "  margin: 0.2em;\n",
       "  border-radius: 0.25em;\n",
       "  color: var(--sklearn-color-text);\n",
       "  /* unfitted */\n",
       "  background-color: var(--sklearn-color-unfitted-level-0);\n",
       "}\n",
       "\n",
       "#sk-container-id-1 div.sk-toggleable__content.fitted pre {\n",
       "  /* unfitted */\n",
       "  background-color: var(--sklearn-color-fitted-level-0);\n",
       "}\n",
       "\n",
       "#sk-container-id-1 input.sk-toggleable__control:checked~div.sk-toggleable__content {\n",
       "  /* Expand drop-down */\n",
       "  max-height: 200px;\n",
       "  max-width: 100%;\n",
       "  overflow: auto;\n",
       "}\n",
       "\n",
       "#sk-container-id-1 input.sk-toggleable__control:checked~label.sk-toggleable__label-arrow:before {\n",
       "  content: \"▾\";\n",
       "}\n",
       "\n",
       "/* Pipeline/ColumnTransformer-specific style */\n",
       "\n",
       "#sk-container-id-1 div.sk-label input.sk-toggleable__control:checked~label.sk-toggleable__label {\n",
       "  color: var(--sklearn-color-text);\n",
       "  background-color: var(--sklearn-color-unfitted-level-2);\n",
       "}\n",
       "\n",
       "#sk-container-id-1 div.sk-label.fitted input.sk-toggleable__control:checked~label.sk-toggleable__label {\n",
       "  background-color: var(--sklearn-color-fitted-level-2);\n",
       "}\n",
       "\n",
       "/* Estimator-specific style */\n",
       "\n",
       "/* Colorize estimator box */\n",
       "#sk-container-id-1 div.sk-estimator input.sk-toggleable__control:checked~label.sk-toggleable__label {\n",
       "  /* unfitted */\n",
       "  background-color: var(--sklearn-color-unfitted-level-2);\n",
       "}\n",
       "\n",
       "#sk-container-id-1 div.sk-estimator.fitted input.sk-toggleable__control:checked~label.sk-toggleable__label {\n",
       "  /* fitted */\n",
       "  background-color: var(--sklearn-color-fitted-level-2);\n",
       "}\n",
       "\n",
       "#sk-container-id-1 div.sk-label label.sk-toggleable__label,\n",
       "#sk-container-id-1 div.sk-label label {\n",
       "  /* The background is the default theme color */\n",
       "  color: var(--sklearn-color-text-on-default-background);\n",
       "}\n",
       "\n",
       "/* On hover, darken the color of the background */\n",
       "#sk-container-id-1 div.sk-label:hover label.sk-toggleable__label {\n",
       "  color: var(--sklearn-color-text);\n",
       "  background-color: var(--sklearn-color-unfitted-level-2);\n",
       "}\n",
       "\n",
       "/* Label box, darken color on hover, fitted */\n",
       "#sk-container-id-1 div.sk-label.fitted:hover label.sk-toggleable__label.fitted {\n",
       "  color: var(--sklearn-color-text);\n",
       "  background-color: var(--sklearn-color-fitted-level-2);\n",
       "}\n",
       "\n",
       "/* Estimator label */\n",
       "\n",
       "#sk-container-id-1 div.sk-label label {\n",
       "  font-family: monospace;\n",
       "  font-weight: bold;\n",
       "  display: inline-block;\n",
       "  line-height: 1.2em;\n",
       "}\n",
       "\n",
       "#sk-container-id-1 div.sk-label-container {\n",
       "  text-align: center;\n",
       "}\n",
       "\n",
       "/* Estimator-specific */\n",
       "#sk-container-id-1 div.sk-estimator {\n",
       "  font-family: monospace;\n",
       "  border: 1px dotted var(--sklearn-color-border-box);\n",
       "  border-radius: 0.25em;\n",
       "  box-sizing: border-box;\n",
       "  margin-bottom: 0.5em;\n",
       "  /* unfitted */\n",
       "  background-color: var(--sklearn-color-unfitted-level-0);\n",
       "}\n",
       "\n",
       "#sk-container-id-1 div.sk-estimator.fitted {\n",
       "  /* fitted */\n",
       "  background-color: var(--sklearn-color-fitted-level-0);\n",
       "}\n",
       "\n",
       "/* on hover */\n",
       "#sk-container-id-1 div.sk-estimator:hover {\n",
       "  /* unfitted */\n",
       "  background-color: var(--sklearn-color-unfitted-level-2);\n",
       "}\n",
       "\n",
       "#sk-container-id-1 div.sk-estimator.fitted:hover {\n",
       "  /* fitted */\n",
       "  background-color: var(--sklearn-color-fitted-level-2);\n",
       "}\n",
       "\n",
       "/* Specification for estimator info (e.g. \"i\" and \"?\") */\n",
       "\n",
       "/* Common style for \"i\" and \"?\" */\n",
       "\n",
       ".sk-estimator-doc-link,\n",
       "a:link.sk-estimator-doc-link,\n",
       "a:visited.sk-estimator-doc-link {\n",
       "  float: right;\n",
       "  font-size: smaller;\n",
       "  line-height: 1em;\n",
       "  font-family: monospace;\n",
       "  background-color: var(--sklearn-color-background);\n",
       "  border-radius: 1em;\n",
       "  height: 1em;\n",
       "  width: 1em;\n",
       "  text-decoration: none !important;\n",
       "  margin-left: 1ex;\n",
       "  /* unfitted */\n",
       "  border: var(--sklearn-color-unfitted-level-1) 1pt solid;\n",
       "  color: var(--sklearn-color-unfitted-level-1);\n",
       "}\n",
       "\n",
       ".sk-estimator-doc-link.fitted,\n",
       "a:link.sk-estimator-doc-link.fitted,\n",
       "a:visited.sk-estimator-doc-link.fitted {\n",
       "  /* fitted */\n",
       "  border: var(--sklearn-color-fitted-level-1) 1pt solid;\n",
       "  color: var(--sklearn-color-fitted-level-1);\n",
       "}\n",
       "\n",
       "/* On hover */\n",
       "div.sk-estimator:hover .sk-estimator-doc-link:hover,\n",
       ".sk-estimator-doc-link:hover,\n",
       "div.sk-label-container:hover .sk-estimator-doc-link:hover,\n",
       ".sk-estimator-doc-link:hover {\n",
       "  /* unfitted */\n",
       "  background-color: var(--sklearn-color-unfitted-level-3);\n",
       "  color: var(--sklearn-color-background);\n",
       "  text-decoration: none;\n",
       "}\n",
       "\n",
       "div.sk-estimator.fitted:hover .sk-estimator-doc-link.fitted:hover,\n",
       ".sk-estimator-doc-link.fitted:hover,\n",
       "div.sk-label-container:hover .sk-estimator-doc-link.fitted:hover,\n",
       ".sk-estimator-doc-link.fitted:hover {\n",
       "  /* fitted */\n",
       "  background-color: var(--sklearn-color-fitted-level-3);\n",
       "  color: var(--sklearn-color-background);\n",
       "  text-decoration: none;\n",
       "}\n",
       "\n",
       "/* Span, style for the box shown on hovering the info icon */\n",
       ".sk-estimator-doc-link span {\n",
       "  display: none;\n",
       "  z-index: 9999;\n",
       "  position: relative;\n",
       "  font-weight: normal;\n",
       "  right: .2ex;\n",
       "  padding: .5ex;\n",
       "  margin: .5ex;\n",
       "  width: min-content;\n",
       "  min-width: 20ex;\n",
       "  max-width: 50ex;\n",
       "  color: var(--sklearn-color-text);\n",
       "  box-shadow: 2pt 2pt 4pt #999;\n",
       "  /* unfitted */\n",
       "  background: var(--sklearn-color-unfitted-level-0);\n",
       "  border: .5pt solid var(--sklearn-color-unfitted-level-3);\n",
       "}\n",
       "\n",
       ".sk-estimator-doc-link.fitted span {\n",
       "  /* fitted */\n",
       "  background: var(--sklearn-color-fitted-level-0);\n",
       "  border: var(--sklearn-color-fitted-level-3);\n",
       "}\n",
       "\n",
       ".sk-estimator-doc-link:hover span {\n",
       "  display: block;\n",
       "}\n",
       "\n",
       "/* \"?\"-specific style due to the `<a>` HTML tag */\n",
       "\n",
       "#sk-container-id-1 a.estimator_doc_link {\n",
       "  float: right;\n",
       "  font-size: 1rem;\n",
       "  line-height: 1em;\n",
       "  font-family: monospace;\n",
       "  background-color: var(--sklearn-color-background);\n",
       "  border-radius: 1rem;\n",
       "  height: 1rem;\n",
       "  width: 1rem;\n",
       "  text-decoration: none;\n",
       "  /* unfitted */\n",
       "  color: var(--sklearn-color-unfitted-level-1);\n",
       "  border: var(--sklearn-color-unfitted-level-1) 1pt solid;\n",
       "}\n",
       "\n",
       "#sk-container-id-1 a.estimator_doc_link.fitted {\n",
       "  /* fitted */\n",
       "  border: var(--sklearn-color-fitted-level-1) 1pt solid;\n",
       "  color: var(--sklearn-color-fitted-level-1);\n",
       "}\n",
       "\n",
       "/* On hover */\n",
       "#sk-container-id-1 a.estimator_doc_link:hover {\n",
       "  /* unfitted */\n",
       "  background-color: var(--sklearn-color-unfitted-level-3);\n",
       "  color: var(--sklearn-color-background);\n",
       "  text-decoration: none;\n",
       "}\n",
       "\n",
       "#sk-container-id-1 a.estimator_doc_link.fitted:hover {\n",
       "  /* fitted */\n",
       "  background-color: var(--sklearn-color-fitted-level-3);\n",
       "}\n",
       "</style><div id=\"sk-container-id-1\" class=\"sk-top-container\"><div class=\"sk-text-repr-fallback\"><pre>LGBMRanker(label_gain=[0, 1, 2, 3, 4, 5, 6, 7, 8, 9, 10, 11, 12, 13, 14, 15, 16,\n",
       "                       17, 18, 19, 20, 21, 22, 23, 24, 25, 26, 27, 28, 29, ...],\n",
       "           objective=&#x27;lambdarank&#x27;, verbose=-1)</pre><b>In a Jupyter environment, please rerun this cell to show the HTML representation or trust the notebook. <br />On GitHub, the HTML representation is unable to render, please try loading this page with nbviewer.org.</b></div><div class=\"sk-container\" hidden><div class=\"sk-item\"><div class=\"sk-estimator fitted sk-toggleable\"><input class=\"sk-toggleable__control sk-hidden--visually\" id=\"sk-estimator-id-1\" type=\"checkbox\" checked><label for=\"sk-estimator-id-1\" class=\"sk-toggleable__label fitted sk-toggleable__label-arrow fitted\">&nbsp;LGBMRanker<span class=\"sk-estimator-doc-link fitted\">i<span>Fitted</span></span></label><div class=\"sk-toggleable__content fitted\"><pre>LGBMRanker(label_gain=[0, 1, 2, 3, 4, 5, 6, 7, 8, 9, 10, 11, 12, 13, 14, 15, 16,\n",
       "                       17, 18, 19, 20, 21, 22, 23, 24, 25, 26, 27, 28, 29, ...],\n",
       "           objective=&#x27;lambdarank&#x27;, verbose=-1)</pre></div> </div></div></div></div>"
      ],
      "text/plain": [
       "LGBMRanker(label_gain=[0, 1, 2, 3, 4, 5, 6, 7, 8, 9, 10, 11, 12, 13, 14, 15, 16,\n",
       "                       17, 18, 19, 20, 21, 22, 23, 24, 25, 26, 27, 28, 29, ...],\n",
       "           objective='lambdarank', verbose=-1)"
      ]
     },
     "execution_count": 3,
     "metadata": {},
     "output_type": "execute_result"
    }
   ],
   "source": [
    "# Set up ranker for the moving company dataset:\n",
    "X, ranks, score = preprocess_movers_data(fetch_movers_data(test=False))\n",
    "qids_train = X.index.value_counts().to_numpy()\n",
    "\n",
    "model = LGBMRanker(\n",
    "    objective=\"lambdarank\", label_gain=list(range(max(ranks) + 1)), verbose=-1\n",
    ")\n",
    "model.fit(\n",
    "    X=X,\n",
    "    y=ranks,\n",
    "    group=qids_train,\n",
    ")"
   ]
  },
  {
   "cell_type": "code",
   "execution_count": 10,
   "id": "a0fdea795afd09c1",
   "metadata": {},
   "outputs": [],
   "source": [
    "random_states = check_random_states(RNG_SEED, N_RUNS)\n",
    "\n",
    "datasets = [\n",
    "    {\n",
    "        \"name\": \"Higher Education\",\n",
    "        \"data\": preprocess_higher_education_data(\n",
    "            fetch_higher_education_data(year=2020)\n",
    "        ),\n",
    "        \"scorer\": higher_education_score,\n",
    "        \"n_observations\": 100,\n",
    "    },\n",
    "    {\n",
    "        \"name\": \"ATP\",\n",
    "        \"data\": preprocess_atp_data(fetch_atp_data()),\n",
    "        \"scorer\": atp_score,\n",
    "        \"n_observations\": 86,\n",
    "    },\n",
    "    {\n",
    "        \"name\": \"CSRank\",\n",
    "        \"data\": preprocess_csrank_data(fetch_csrank_data()),\n",
    "        \"scorer\": csrank_score,\n",
    "        \"n_observations\": 100,\n",
    "    },\n",
    "    {\n",
    "        \"name\": \"Synthetic_2\",\n",
    "        \"data\": preprocess_synthetic_data(\n",
    "            fetch_synthetic_data(synth_dt_version=2, item_num=2000)\n",
    "        ),\n",
    "        \"scorer\": synthetic_equal_score_3ftrs,\n",
    "        \"n_observations\": 100,\n",
    "    },\n",
    "    {\n",
    "        \"name\": \"Synthetic_1\",\n",
    "        \"data\": preprocess_synthetic_data(\n",
    "            fetch_synthetic_data(synth_dt_version=1, item_num=2000)\n",
    "        ),\n",
    "        \"scorer\": synthetic_equal_score_3ftrs,\n",
    "        \"n_observations\": 100,\n",
    "    },\n",
    "    {\n",
    "        \"name\": \"Synthetic_0\",\n",
    "        \"data\": preprocess_synthetic_data(\n",
    "            fetch_synthetic_data(synth_dt_version=0, item_num=2000)\n",
    "        ),\n",
    "        \"scorer\": synthetic_equal_score_3ftrs,\n",
    "        \"n_observations\": 100,\n",
    "    },\n",
    "    {\n",
    "        \"name\": \"Moving Company\",\n",
    "        \"data\": preprocess_movers_data(fetch_movers_data(test=True)),\n",
    "        \"scorer\": model.predict,\n",
    "        \"n_observations\": 100,\n",
    "    },\n",
    "]\n",
    "\n",
    "# approaches = [\"rank\", \"rank_score\", \"pairwise\"]\n",
    "approaches = [\"rank\"]\n",
    "\n",
    "default_kwargs = {\n",
    "    \"measure\": \"shapley\",\n",
    "    \"sample_size\": None,\n",
    "    \"coalition_size\": None,\n",
    "    \"replace\": False,\n",
    "    \"n_jobs\": 14,\n",
    "}\n",
    "parameters_to_change = {\n",
    "    \"coalition_size\": [i for i in range(1, 7)],\n",
    "    \"sample_size\": [20, 50, 100, 250] + list(range(500, 2000, 500)),\n",
    "    \"n_jobs\": [1, 2, 4, 8, 16, 32, 48],\n",
    "}"
   ]
  },
  {
   "cell_type": "code",
   "execution_count": null,
   "id": "4ce44d4e8b8ec501",
   "metadata": {},
   "outputs": [
    {
     "name": "stdout",
     "output_type": "stream",
     "text": [
      "---------------- Higher Education | rank ----------------\n",
      "Exact computation\n"
     ]
    },
    {
     "name": "stderr",
     "output_type": "stream",
     "text": [
      "100%|██████████| 5/5 [03:46<00:00, 45.33s/it]\n"
     ]
    },
    {
     "name": "stdout",
     "output_type": "stream",
     "text": [
      "Finished computing exact results\n",
      "Alternating parameter: coalition_size\n"
     ]
    },
    {
     "name": "stderr",
     "output_type": "stream",
     "text": [
      "  0%|          | 0/4 [00:00<?, ?it/s]"
     ]
    },
    {
     "name": "stdout",
     "output_type": "stream",
     "text": [
      "Parameter coalition_size, value 1\n"
     ]
    },
    {
     "name": "stderr",
     "output_type": "stream",
     "text": [
      "\n",
      "  0%|          | 0/5 [00:00<?, ?it/s]\u001b[A\n",
      " 20%|██        | 1/5 [00:14<00:57, 14.37s/it]\u001b[A\n",
      " 40%|████      | 2/5 [00:28<00:43, 14.42s/it]\u001b[A\n",
      " 60%|██████    | 3/5 [00:43<00:28, 14.45s/it]\u001b[A\n",
      " 80%|████████  | 4/5 [00:57<00:14, 14.49s/it]\u001b[A\n",
      "100%|██████████| 5/5 [01:12<00:00, 14.47s/it]\u001b[A\n",
      " 25%|██▌       | 1/4 [01:12<03:37, 72.37s/it]"
     ]
    },
    {
     "name": "stdout",
     "output_type": "stream",
     "text": [
      "Stored results for coalition_size | 1\n",
      "Parameter coalition_size, value 2\n"
     ]
    },
    {
     "name": "stderr",
     "output_type": "stream",
     "text": [
      "\n",
      "  0%|          | 0/5 [00:00<?, ?it/s]\u001b[A\n",
      " 20%|██        | 1/5 [00:31<02:05, 31.32s/it]\u001b[A\n",
      " 40%|████      | 2/5 [01:02<01:34, 31.37s/it]\u001b[A\n",
      " 60%|██████    | 3/5 [01:33<01:02, 31.30s/it]\u001b[A\n",
      " 80%|████████  | 4/5 [02:05<00:31, 31.35s/it]\u001b[A\n",
      "100%|██████████| 5/5 [02:36<00:00, 31.34s/it]\u001b[A\n",
      " 50%|█████     | 2/4 [03:49<04:03, 121.99s/it]"
     ]
    },
    {
     "name": "stdout",
     "output_type": "stream",
     "text": [
      "Stored results for coalition_size | 2\n",
      "Parameter coalition_size, value 3\n"
     ]
    },
    {
     "name": "stderr",
     "output_type": "stream",
     "text": [
      "\n",
      "  0%|          | 0/5 [00:00<?, ?it/s]\u001b[A\n",
      " 20%|██        | 1/5 [00:42<02:51, 42.77s/it]\u001b[A\n",
      " 40%|████      | 2/5 [01:25<02:08, 42.78s/it]\u001b[A\n",
      " 60%|██████    | 3/5 [02:08<01:25, 42.66s/it]\u001b[A\n",
      " 80%|████████  | 4/5 [02:50<00:42, 42.55s/it]\u001b[A\n",
      "100%|██████████| 5/5 [03:32<00:00, 42.57s/it]\u001b[A\n",
      " 75%|███████▌  | 3/4 [07:21<02:43, 163.49s/it]"
     ]
    },
    {
     "name": "stdout",
     "output_type": "stream",
     "text": [
      "Stored results for coalition_size | 3\n",
      "Parameter coalition_size, value 4\n"
     ]
    },
    {
     "name": "stderr",
     "output_type": "stream",
     "text": [
      "\n",
      "  0%|          | 0/5 [00:00<?, ?it/s]\u001b[A\n",
      " 20%|██        | 1/5 [00:45<03:01, 45.42s/it]\u001b[A\n",
      " 40%|████      | 2/5 [01:31<02:16, 45.53s/it]\u001b[A\n",
      " 60%|██████    | 3/5 [02:16<01:31, 45.60s/it]\u001b[A\n",
      " 80%|████████  | 4/5 [03:02<00:45, 45.54s/it]\u001b[A\n",
      "100%|██████████| 5/5 [03:47<00:00, 45.51s/it]\u001b[A\n",
      "100%|██████████| 4/4 [11:09<00:00, 167.38s/it]\n"
     ]
    },
    {
     "name": "stdout",
     "output_type": "stream",
     "text": [
      "Stored results for coalition_size | 4\n",
      "Alternating parameter: sample_size\n"
     ]
    },
    {
     "name": "stderr",
     "output_type": "stream",
     "text": [
      "  0%|          | 0/6 [00:00<?, ?it/s]"
     ]
    },
    {
     "name": "stdout",
     "output_type": "stream",
     "text": [
      "Parameter sample_size, value 20\n"
     ]
    },
    {
     "name": "stderr",
     "output_type": "stream",
     "text": [
      "\n",
      "  0%|          | 0/5 [00:00<?, ?it/s]\u001b[A\n",
      " 20%|██        | 1/5 [00:01<00:05,  1.49s/it]\u001b[A\n",
      " 40%|████      | 2/5 [00:02<00:04,  1.50s/it]\u001b[A\n",
      " 60%|██████    | 3/5 [00:04<00:02,  1.50s/it]\u001b[A\n",
      " 80%|████████  | 4/5 [00:06<00:01,  1.51s/it]\u001b[A\n",
      "100%|██████████| 5/5 [00:07<00:00,  1.51s/it]\u001b[A\n",
      " 17%|█▋        | 1/6 [00:07<00:37,  7.55s/it]"
     ]
    },
    {
     "name": "stdout",
     "output_type": "stream",
     "text": [
      "Stored results for sample_size | 20\n",
      "Parameter sample_size, value 50\n"
     ]
    },
    {
     "name": "stderr",
     "output_type": "stream",
     "text": [
      "\n",
      "  0%|          | 0/5 [00:00<?, ?it/s]\u001b[A\n",
      " 20%|██        | 1/5 [00:02<00:10,  2.51s/it]\u001b[A\n",
      " 40%|████      | 2/5 [00:05<00:07,  2.51s/it]\u001b[A\n",
      " 60%|██████    | 3/5 [00:07<00:05,  2.53s/it]\u001b[A\n",
      " 80%|████████  | 4/5 [00:10<00:02,  2.51s/it]\u001b[A\n",
      "100%|██████████| 5/5 [00:12<00:00,  2.51s/it]\u001b[A\n",
      " 33%|███▎      | 2/6 [00:20<00:41, 10.48s/it]"
     ]
    },
    {
     "name": "stdout",
     "output_type": "stream",
     "text": [
      "Stored results for sample_size | 50\n",
      "Parameter sample_size, value 100\n"
     ]
    },
    {
     "name": "stderr",
     "output_type": "stream",
     "text": [
      "\n",
      "  0%|          | 0/5 [00:00<?, ?it/s]\u001b[A\n",
      " 20%|██        | 1/5 [00:04<00:16,  4.12s/it]\u001b[A\n",
      " 40%|████      | 2/5 [00:08<00:12,  4.12s/it]\u001b[A\n",
      " 60%|██████    | 3/5 [00:12<00:08,  4.12s/it]\u001b[A\n",
      " 80%|████████  | 4/5 [00:16<00:04,  4.13s/it]\u001b[A\n",
      "100%|██████████| 5/5 [00:20<00:00,  4.12s/it]\u001b[A\n",
      " 50%|█████     | 3/6 [00:40<00:45, 15.09s/it]"
     ]
    },
    {
     "name": "stdout",
     "output_type": "stream",
     "text": [
      "Stored results for sample_size | 100\n",
      "Parameter sample_size, value 250\n"
     ]
    },
    {
     "name": "stderr",
     "output_type": "stream",
     "text": [
      "\n",
      "  0%|          | 0/5 [00:00<?, ?it/s]\u001b[A\n",
      " 20%|██        | 1/5 [00:08<00:35,  8.90s/it]\u001b[A\n",
      " 40%|████      | 2/5 [00:17<00:26,  8.93s/it]\u001b[A\n",
      " 60%|██████    | 3/5 [00:26<00:17,  8.91s/it]\u001b[A\n",
      " 80%|████████  | 4/5 [00:35<00:08,  8.96s/it]\u001b[A\n",
      "100%|██████████| 5/5 [00:44<00:00,  8.94s/it]\u001b[A\n",
      " 67%|██████▋   | 4/6 [01:25<00:53, 26.79s/it]"
     ]
    },
    {
     "name": "stdout",
     "output_type": "stream",
     "text": [
      "Stored results for sample_size | 250\n",
      "Parameter sample_size, value 500\n"
     ]
    },
    {
     "name": "stderr",
     "output_type": "stream",
     "text": [
      "\n",
      "  0%|          | 0/5 [00:00<?, ?it/s]\u001b[A\n",
      " 20%|██        | 1/5 [00:16<01:07, 16.91s/it]\u001b[A\n",
      " 40%|████      | 2/5 [00:33<00:50, 16.91s/it]\u001b[A\n",
      " 60%|██████    | 3/5 [00:50<00:33, 16.88s/it]\u001b[A\n",
      " 80%|████████  | 4/5 [01:07<00:16, 16.87s/it]\u001b[A\n",
      "100%|██████████| 5/5 [01:24<00:00, 16.89s/it]\u001b[A\n",
      " 83%|████████▎ | 5/6 [02:49<00:47, 47.58s/it]"
     ]
    },
    {
     "name": "stdout",
     "output_type": "stream",
     "text": [
      "Stored results for sample_size | 500\n",
      "Parameter sample_size, value 1000\n"
     ]
    },
    {
     "name": "stderr",
     "output_type": "stream",
     "text": [
      "\n",
      "  0%|          | 0/5 [00:00<?, ?it/s]\u001b[A\n",
      " 20%|██        | 1/5 [00:33<02:12, 33.02s/it]\u001b[A\n",
      " 40%|████      | 2/5 [01:05<01:38, 32.82s/it]\u001b[A\n",
      " 60%|██████    | 3/5 [01:38<01:05, 32.91s/it]\u001b[A\n",
      " 80%|████████  | 4/5 [02:11<00:32, 32.84s/it]\u001b[A\n",
      "100%|██████████| 5/5 [02:44<00:00, 32.84s/it]\u001b[A\n",
      "100%|██████████| 6/6 [05:34<00:00, 55.67s/it]\n"
     ]
    },
    {
     "name": "stdout",
     "output_type": "stream",
     "text": [
      "Stored results for sample_size | 1000\n",
      "Alternating parameter: n_jobs\n"
     ]
    },
    {
     "name": "stderr",
     "output_type": "stream",
     "text": [
      "  0%|          | 0/7 [00:00<?, ?it/s]"
     ]
    },
    {
     "name": "stdout",
     "output_type": "stream",
     "text": [
      "Parameter n_jobs, value 1\n"
     ]
    },
    {
     "name": "stderr",
     "output_type": "stream",
     "text": [
      "\n",
      "  0%|          | 0/5 [00:00<?, ?it/s]\u001b[A\n",
      " 20%|██        | 1/5 [09:05<36:22, 545.52s/it]\u001b[A\n",
      " 40%|████      | 2/5 [18:10<27:15, 545.17s/it]\u001b[A\n",
      " 60%|██████    | 3/5 [27:16<18:10, 545.37s/it]\u001b[A\n",
      " 80%|████████  | 4/5 [36:21<09:05, 545.49s/it]\u001b[A\n",
      "100%|██████████| 5/5 [45:28<00:00, 545.69s/it]\u001b[A\n",
      " 14%|█▍        | 1/7 [45:28<4:32:50, 2728.45s/it]"
     ]
    },
    {
     "name": "stdout",
     "output_type": "stream",
     "text": [
      "Stored results for n_jobs | 1\n",
      "Parameter n_jobs, value 2\n"
     ]
    },
    {
     "name": "stderr",
     "output_type": "stream",
     "text": [
      "\n",
      "  0%|          | 0/5 [00:00<?, ?it/s]\u001b[A\n",
      " 20%|██        | 1/5 [04:57<19:49, 297.34s/it]\u001b[A\n",
      " 60%|██████    | 3/5 [14:50<09:53, 296.83s/it]\u001b[A\n",
      " 80%|████████  | 4/5 [19:47<04:56, 296.73s/it]\u001b[A\n",
      "100%|██████████| 5/5 [24:44<00:00, 296.86s/it]\u001b[A\n",
      " 29%|██▊       | 2/7 [1:10:12<2:46:23, 1996.60s/it]"
     ]
    },
    {
     "name": "stdout",
     "output_type": "stream",
     "text": [
      "Stored results for n_jobs | 2\n",
      "Parameter n_jobs, value 4\n"
     ]
    },
    {
     "name": "stderr",
     "output_type": "stream",
     "text": [
      "\n",
      "  0%|          | 0/5 [00:00<?, ?it/s]\u001b[A\n",
      " 20%|██        | 1/5 [02:26<09:47, 146.88s/it]\u001b[A\n",
      " 40%|████      | 2/5 [04:52<07:19, 146.40s/it]\u001b[A\n",
      " 80%|████████  | 4/5 [09:45<02:26, 146.38s/it]\u001b[A\n",
      "100%|██████████| 5/5 [12:12<00:00, 146.44s/it]\u001b[A\n",
      " 43%|████▎     | 3/7 [1:22:24<1:34:37, 1419.25s/it]"
     ]
    },
    {
     "name": "stdout",
     "output_type": "stream",
     "text": [
      "Stored results for n_jobs | 4\n",
      "Parameter n_jobs, value 8\n"
     ]
    },
    {
     "name": "stderr",
     "output_type": "stream",
     "text": [
      "\n",
      "  0%|          | 0/5 [00:00<?, ?it/s]\u001b[A\n",
      " 20%|██        | 1/5 [01:19<05:18, 79.61s/it]\u001b[A\n",
      " 40%|████      | 2/5 [02:38<03:57, 79.10s/it]\u001b[A\n",
      " 60%|██████    | 3/5 [03:57<02:38, 79.05s/it]\u001b[A\n",
      " 80%|████████  | 4/5 [05:16<01:18, 78.99s/it]\u001b[A\n",
      "100%|██████████| 5/5 [06:35<00:00, 79.11s/it]\u001b[A\n",
      " 57%|█████▋    | 4/7 [1:29:00<50:45, 1015.10s/it]  "
     ]
    },
    {
     "name": "stdout",
     "output_type": "stream",
     "text": [
      "Stored results for n_jobs | 8\n",
      "Parameter n_jobs, value 16\n"
     ]
    },
    {
     "name": "stderr",
     "output_type": "stream",
     "text": [
      "\n",
      "  0%|          | 0/5 [00:00<?, ?it/s]\u001b[A\n",
      " 20%|██        | 1/5 [00:43<02:55, 43.85s/it]\u001b[A\n",
      " 40%|████      | 2/5 [01:27<02:11, 43.86s/it]\u001b[A\n",
      " 60%|██████    | 3/5 [02:11<01:27, 43.67s/it]\u001b[A\n",
      " 80%|████████  | 4/5 [02:54<00:43, 43.46s/it]\u001b[A\n",
      "100%|██████████| 5/5 [03:38<00:00, 43.62s/it]\u001b[A\n",
      " 71%|███████▏  | 5/7 [1:32:38<24:15, 727.69s/it] "
     ]
    },
    {
     "name": "stdout",
     "output_type": "stream",
     "text": [
      "Stored results for n_jobs | 16\n",
      "Parameter n_jobs, value 32\n"
     ]
    },
    {
     "name": "stderr",
     "output_type": "stream",
     "text": [
      "\n",
      "  0%|          | 0/5 [00:00<?, ?it/s]\u001b[A\n",
      " 20%|██        | 1/5 [00:43<02:55, 43.85s/it]\u001b[A\n",
      " 40%|████      | 2/5 [01:27<02:10, 43.59s/it]\u001b[A\n",
      " 60%|██████    | 3/5 [02:10<01:26, 43.41s/it]\u001b[A\n",
      " 80%|████████  | 4/5 [02:53<00:43, 43.37s/it]\u001b[A\n",
      "100%|██████████| 5/5 [03:37<00:00, 43.44s/it]\u001b[A\n",
      " 86%|████████▌ | 6/7 [1:36:15<09:14, 554.12s/it]"
     ]
    },
    {
     "name": "stdout",
     "output_type": "stream",
     "text": [
      "Stored results for n_jobs | 32\n",
      "Parameter n_jobs, value 48\n"
     ]
    },
    {
     "name": "stderr",
     "output_type": "stream",
     "text": [
      "\n",
      "  0%|          | 0/5 [00:00<?, ?it/s]\u001b[A\n",
      " 20%|██        | 1/5 [00:43<02:54, 43.73s/it]\u001b[A\n",
      " 40%|████      | 2/5 [01:26<02:09, 43.17s/it]\u001b[A\n",
      " 60%|██████    | 3/5 [02:09<01:25, 42.96s/it]\u001b[A\n",
      " 80%|████████  | 4/5 [02:51<00:42, 42.76s/it]\u001b[A\n",
      "100%|██████████| 5/5 [03:34<00:00, 42.97s/it]\u001b[A\n",
      "100%|██████████| 7/7 [1:39:50<00:00, 855.80s/it]\n"
     ]
    },
    {
     "name": "stdout",
     "output_type": "stream",
     "text": [
      "Stored results for n_jobs | 48\n",
      "---------------- ATP | rank ----------------\n",
      "Exact computation\n"
     ]
    },
    {
     "name": "stderr",
     "output_type": "stream",
     "text": [
      "100%|██████████| 5/5 [00:16<00:00,  3.24s/it]\n"
     ]
    },
    {
     "name": "stdout",
     "output_type": "stream",
     "text": [
      "Finished computing exact results\n",
      "Alternating parameter: coalition_size\n"
     ]
    },
    {
     "name": "stderr",
     "output_type": "stream",
     "text": [
      "  0%|          | 0/5 [00:00<?, ?it/s]"
     ]
    },
    {
     "name": "stdout",
     "output_type": "stream",
     "text": [
      "Parameter coalition_size, value 1\n"
     ]
    },
    {
     "name": "stderr",
     "output_type": "stream",
     "text": [
      "\n",
      "  0%|          | 0/5 [00:00<?, ?it/s]\u001b[A\n",
      " 20%|██        | 1/5 [00:00<00:02,  1.36it/s]\u001b[A\n",
      " 40%|████      | 2/5 [00:01<00:02,  1.37it/s]\u001b[A\n",
      " 60%|██████    | 3/5 [00:02<00:01,  1.37it/s]\u001b[A\n",
      " 80%|████████  | 4/5 [00:02<00:00,  1.37it/s]\u001b[A\n",
      "100%|██████████| 5/5 [00:03<00:00,  1.37it/s]\u001b[A\n",
      " 20%|██        | 1/5 [00:03<00:14,  3.65s/it]"
     ]
    },
    {
     "name": "stdout",
     "output_type": "stream",
     "text": [
      "Stored results for coalition_size | 1\n",
      "Parameter coalition_size, value 2\n"
     ]
    },
    {
     "name": "stderr",
     "output_type": "stream",
     "text": [
      "\n",
      "  0%|          | 0/5 [00:00<?, ?it/s]\u001b[A\n",
      " 20%|██        | 1/5 [00:01<00:05,  1.49s/it]\u001b[A\n",
      " 40%|████      | 2/5 [00:02<00:04,  1.48s/it]\u001b[A\n",
      " 60%|██████    | 3/5 [00:04<00:02,  1.49s/it]\u001b[A\n",
      " 80%|████████  | 4/5 [00:06<00:01,  1.51s/it]\u001b[A\n",
      "100%|██████████| 5/5 [00:07<00:00,  1.51s/it]\u001b[A\n",
      " 40%|████      | 2/5 [00:11<00:17,  5.95s/it]"
     ]
    },
    {
     "name": "stdout",
     "output_type": "stream",
     "text": [
      "Stored results for coalition_size | 2\n",
      "Parameter coalition_size, value 3\n"
     ]
    },
    {
     "name": "stderr",
     "output_type": "stream",
     "text": [
      "\n",
      "  0%|          | 0/5 [00:00<?, ?it/s]\u001b[A\n",
      " 20%|██        | 1/5 [00:02<00:09,  2.25s/it]\u001b[A\n",
      " 40%|████      | 2/5 [00:04<00:06,  2.27s/it]\u001b[A\n",
      " 60%|██████    | 3/5 [00:06<00:04,  2.28s/it]\u001b[A\n",
      " 80%|████████  | 4/5 [00:09<00:02,  2.28s/it]\u001b[A\n",
      "100%|██████████| 5/5 [00:11<00:00,  2.27s/it]\u001b[A\n",
      " 60%|██████    | 3/5 [00:22<00:16,  8.41s/it]"
     ]
    },
    {
     "name": "stdout",
     "output_type": "stream",
     "text": [
      "Stored results for coalition_size | 3\n",
      "Parameter coalition_size, value 4\n"
     ]
    },
    {
     "name": "stderr",
     "output_type": "stream",
     "text": [
      "\n",
      "  0%|          | 0/5 [00:00<?, ?it/s]\u001b[A\n",
      " 20%|██        | 1/5 [00:02<00:10,  2.60s/it]\u001b[A\n",
      " 40%|████      | 2/5 [00:05<00:07,  2.60s/it]\u001b[A\n",
      " 60%|██████    | 3/5 [00:07<00:05,  2.62s/it]\u001b[A\n",
      " 80%|████████  | 4/5 [00:10<00:02,  2.64s/it]\u001b[A\n",
      "100%|██████████| 5/5 [00:13<00:00,  2.63s/it]\u001b[A\n",
      " 80%|████████  | 4/5 [00:35<00:10, 10.29s/it]"
     ]
    },
    {
     "name": "stdout",
     "output_type": "stream",
     "text": [
      "Stored results for coalition_size | 4\n",
      "Parameter coalition_size, value 5\n"
     ]
    },
    {
     "name": "stderr",
     "output_type": "stream",
     "text": [
      "\n",
      "  0%|          | 0/5 [00:00<?, ?it/s]\u001b[A\n",
      " 20%|██        | 1/5 [00:02<00:10,  2.74s/it]\u001b[A\n",
      " 40%|████      | 2/5 [00:05<00:08,  2.73s/it]\u001b[A\n",
      " 60%|██████    | 3/5 [00:08<00:05,  2.71s/it]\u001b[A\n",
      " 80%|████████  | 4/5 [00:10<00:02,  2.70s/it]\u001b[A\n",
      "100%|██████████| 5/5 [00:13<00:00,  2.70s/it]\u001b[A\n",
      "100%|██████████| 5/5 [00:49<00:00,  9.85s/it]\n"
     ]
    },
    {
     "name": "stdout",
     "output_type": "stream",
     "text": [
      "Stored results for coalition_size | 5\n",
      "Alternating parameter: sample_size\n"
     ]
    },
    {
     "name": "stderr",
     "output_type": "stream",
     "text": [
      "  0%|          | 0/2 [00:00<?, ?it/s]"
     ]
    },
    {
     "name": "stdout",
     "output_type": "stream",
     "text": [
      "Parameter sample_size, value 20\n"
     ]
    },
    {
     "name": "stderr",
     "output_type": "stream",
     "text": [
      "\n",
      "  0%|          | 0/5 [00:00<?, ?it/s]\u001b[A\n",
      " 20%|██        | 1/5 [00:00<00:03,  1.04it/s]\u001b[A\n",
      " 40%|████      | 2/5 [00:01<00:02,  1.03it/s]\u001b[A\n",
      " 60%|██████    | 3/5 [00:02<00:01,  1.03it/s]\u001b[A\n",
      " 80%|████████  | 4/5 [00:03<00:00,  1.02it/s]\u001b[A\n",
      "100%|██████████| 5/5 [00:04<00:00,  1.03it/s]\u001b[A\n",
      " 50%|█████     | 1/2 [00:04<00:04,  4.85s/it]"
     ]
    },
    {
     "name": "stdout",
     "output_type": "stream",
     "text": [
      "Stored results for sample_size | 20\n",
      "Parameter sample_size, value 50\n"
     ]
    },
    {
     "name": "stderr",
     "output_type": "stream",
     "text": [
      "\n",
      "  0%|          | 0/5 [00:00<?, ?it/s]\u001b[A\n",
      " 20%|██        | 1/5 [00:01<00:07,  1.76s/it]\u001b[A\n",
      " 40%|████      | 2/5 [00:03<00:05,  1.81s/it]\u001b[A\n",
      " 60%|██████    | 3/5 [00:05<00:03,  1.82s/it]\u001b[A\n",
      " 80%|████████  | 4/5 [00:07<00:01,  1.81s/it]\u001b[A\n",
      "100%|██████████| 5/5 [00:09<00:00,  1.81s/it]\u001b[A\n",
      "100%|██████████| 2/2 [00:13<00:00,  6.94s/it]\n"
     ]
    },
    {
     "name": "stdout",
     "output_type": "stream",
     "text": [
      "Stored results for sample_size | 50\n",
      "Alternating parameter: n_jobs\n"
     ]
    },
    {
     "name": "stderr",
     "output_type": "stream",
     "text": [
      "  0%|          | 0/7 [00:00<?, ?it/s]"
     ]
    },
    {
     "name": "stdout",
     "output_type": "stream",
     "text": [
      "Parameter n_jobs, value 1\n"
     ]
    },
    {
     "name": "stderr",
     "output_type": "stream",
     "text": [
      "\n",
      "  0%|          | 0/5 [00:00<?, ?it/s]\u001b[A\n",
      " 20%|██        | 1/5 [00:29<01:57, 29.26s/it]\u001b[A\n",
      " 40%|████      | 2/5 [00:58<01:27, 29.29s/it]\u001b[A\n",
      " 60%|██████    | 3/5 [01:27<00:58, 29.26s/it]\u001b[A\n",
      " 80%|████████  | 4/5 [01:57<00:29, 29.27s/it]\u001b[A\n",
      "100%|██████████| 5/5 [02:26<00:00, 29.27s/it]\u001b[A\n",
      " 14%|█▍        | 1/7 [02:26<14:38, 146.36s/it]"
     ]
    },
    {
     "name": "stdout",
     "output_type": "stream",
     "text": [
      "Stored results for n_jobs | 1\n",
      "Parameter n_jobs, value 2\n"
     ]
    },
    {
     "name": "stderr",
     "output_type": "stream",
     "text": [
      "\n",
      "  0%|          | 0/5 [00:00<?, ?it/s]\u001b[A\n",
      " 20%|██        | 1/5 [00:16<01:06, 16.56s/it]\u001b[A\n",
      " 40%|████      | 2/5 [00:31<00:47, 15.75s/it]\u001b[A\n",
      " 60%|██████    | 3/5 [00:47<00:31, 15.61s/it]\u001b[A\n",
      " 80%|████████  | 4/5 [01:02<00:15, 15.58s/it]\u001b[A\n",
      "100%|██████████| 5/5 [01:18<00:00, 15.70s/it]\u001b[A\n",
      " 29%|██▊       | 2/7 [03:44<08:52, 106.44s/it]"
     ]
    },
    {
     "name": "stdout",
     "output_type": "stream",
     "text": [
      "Stored results for n_jobs | 2\n",
      "Parameter n_jobs, value 4\n"
     ]
    },
    {
     "name": "stderr",
     "output_type": "stream",
     "text": [
      "\n",
      "  0%|          | 0/5 [00:00<?, ?it/s]\u001b[A\n",
      " 20%|██        | 1/5 [00:08<00:34,  8.56s/it]\u001b[A\n",
      " 40%|████      | 2/5 [00:16<00:24,  8.17s/it]\u001b[A\n",
      " 60%|██████    | 3/5 [00:24<00:15,  7.99s/it]\u001b[A\n",
      " 80%|████████  | 4/5 [00:31<00:07,  7.88s/it]\u001b[A\n",
      "100%|██████████| 5/5 [00:39<00:00,  7.97s/it]\u001b[A\n",
      " 43%|████▎     | 3/7 [04:24<05:04, 76.04s/it] "
     ]
    },
    {
     "name": "stdout",
     "output_type": "stream",
     "text": [
      "Stored results for n_jobs | 4\n",
      "Parameter n_jobs, value 8\n"
     ]
    },
    {
     "name": "stderr",
     "output_type": "stream",
     "text": [
      "\n",
      "  0%|          | 0/5 [00:00<?, ?it/s]\u001b[A\n",
      " 20%|██        | 1/5 [00:05<00:20,  5.12s/it]\u001b[A\n",
      " 40%|████      | 2/5 [00:09<00:13,  4.51s/it]\u001b[A\n",
      " 60%|██████    | 3/5 [00:13<00:08,  4.33s/it]\u001b[A\n",
      " 80%|████████  | 4/5 [00:17<00:04,  4.25s/it]\u001b[A\n",
      "100%|██████████| 5/5 [00:21<00:00,  4.32s/it]\u001b[A\n",
      " 57%|█████▋    | 4/7 [04:46<02:43, 54.55s/it]"
     ]
    },
    {
     "name": "stdout",
     "output_type": "stream",
     "text": [
      "Stored results for n_jobs | 8\n",
      "Parameter n_jobs, value 16\n"
     ]
    },
    {
     "name": "stderr",
     "output_type": "stream",
     "text": [
      "\n",
      "  0%|          | 0/5 [00:00<?, ?it/s]\u001b[A\n",
      " 20%|██        | 1/5 [00:03<00:12,  3.12s/it]\u001b[A\n",
      " 40%|████      | 2/5 [00:05<00:08,  2.80s/it]\u001b[A\n",
      " 60%|██████    | 3/5 [00:08<00:05,  2.67s/it]\u001b[A\n",
      " 80%|████████  | 4/5 [00:10<00:02,  2.62s/it]\u001b[A\n",
      "100%|██████████| 5/5 [00:13<00:00,  2.66s/it]\u001b[A\n",
      " 71%|███████▏  | 5/7 [04:59<01:19, 39.68s/it]"
     ]
    },
    {
     "name": "stdout",
     "output_type": "stream",
     "text": [
      "Stored results for n_jobs | 16\n",
      "Parameter n_jobs, value 32\n"
     ]
    },
    {
     "name": "stderr",
     "output_type": "stream",
     "text": [
      "\n",
      "  0%|          | 0/5 [00:00<?, ?it/s]\u001b[A\n",
      " 20%|██        | 1/5 [00:03<00:14,  3.54s/it]\u001b[A\n",
      " 40%|████      | 2/5 [00:06<00:08,  2.93s/it]\u001b[A\n",
      " 60%|██████    | 3/5 [00:08<00:05,  2.82s/it]\u001b[A\n",
      " 80%|████████  | 4/5 [00:11<00:02,  2.75s/it]\u001b[A\n",
      "100%|██████████| 5/5 [00:13<00:00,  2.78s/it]\u001b[A\n",
      " 86%|████████▌ | 6/7 [05:13<00:30, 30.92s/it]"
     ]
    },
    {
     "name": "stdout",
     "output_type": "stream",
     "text": [
      "Stored results for n_jobs | 32\n",
      "Parameter n_jobs, value 48\n"
     ]
    },
    {
     "name": "stderr",
     "output_type": "stream",
     "text": [
      "\n",
      "  0%|          | 0/5 [00:00<?, ?it/s]\u001b[A\n",
      " 20%|██        | 1/5 [00:03<00:13,  3.44s/it]\u001b[A\n",
      " 40%|████      | 2/5 [00:05<00:08,  2.90s/it]\u001b[A\n",
      " 60%|██████    | 3/5 [00:08<00:05,  2.77s/it]\u001b[A\n",
      " 80%|████████  | 4/5 [00:11<00:02,  2.67s/it]\u001b[A\n",
      "100%|██████████| 5/5 [00:13<00:00,  2.73s/it]\u001b[A\n",
      "100%|██████████| 7/7 [05:27<00:00, 46.75s/it]\n"
     ]
    },
    {
     "name": "stdout",
     "output_type": "stream",
     "text": [
      "Stored results for n_jobs | 48\n",
      "---------------- CSRank | rank ----------------\n",
      "Exact computation\n"
     ]
    },
    {
     "name": "stderr",
     "output_type": "stream",
     "text": [
      "100%|██████████| 5/5 [00:33<00:00,  6.67s/it]\n"
     ]
    },
    {
     "name": "stdout",
     "output_type": "stream",
     "text": [
      "Finished computing exact results\n",
      "Alternating parameter: coalition_size\n"
     ]
    },
    {
     "name": "stderr",
     "output_type": "stream",
     "text": [
      "  0%|          | 0/4 [00:00<?, ?it/s]"
     ]
    },
    {
     "name": "stdout",
     "output_type": "stream",
     "text": [
      "Parameter coalition_size, value 1\n"
     ]
    },
    {
     "name": "stderr",
     "output_type": "stream",
     "text": [
      "\n",
      "  0%|          | 0/5 [00:00<?, ?it/s]\u001b[A\n",
      " 20%|██        | 1/5 [00:02<00:08,  2.12s/it]\u001b[A\n",
      " 40%|████      | 2/5 [00:04<00:06,  2.12s/it]\u001b[A\n",
      " 60%|██████    | 3/5 [00:06<00:04,  2.12s/it]\u001b[A\n",
      " 80%|████████  | 4/5 [00:08<00:02,  2.10s/it]\u001b[A\n",
      "100%|██████████| 5/5 [00:10<00:00,  2.11s/it]\u001b[A\n",
      " 25%|██▌       | 1/4 [00:10<00:31, 10.56s/it]"
     ]
    },
    {
     "name": "stdout",
     "output_type": "stream",
     "text": [
      "Stored results for coalition_size | 1\n",
      "Parameter coalition_size, value 2\n"
     ]
    },
    {
     "name": "stderr",
     "output_type": "stream",
     "text": [
      "\n",
      "  0%|          | 0/5 [00:00<?, ?it/s]\u001b[A\n",
      " 20%|██        | 1/5 [00:04<00:17,  4.26s/it]\u001b[A\n",
      " 40%|████      | 2/5 [00:08<00:12,  4.19s/it]\u001b[A\n",
      " 60%|██████    | 3/5 [00:12<00:08,  4.17s/it]\u001b[A\n",
      " 80%|████████  | 4/5 [00:16<00:04,  4.23s/it]\u001b[A\n",
      "100%|██████████| 5/5 [00:21<00:00,  4.22s/it]\u001b[A\n",
      " 50%|█████     | 2/4 [00:31<00:33, 16.76s/it]"
     ]
    },
    {
     "name": "stdout",
     "output_type": "stream",
     "text": [
      "Stored results for coalition_size | 2\n",
      "Parameter coalition_size, value 3\n"
     ]
    },
    {
     "name": "stderr",
     "output_type": "stream",
     "text": [
      "\n",
      "  0%|          | 0/5 [00:00<?, ?it/s]\u001b[A\n",
      " 20%|██        | 1/5 [00:05<00:22,  5.62s/it]\u001b[A\n",
      " 40%|████      | 2/5 [00:11<00:16,  5.57s/it]\u001b[A\n",
      " 60%|██████    | 3/5 [00:16<00:11,  5.59s/it]\u001b[A\n",
      " 80%|████████  | 4/5 [00:22<00:05,  5.63s/it]\u001b[A\n",
      "100%|██████████| 5/5 [00:28<00:00,  5.62s/it]\u001b[A\n",
      " 75%|███████▌  | 3/4 [00:59<00:21, 21.95s/it]"
     ]
    },
    {
     "name": "stdout",
     "output_type": "stream",
     "text": [
      "Stored results for coalition_size | 3\n",
      "Parameter coalition_size, value 4\n"
     ]
    },
    {
     "name": "stderr",
     "output_type": "stream",
     "text": [
      "\n",
      "  0%|          | 0/5 [00:00<?, ?it/s]\u001b[A\n",
      " 20%|██        | 1/5 [00:05<00:23,  5.91s/it]\u001b[A\n",
      " 40%|████      | 2/5 [00:11<00:17,  5.94s/it]\u001b[A\n",
      " 60%|██████    | 3/5 [00:17<00:11,  5.94s/it]\u001b[A\n",
      " 80%|████████  | 4/5 [00:23<00:05,  5.92s/it]\u001b[A\n",
      "100%|██████████| 5/5 [00:29<00:00,  5.92s/it]\u001b[A\n",
      "100%|██████████| 4/4 [01:29<00:00, 22.35s/it]\n"
     ]
    },
    {
     "name": "stdout",
     "output_type": "stream",
     "text": [
      "Stored results for coalition_size | 4\n",
      "Alternating parameter: sample_size\n"
     ]
    },
    {
     "name": "stderr",
     "output_type": "stream",
     "text": [
      "  0%|          | 0/3 [00:00<?, ?it/s]"
     ]
    },
    {
     "name": "stdout",
     "output_type": "stream",
     "text": [
      "Parameter sample_size, value 20\n"
     ]
    },
    {
     "name": "stderr",
     "output_type": "stream",
     "text": [
      "\n",
      "  0%|          | 0/5 [00:00<?, ?it/s]\u001b[A\n",
      " 20%|██        | 1/5 [00:00<00:03,  1.02it/s]\u001b[A\n",
      " 40%|████      | 2/5 [00:01<00:02,  1.02it/s]\u001b[A\n",
      " 60%|██████    | 3/5 [00:02<00:02,  1.00s/it]\u001b[A\n",
      " 80%|████████  | 4/5 [00:03<00:01,  1.00s/it]\u001b[A\n",
      "100%|██████████| 5/5 [00:05<00:00,  1.00s/it]\u001b[A\n",
      " 33%|███▎      | 1/3 [00:05<00:10,  5.00s/it]"
     ]
    },
    {
     "name": "stdout",
     "output_type": "stream",
     "text": [
      "Stored results for sample_size | 20\n",
      "Parameter sample_size, value 50\n"
     ]
    },
    {
     "name": "stderr",
     "output_type": "stream",
     "text": [
      "\n",
      "  0%|          | 0/5 [00:00<?, ?it/s]\u001b[A\n",
      " 20%|██        | 1/5 [00:01<00:07,  1.88s/it]\u001b[A\n",
      " 40%|████      | 2/5 [00:03<00:05,  1.88s/it]\u001b[A\n",
      " 60%|██████    | 3/5 [00:05<00:03,  1.86s/it]\u001b[A\n",
      " 80%|████████  | 4/5 [00:07<00:01,  1.86s/it]\u001b[A\n",
      "100%|██████████| 5/5 [00:09<00:00,  1.86s/it]\u001b[A\n",
      " 67%|██████▋   | 2/3 [00:14<00:07,  7.53s/it]"
     ]
    },
    {
     "name": "stdout",
     "output_type": "stream",
     "text": [
      "Stored results for sample_size | 50\n",
      "Parameter sample_size, value 100\n"
     ]
    },
    {
     "name": "stderr",
     "output_type": "stream",
     "text": [
      "\n",
      "  0%|          | 0/5 [00:00<?, ?it/s]\u001b[A\n",
      " 20%|██        | 1/5 [00:03<00:12,  3.21s/it]\u001b[A\n",
      " 40%|████      | 2/5 [00:06<00:09,  3.26s/it]\u001b[A\n",
      " 60%|██████    | 3/5 [00:09<00:06,  3.25s/it]\u001b[A\n",
      " 80%|████████  | 4/5 [00:13<00:03,  3.28s/it]\u001b[A\n",
      "100%|██████████| 5/5 [00:16<00:00,  3.26s/it]\u001b[A\n",
      "100%|██████████| 3/3 [00:30<00:00, 10.20s/it]\n"
     ]
    },
    {
     "name": "stdout",
     "output_type": "stream",
     "text": [
      "Stored results for sample_size | 100\n",
      "Alternating parameter: n_jobs\n"
     ]
    },
    {
     "name": "stderr",
     "output_type": "stream",
     "text": [
      "  0%|          | 0/7 [00:00<?, ?it/s]"
     ]
    },
    {
     "name": "stdout",
     "output_type": "stream",
     "text": [
      "Parameter n_jobs, value 1\n"
     ]
    },
    {
     "name": "stderr",
     "output_type": "stream",
     "text": [
      "\n",
      "  0%|          | 0/5 [00:00<?, ?it/s]\u001b[A\n",
      " 20%|██        | 1/5 [01:07<04:29, 67.34s/it]\u001b[A\n",
      " 40%|████      | 2/5 [02:14<03:22, 67.47s/it]\u001b[A\n",
      " 60%|██████    | 3/5 [03:22<02:14, 67.38s/it]\u001b[A\n",
      " 80%|████████  | 4/5 [04:29<01:07, 67.43s/it]\u001b[A\n",
      "100%|██████████| 5/5 [05:37<00:00, 67.40s/it]\u001b[A\n",
      " 14%|█▍        | 1/7 [05:37<33:42, 337.00s/it]"
     ]
    },
    {
     "name": "stdout",
     "output_type": "stream",
     "text": [
      "Stored results for n_jobs | 1\n",
      "Parameter n_jobs, value 2\n"
     ]
    },
    {
     "name": "stderr",
     "output_type": "stream",
     "text": [
      "\n",
      "  0%|          | 0/5 [00:00<?, ?it/s]\u001b[A\n",
      " 20%|██        | 1/5 [00:36<02:25, 36.44s/it]\u001b[A\n",
      " 40%|████      | 2/5 [01:11<01:47, 35.85s/it]\u001b[A\n",
      " 60%|██████    | 3/5 [01:46<01:11, 35.50s/it]\u001b[A\n",
      " 80%|████████  | 4/5 [02:22<00:35, 35.56s/it]\u001b[A\n",
      "100%|██████████| 5/5 [02:57<00:00, 35.56s/it]\u001b[A\n",
      " 29%|██▊       | 2/7 [08:34<20:16, 243.35s/it]"
     ]
    },
    {
     "name": "stdout",
     "output_type": "stream",
     "text": [
      "Stored results for n_jobs | 2\n",
      "Parameter n_jobs, value 4\n"
     ]
    },
    {
     "name": "stderr",
     "output_type": "stream",
     "text": [
      "\n",
      "  0%|          | 0/5 [00:00<?, ?it/s]\u001b[A\n",
      " 20%|██        | 1/5 [00:18<01:15, 18.77s/it]\u001b[A\n",
      " 40%|████      | 2/5 [00:36<00:54, 18.14s/it]\u001b[A\n",
      " 60%|██████    | 3/5 [00:54<00:35, 17.99s/it]\u001b[A\n",
      " 80%|████████  | 4/5 [01:12<00:17, 17.92s/it]\u001b[A\n",
      "100%|██████████| 5/5 [01:29<00:00, 17.98s/it]\u001b[A\n",
      " 43%|████▎     | 3/7 [10:04<11:33, 173.29s/it]"
     ]
    },
    {
     "name": "stdout",
     "output_type": "stream",
     "text": [
      "Stored results for n_jobs | 4\n",
      "Parameter n_jobs, value 8\n"
     ]
    },
    {
     "name": "stderr",
     "output_type": "stream",
     "text": [
      "\n",
      "  0%|          | 0/5 [00:00<?, ?it/s]\u001b[A\n",
      " 20%|██        | 1/5 [00:10<00:40, 10.17s/it]\u001b[A\n",
      " 40%|████      | 2/5 [00:19<00:29,  9.72s/it]\u001b[A\n",
      " 60%|██████    | 3/5 [00:28<00:18,  9.47s/it]\u001b[A\n",
      " 80%|████████  | 4/5 [00:38<00:09,  9.41s/it]\u001b[A\n",
      "100%|██████████| 5/5 [00:47<00:00,  9.47s/it]\u001b[A\n",
      " 57%|█████▋    | 4/7 [10:52<06:10, 123.58s/it]"
     ]
    },
    {
     "name": "stdout",
     "output_type": "stream",
     "text": [
      "Stored results for n_jobs | 8\n",
      "Parameter n_jobs, value 16\n"
     ]
    },
    {
     "name": "stderr",
     "output_type": "stream",
     "text": [
      "\n",
      "  0%|          | 0/5 [00:00<?, ?it/s]\u001b[A\n",
      " 20%|██        | 1/5 [00:05<00:23,  5.99s/it]\u001b[A\n",
      " 40%|████      | 2/5 [00:11<00:17,  5.74s/it]\u001b[A\n",
      " 60%|██████    | 3/5 [00:17<00:11,  5.67s/it]\u001b[A\n",
      " 80%|████████  | 4/5 [00:22<00:05,  5.62s/it]\u001b[A\n",
      "100%|██████████| 5/5 [00:28<00:00,  5.65s/it]\u001b[A\n",
      " 71%|███████▏  | 5/7 [11:20<02:58, 89.20s/it] "
     ]
    },
    {
     "name": "stdout",
     "output_type": "stream",
     "text": [
      "Stored results for n_jobs | 16\n",
      "Parameter n_jobs, value 32\n"
     ]
    },
    {
     "name": "stderr",
     "output_type": "stream",
     "text": [
      "\n",
      "  0%|          | 0/5 [00:00<?, ?it/s]\u001b[A\n",
      " 20%|██        | 1/5 [00:06<00:25,  6.44s/it]\u001b[A\n",
      " 40%|████      | 2/5 [00:11<00:17,  5.90s/it]\u001b[A\n",
      " 60%|██████    | 3/5 [00:17<00:11,  5.72s/it]\u001b[A\n",
      " 80%|████████  | 4/5 [00:23<00:05,  5.65s/it]\u001b[A\n",
      "100%|██████████| 5/5 [00:28<00:00,  5.72s/it]\u001b[A\n",
      " 86%|████████▌ | 6/7 [11:48<01:08, 68.61s/it]"
     ]
    },
    {
     "name": "stdout",
     "output_type": "stream",
     "text": [
      "Stored results for n_jobs | 32\n",
      "Parameter n_jobs, value 48\n"
     ]
    },
    {
     "name": "stderr",
     "output_type": "stream",
     "text": [
      "\n",
      "  0%|          | 0/5 [00:00<?, ?it/s]\u001b[A\n",
      " 20%|██        | 1/5 [00:06<00:25,  6.41s/it]\u001b[A\n",
      " 40%|████      | 2/5 [00:11<00:17,  5.82s/it]\u001b[A\n",
      " 60%|██████    | 3/5 [00:17<00:11,  5.76s/it]\u001b[A\n",
      " 80%|████████  | 4/5 [00:23<00:05,  5.68s/it]\u001b[A\n",
      "100%|██████████| 5/5 [00:28<00:00,  5.73s/it]\u001b[A\n",
      "100%|██████████| 7/7 [12:17<00:00, 105.37s/it]\n"
     ]
    },
    {
     "name": "stdout",
     "output_type": "stream",
     "text": [
      "Stored results for n_jobs | 48\n",
      "---------------- Synthetic_2 | rank ----------------\n",
      "Exact computation\n"
     ]
    },
    {
     "name": "stderr",
     "output_type": "stream",
     "text": [
      "100%|██████████| 5/5 [01:08<00:00, 13.62s/it]\n"
     ]
    },
    {
     "name": "stdout",
     "output_type": "stream",
     "text": [
      "Finished computing exact results\n",
      "Alternating parameter: coalition_size\n"
     ]
    },
    {
     "name": "stderr",
     "output_type": "stream",
     "text": [
      "  0%|          | 0/2 [00:00<?, ?it/s]"
     ]
    },
    {
     "name": "stdout",
     "output_type": "stream",
     "text": [
      "Parameter coalition_size, value 1\n"
     ]
    },
    {
     "name": "stderr",
     "output_type": "stream",
     "text": [
      "\n",
      "  0%|          | 0/5 [00:00<?, ?it/s]\u001b[A\n",
      " 20%|██        | 1/5 [00:09<00:38,  9.75s/it]\u001b[A\n",
      " 40%|████      | 2/5 [00:19<00:29,  9.80s/it]\u001b[A\n",
      " 60%|██████    | 3/5 [00:29<00:19,  9.78s/it]\u001b[A\n",
      " 80%|████████  | 4/5 [00:39<00:09,  9.75s/it]\u001b[A\n",
      "100%|██████████| 5/5 [00:48<00:00,  9.78s/it]\u001b[A\n",
      " 50%|█████     | 1/2 [00:48<00:48, 48.88s/it]"
     ]
    },
    {
     "name": "stdout",
     "output_type": "stream",
     "text": [
      "Stored results for coalition_size | 1\n",
      "Parameter coalition_size, value 2\n"
     ]
    },
    {
     "name": "stderr",
     "output_type": "stream",
     "text": [
      "\n",
      "  0%|          | 0/5 [00:00<?, ?it/s]\u001b[A\n",
      " 20%|██        | 1/5 [00:13<00:52, 13.07s/it]\u001b[A\n",
      " 40%|████      | 2/5 [00:26<00:39, 13.00s/it]\u001b[A\n",
      " 60%|██████    | 3/5 [00:39<00:26, 13.06s/it]\u001b[A\n",
      " 80%|████████  | 4/5 [00:52<00:13, 13.03s/it]\u001b[A\n",
      "100%|██████████| 5/5 [01:05<00:00, 13.02s/it]\u001b[A\n",
      "100%|██████████| 2/2 [01:53<00:00, 57.00s/it]\n"
     ]
    },
    {
     "name": "stdout",
     "output_type": "stream",
     "text": [
      "Stored results for coalition_size | 2\n",
      "Alternating parameter: sample_size\n"
     ]
    },
    {
     "name": "stderr",
     "output_type": "stream",
     "text": [
      "  0%|          | 0/7 [00:00<?, ?it/s]"
     ]
    },
    {
     "name": "stdout",
     "output_type": "stream",
     "text": [
      "Parameter sample_size, value 20\n"
     ]
    },
    {
     "name": "stderr",
     "output_type": "stream",
     "text": [
      "\n",
      "  0%|          | 0/5 [00:00<?, ?it/s]\u001b[A\n",
      " 20%|██        | 1/5 [00:00<00:02,  1.94it/s]\u001b[A\n",
      " 40%|████      | 2/5 [00:01<00:01,  1.94it/s]\u001b[A\n",
      " 60%|██████    | 3/5 [00:01<00:01,  1.93it/s]\u001b[A\n",
      " 80%|████████  | 4/5 [00:02<00:00,  1.92it/s]\u001b[A\n",
      "100%|██████████| 5/5 [00:02<00:00,  1.92it/s]\u001b[A\n",
      " 14%|█▍        | 1/7 [00:02<00:15,  2.61s/it]"
     ]
    },
    {
     "name": "stdout",
     "output_type": "stream",
     "text": [
      "Stored results for sample_size | 20\n",
      "Parameter sample_size, value 50\n"
     ]
    },
    {
     "name": "stderr",
     "output_type": "stream",
     "text": [
      "\n",
      "  0%|          | 0/5 [00:00<?, ?it/s]\u001b[A\n",
      " 20%|██        | 1/5 [00:00<00:02,  1.39it/s]\u001b[A\n",
      " 40%|████      | 2/5 [00:01<00:02,  1.36it/s]\u001b[A\n",
      " 60%|██████    | 3/5 [00:02<00:01,  1.36it/s]\u001b[A\n",
      " 80%|████████  | 4/5 [00:02<00:00,  1.36it/s]\u001b[A\n",
      "100%|██████████| 5/5 [00:03<00:00,  1.36it/s]\u001b[A\n",
      " 29%|██▊       | 2/7 [00:06<00:16,  3.23s/it]"
     ]
    },
    {
     "name": "stdout",
     "output_type": "stream",
     "text": [
      "Stored results for sample_size | 50\n",
      "Parameter sample_size, value 100\n"
     ]
    },
    {
     "name": "stderr",
     "output_type": "stream",
     "text": [
      "\n",
      "  0%|          | 0/5 [00:00<?, ?it/s]\u001b[A\n",
      " 20%|██        | 1/5 [00:01<00:04,  1.04s/it]\u001b[A\n",
      " 40%|████      | 2/5 [00:02<00:03,  1.04s/it]\u001b[A\n",
      " 60%|██████    | 3/5 [00:03<00:02,  1.05s/it]\u001b[A\n",
      " 80%|████████  | 4/5 [00:04<00:01,  1.06s/it]\u001b[A\n",
      "100%|██████████| 5/5 [00:05<00:00,  1.06s/it]\u001b[A\n",
      " 43%|████▎     | 3/7 [00:11<00:16,  4.17s/it]"
     ]
    },
    {
     "name": "stdout",
     "output_type": "stream",
     "text": [
      "Stored results for sample_size | 100\n",
      "Parameter sample_size, value 250\n"
     ]
    },
    {
     "name": "stderr",
     "output_type": "stream",
     "text": [
      "\n",
      "  0%|          | 0/5 [00:00<?, ?it/s]\u001b[A\n",
      " 20%|██        | 1/5 [00:02<00:08,  2.01s/it]\u001b[A\n",
      " 40%|████      | 2/5 [00:04<00:06,  2.00s/it]\u001b[A\n",
      " 60%|██████    | 3/5 [00:06<00:04,  2.00s/it]\u001b[A\n",
      " 80%|████████  | 4/5 [00:07<00:01,  1.99s/it]\u001b[A\n",
      "100%|██████████| 5/5 [00:09<00:00,  1.99s/it]\u001b[A\n",
      " 57%|█████▋    | 4/7 [00:21<00:19,  6.46s/it]"
     ]
    },
    {
     "name": "stdout",
     "output_type": "stream",
     "text": [
      "Stored results for sample_size | 250\n",
      "Parameter sample_size, value 500\n"
     ]
    },
    {
     "name": "stderr",
     "output_type": "stream",
     "text": [
      "\n",
      "  0%|          | 0/5 [00:00<?, ?it/s]\u001b[A\n",
      " 20%|██        | 1/5 [00:03<00:14,  3.57s/it]\u001b[A\n",
      " 40%|████      | 2/5 [00:07<00:10,  3.58s/it]\u001b[A\n",
      " 60%|██████    | 3/5 [00:10<00:07,  3.58s/it]\u001b[A\n",
      " 80%|████████  | 4/5 [00:14<00:03,  3.60s/it]\u001b[A\n",
      "100%|██████████| 5/5 [00:17<00:00,  3.59s/it]\u001b[A\n",
      " 71%|███████▏  | 5/7 [00:39<00:21, 10.61s/it]"
     ]
    },
    {
     "name": "stdout",
     "output_type": "stream",
     "text": [
      "Stored results for sample_size | 500\n",
      "Parameter sample_size, value 1000\n"
     ]
    },
    {
     "name": "stderr",
     "output_type": "stream",
     "text": [
      "\n",
      "  0%|          | 0/5 [00:00<?, ?it/s]\u001b[A\n",
      " 20%|██        | 1/5 [00:06<00:27,  6.75s/it]\u001b[A\n",
      " 40%|████      | 2/5 [00:13<00:20,  6.73s/it]\u001b[A\n",
      " 60%|██████    | 3/5 [00:20<00:13,  6.78s/it]\u001b[A\n",
      " 80%|████████  | 4/5 [00:27<00:06,  6.75s/it]\u001b[A\n",
      "100%|██████████| 5/5 [00:33<00:00,  6.75s/it]\u001b[A\n",
      " 86%|████████▌ | 6/7 [01:13<00:18, 18.47s/it]"
     ]
    },
    {
     "name": "stdout",
     "output_type": "stream",
     "text": [
      "Stored results for sample_size | 1000\n",
      "Parameter sample_size, value 1500\n"
     ]
    },
    {
     "name": "stderr",
     "output_type": "stream",
     "text": [
      "\n",
      "  0%|          | 0/5 [00:00<?, ?it/s]\u001b[A\n",
      " 20%|██        | 1/5 [00:09<00:39,  9.90s/it]\u001b[A\n",
      " 40%|████      | 2/5 [00:19<00:29,  9.91s/it]\u001b[A\n",
      " 60%|██████    | 3/5 [00:29<00:19,  9.91s/it]\u001b[A\n",
      " 80%|████████  | 4/5 [00:39<00:09,  9.90s/it]\u001b[A\n",
      "100%|██████████| 5/5 [00:49<00:00,  9.91s/it]\u001b[A\n",
      "100%|██████████| 7/7 [02:02<00:00, 17.54s/it]\n"
     ]
    },
    {
     "name": "stdout",
     "output_type": "stream",
     "text": [
      "Stored results for sample_size | 1500\n",
      "Alternating parameter: n_jobs\n"
     ]
    },
    {
     "name": "stderr",
     "output_type": "stream",
     "text": [
      "  0%|          | 0/7 [00:00<?, ?it/s]"
     ]
    },
    {
     "name": "stdout",
     "output_type": "stream",
     "text": [
      "Parameter n_jobs, value 1\n"
     ]
    },
    {
     "name": "stderr",
     "output_type": "stream",
     "text": [
      "\n",
      "  0%|          | 0/5 [00:00<?, ?it/s]\u001b[A\n",
      " 20%|██        | 1/5 [02:37<10:29, 157.34s/it]\u001b[A\n",
      " 40%|████      | 2/5 [05:14<07:51, 157.25s/it]\u001b[A\n",
      " 60%|██████    | 3/5 [07:51<05:13, 156.92s/it]\u001b[A\n",
      " 80%|████████  | 4/5 [10:27<02:36, 156.87s/it]\u001b[A\n",
      "100%|██████████| 5/5 [13:05<00:00, 157.15s/it]\u001b[A\n",
      " 14%|█▍        | 1/7 [13:05<1:18:34, 785.73s/it]"
     ]
    },
    {
     "name": "stdout",
     "output_type": "stream",
     "text": [
      "Stored results for n_jobs | 1\n",
      "Parameter n_jobs, value 2\n"
     ]
    },
    {
     "name": "stderr",
     "output_type": "stream",
     "text": [
      "\n",
      "  0%|          | 0/5 [00:00<?, ?it/s]\u001b[A\n",
      " 20%|██        | 1/5 [01:24<05:39, 84.79s/it]\u001b[A\n",
      " 40%|████      | 2/5 [02:49<04:14, 84.78s/it]\u001b[A\n",
      " 60%|██████    | 3/5 [04:14<02:49, 84.66s/it]\u001b[A\n",
      " 80%|████████  | 4/5 [05:38<01:24, 84.67s/it]\u001b[A\n",
      "100%|██████████| 5/5 [07:03<00:00, 84.70s/it]\u001b[A\n",
      " 29%|██▊       | 2/7 [20:09<47:43, 572.67s/it]  "
     ]
    },
    {
     "name": "stdout",
     "output_type": "stream",
     "text": [
      "Stored results for n_jobs | 2\n",
      "Parameter n_jobs, value 4\n"
     ]
    },
    {
     "name": "stderr",
     "output_type": "stream",
     "text": [
      "\n",
      "  0%|          | 0/5 [00:00<?, ?it/s]\u001b[A\n",
      " 20%|██        | 1/5 [00:42<02:48, 42.11s/it]\u001b[A\n",
      " 40%|████      | 2/5 [01:23<02:04, 41.63s/it]\u001b[A\n",
      " 60%|██████    | 3/5 [02:04<01:23, 41.51s/it]\u001b[A\n",
      " 80%|████████  | 4/5 [02:45<00:41, 41.39s/it]\u001b[A\n",
      "100%|██████████| 5/5 [03:27<00:00, 41.45s/it]\u001b[A\n",
      " 43%|████▎     | 3/7 [23:36<27:03, 405.81s/it]"
     ]
    },
    {
     "name": "stdout",
     "output_type": "stream",
     "text": [
      "Stored results for n_jobs | 4\n",
      "Parameter n_jobs, value 8\n"
     ]
    },
    {
     "name": "stderr",
     "output_type": "stream",
     "text": [
      "\n",
      "  0%|          | 0/5 [00:00<?, ?it/s]\u001b[A\n",
      " 20%|██        | 1/5 [00:22<01:29, 22.40s/it]\u001b[A\n",
      " 40%|████      | 2/5 [00:43<01:05, 21.85s/it]\u001b[A\n",
      " 60%|██████    | 3/5 [01:05<00:43, 21.71s/it]\u001b[A\n",
      " 80%|████████  | 4/5 [01:26<00:21, 21.63s/it]\u001b[A\n",
      "100%|██████████| 5/5 [01:48<00:00, 21.70s/it]\u001b[A\n",
      " 57%|█████▋    | 4/7 [25:25<14:25, 288.45s/it]"
     ]
    },
    {
     "name": "stdout",
     "output_type": "stream",
     "text": [
      "Stored results for n_jobs | 8\n",
      "Parameter n_jobs, value 16\n"
     ]
    },
    {
     "name": "stderr",
     "output_type": "stream",
     "text": [
      "\n",
      "  0%|          | 0/5 [00:00<?, ?it/s]\u001b[A\n",
      " 20%|██        | 1/5 [00:12<00:51, 12.79s/it]\u001b[A\n",
      " 40%|████      | 2/5 [00:25<00:37, 12.65s/it]\u001b[A\n",
      " 60%|██████    | 3/5 [00:37<00:24, 12.48s/it]\u001b[A\n",
      " 80%|████████  | 4/5 [00:49<00:12, 12.43s/it]\u001b[A\n",
      "100%|██████████| 5/5 [01:02<00:00, 12.48s/it]\u001b[A\n",
      " 71%|███████▏  | 5/7 [26:27<06:53, 206.93s/it]"
     ]
    },
    {
     "name": "stdout",
     "output_type": "stream",
     "text": [
      "Stored results for n_jobs | 16\n",
      "Parameter n_jobs, value 32\n"
     ]
    },
    {
     "name": "stderr",
     "output_type": "stream",
     "text": [
      "\n",
      "  0%|          | 0/5 [00:00<?, ?it/s]\u001b[A\n",
      " 20%|██        | 1/5 [00:13<00:52, 13.13s/it]\u001b[A\n",
      " 40%|████      | 2/5 [00:25<00:37, 12.59s/it]\u001b[A\n",
      " 60%|██████    | 3/5 [00:37<00:24, 12.41s/it]\u001b[A\n",
      " 80%|████████  | 4/5 [00:49<00:12, 12.26s/it]\u001b[A\n",
      "100%|██████████| 5/5 [01:01<00:00, 12.39s/it]\u001b[A\n",
      " 86%|████████▌ | 6/7 [27:29<02:37, 157.65s/it]"
     ]
    },
    {
     "name": "stdout",
     "output_type": "stream",
     "text": [
      "Stored results for n_jobs | 32\n",
      "Parameter n_jobs, value 48\n"
     ]
    },
    {
     "name": "stderr",
     "output_type": "stream",
     "text": [
      "\n",
      "  0%|          | 0/5 [00:00<?, ?it/s]\u001b[A\n",
      " 20%|██        | 1/5 [00:13<00:52, 13.04s/it]\u001b[A\n",
      " 40%|████      | 2/5 [00:25<00:37, 12.50s/it]\u001b[A\n",
      " 60%|██████    | 3/5 [00:37<00:24, 12.34s/it]\u001b[A\n",
      " 80%|████████  | 4/5 [00:49<00:12, 12.25s/it]\u001b[A\n",
      "100%|██████████| 5/5 [01:01<00:00, 12.36s/it]\u001b[A\n",
      "100%|██████████| 7/7 [28:31<00:00, 244.46s/it]\n"
     ]
    },
    {
     "name": "stdout",
     "output_type": "stream",
     "text": [
      "Stored results for n_jobs | 48\n",
      "---------------- Synthetic_1 | rank ----------------\n",
      "Exact computation\n"
     ]
    },
    {
     "name": "stderr",
     "output_type": "stream",
     "text": [
      "100%|██████████| 5/5 [01:06<00:00, 13.38s/it]\n"
     ]
    },
    {
     "name": "stdout",
     "output_type": "stream",
     "text": [
      "Finished computing exact results\n",
      "Alternating parameter: coalition_size\n"
     ]
    },
    {
     "name": "stderr",
     "output_type": "stream",
     "text": [
      "  0%|          | 0/2 [00:00<?, ?it/s]"
     ]
    },
    {
     "name": "stdout",
     "output_type": "stream",
     "text": [
      "Parameter coalition_size, value 1\n"
     ]
    },
    {
     "name": "stderr",
     "output_type": "stream",
     "text": [
      "\n",
      "  0%|          | 0/5 [00:00<?, ?it/s]\u001b[A\n",
      " 20%|██        | 1/5 [00:09<00:39,  9.77s/it]\u001b[A\n",
      " 40%|████      | 2/5 [00:19<00:29,  9.77s/it]\u001b[A\n",
      " 60%|██████    | 3/5 [00:29<00:19,  9.78s/it]\u001b[A\n",
      " 80%|████████  | 4/5 [00:39<00:09,  9.79s/it]\u001b[A\n",
      "100%|██████████| 5/5 [00:48<00:00,  9.80s/it]\u001b[A\n",
      " 50%|█████     | 1/2 [00:48<00:48, 48.98s/it]"
     ]
    },
    {
     "name": "stdout",
     "output_type": "stream",
     "text": [
      "Stored results for coalition_size | 1\n",
      "Parameter coalition_size, value 2\n"
     ]
    },
    {
     "name": "stderr",
     "output_type": "stream",
     "text": [
      "\n",
      "  0%|          | 0/5 [00:00<?, ?it/s]\u001b[A\n",
      " 20%|██        | 1/5 [00:12<00:51, 12.96s/it]\u001b[A\n",
      " 40%|████      | 2/5 [00:25<00:38, 12.94s/it]\u001b[A\n",
      " 60%|██████    | 3/5 [00:38<00:25, 12.98s/it]\u001b[A\n",
      " 80%|████████  | 4/5 [00:51<00:12, 13.00s/it]\u001b[A\n",
      "100%|██████████| 5/5 [01:04<00:00, 12.98s/it]\u001b[A\n",
      "100%|██████████| 2/2 [01:53<00:00, 56.94s/it]\n"
     ]
    },
    {
     "name": "stdout",
     "output_type": "stream",
     "text": [
      "Stored results for coalition_size | 2\n",
      "Alternating parameter: sample_size\n"
     ]
    },
    {
     "name": "stderr",
     "output_type": "stream",
     "text": [
      "  0%|          | 0/7 [00:00<?, ?it/s]"
     ]
    },
    {
     "name": "stdout",
     "output_type": "stream",
     "text": [
      "Parameter sample_size, value 20\n"
     ]
    },
    {
     "name": "stderr",
     "output_type": "stream",
     "text": [
      "\n",
      "  0%|          | 0/5 [00:00<?, ?it/s]\u001b[A\n",
      " 20%|██        | 1/5 [00:00<00:02,  1.93it/s]\u001b[A\n",
      " 40%|████      | 2/5 [00:01<00:01,  1.96it/s]\u001b[A\n",
      " 60%|██████    | 3/5 [00:01<00:01,  1.95it/s]\u001b[A\n",
      " 80%|████████  | 4/5 [00:02<00:00,  1.95it/s]\u001b[A\n",
      "100%|██████████| 5/5 [00:02<00:00,  1.94it/s]\u001b[A\n",
      " 14%|█▍        | 1/7 [00:02<00:15,  2.58s/it]"
     ]
    },
    {
     "name": "stdout",
     "output_type": "stream",
     "text": [
      "Stored results for sample_size | 20\n",
      "Parameter sample_size, value 50\n"
     ]
    },
    {
     "name": "stderr",
     "output_type": "stream",
     "text": [
      "\n",
      "  0%|          | 0/5 [00:00<?, ?it/s]\u001b[A\n",
      " 20%|██        | 1/5 [00:00<00:02,  1.41it/s]\u001b[A\n",
      " 40%|████      | 2/5 [00:01<00:02,  1.40it/s]\u001b[A\n",
      " 60%|██████    | 3/5 [00:02<00:01,  1.38it/s]\u001b[A\n",
      " 80%|████████  | 4/5 [00:02<00:00,  1.37it/s]\u001b[A\n",
      "100%|██████████| 5/5 [00:03<00:00,  1.37it/s]\u001b[A\n",
      " 29%|██▊       | 2/7 [00:06<00:16,  3.21s/it]"
     ]
    },
    {
     "name": "stdout",
     "output_type": "stream",
     "text": [
      "Stored results for sample_size | 50\n",
      "Parameter sample_size, value 100\n"
     ]
    },
    {
     "name": "stderr",
     "output_type": "stream",
     "text": [
      "\n",
      "  0%|          | 0/5 [00:00<?, ?it/s]\u001b[A\n",
      " 20%|██        | 1/5 [00:01<00:04,  1.06s/it]\u001b[A\n",
      " 40%|████      | 2/5 [00:02<00:03,  1.07s/it]\u001b[A\n",
      " 60%|██████    | 3/5 [00:03<00:02,  1.05s/it]\u001b[A\n",
      " 80%|████████  | 4/5 [00:04<00:01,  1.05s/it]\u001b[A\n",
      "100%|██████████| 5/5 [00:05<00:00,  1.06s/it]\u001b[A\n",
      " 43%|████▎     | 3/7 [00:11<00:16,  4.16s/it]"
     ]
    },
    {
     "name": "stdout",
     "output_type": "stream",
     "text": [
      "Stored results for sample_size | 100\n",
      "Parameter sample_size, value 250\n"
     ]
    },
    {
     "name": "stderr",
     "output_type": "stream",
     "text": [
      "\n",
      "  0%|          | 0/5 [00:00<?, ?it/s]\u001b[A\n",
      " 20%|██        | 1/5 [00:02<00:08,  2.05s/it]\u001b[A\n",
      " 40%|████      | 2/5 [00:04<00:06,  2.04s/it]\u001b[A\n",
      " 60%|██████    | 3/5 [00:06<00:04,  2.01s/it]\u001b[A\n",
      " 80%|████████  | 4/5 [00:08<00:01,  2.00s/it]\u001b[A\n",
      "100%|██████████| 5/5 [00:10<00:00,  2.00s/it]\u001b[A\n",
      " 57%|█████▋    | 4/7 [00:21<00:19,  6.47s/it]"
     ]
    },
    {
     "name": "stdout",
     "output_type": "stream",
     "text": [
      "Stored results for sample_size | 250\n",
      "Parameter sample_size, value 500\n"
     ]
    },
    {
     "name": "stderr",
     "output_type": "stream",
     "text": [
      "\n",
      "  0%|          | 0/5 [00:00<?, ?it/s]\u001b[A\n",
      " 20%|██        | 1/5 [00:03<00:14,  3.58s/it]\u001b[A\n",
      " 40%|████      | 2/5 [00:07<00:10,  3.57s/it]\u001b[A\n",
      " 60%|██████    | 3/5 [00:10<00:07,  3.60s/it]\u001b[A\n",
      " 80%|████████  | 4/5 [00:14<00:03,  3.59s/it]\u001b[A\n",
      "100%|██████████| 5/5 [00:17<00:00,  3.58s/it]\u001b[A\n",
      " 71%|███████▏  | 5/7 [00:39<00:21, 10.59s/it]"
     ]
    },
    {
     "name": "stdout",
     "output_type": "stream",
     "text": [
      "Stored results for sample_size | 500\n",
      "Parameter sample_size, value 1000\n"
     ]
    },
    {
     "name": "stderr",
     "output_type": "stream",
     "text": [
      "\n",
      "  0%|          | 0/5 [00:00<?, ?it/s]\u001b[A\n",
      " 20%|██        | 1/5 [00:06<00:27,  6.76s/it]\u001b[A\n",
      " 40%|████      | 2/5 [00:13<00:20,  6.76s/it]\u001b[A\n",
      " 60%|██████    | 3/5 [00:20<00:13,  6.74s/it]\u001b[A\n",
      " 80%|████████  | 4/5 [00:26<00:06,  6.74s/it]\u001b[A\n",
      "100%|██████████| 5/5 [00:33<00:00,  6.74s/it]\u001b[A\n",
      " 86%|████████▌ | 6/7 [01:13<00:18, 18.45s/it]"
     ]
    },
    {
     "name": "stdout",
     "output_type": "stream",
     "text": [
      "Stored results for sample_size | 1000\n",
      "Parameter sample_size, value 1500\n"
     ]
    },
    {
     "name": "stderr",
     "output_type": "stream",
     "text": [
      "\n",
      "  0%|          | 0/5 [00:00<?, ?it/s]\u001b[A\n",
      " 20%|██        | 1/5 [00:09<00:39,  9.89s/it]\u001b[A\n",
      " 40%|████      | 2/5 [00:19<00:29,  9.91s/it]\u001b[A\n",
      " 60%|██████    | 3/5 [00:29<00:19,  9.85s/it]\u001b[A\n",
      " 80%|████████  | 4/5 [00:39<00:09,  9.89s/it]\u001b[A\n",
      "100%|██████████| 5/5 [00:49<00:00,  9.87s/it]\u001b[A\n",
      "100%|██████████| 7/7 [02:02<00:00, 17.50s/it]\n"
     ]
    },
    {
     "name": "stdout",
     "output_type": "stream",
     "text": [
      "Stored results for sample_size | 1500\n",
      "Alternating parameter: n_jobs\n"
     ]
    },
    {
     "name": "stderr",
     "output_type": "stream",
     "text": [
      "  0%|          | 0/7 [00:00<?, ?it/s]"
     ]
    },
    {
     "name": "stdout",
     "output_type": "stream",
     "text": [
      "Parameter n_jobs, value 1\n"
     ]
    },
    {
     "name": "stderr",
     "output_type": "stream",
     "text": [
      "\n",
      "  0%|          | 0/5 [00:00<?, ?it/s]\u001b[A\n",
      " 20%|██        | 1/5 [02:33<10:14, 153.64s/it]\u001b[A\n",
      " 40%|████      | 2/5 [05:08<07:42, 154.12s/it]\u001b[A\n",
      " 60%|██████    | 3/5 [07:42<05:08, 154.43s/it]\u001b[A\n",
      " 80%|████████  | 4/5 [10:19<02:35, 155.16s/it]\u001b[A\n",
      "100%|██████████| 5/5 [12:54<00:00, 154.96s/it]\u001b[A\n",
      " 14%|█▍        | 1/7 [12:54<1:17:28, 774.82s/it]"
     ]
    },
    {
     "name": "stdout",
     "output_type": "stream",
     "text": [
      "Stored results for n_jobs | 1\n",
      "Parameter n_jobs, value 2\n"
     ]
    },
    {
     "name": "stderr",
     "output_type": "stream",
     "text": [
      "\n",
      "  0%|          | 0/5 [00:00<?, ?it/s]\u001b[A\n",
      " 20%|██        | 1/5 [01:23<05:33, 83.30s/it]\u001b[A\n",
      " 40%|████      | 2/5 [02:46<04:08, 82.98s/it]\u001b[A\n",
      " 60%|██████    | 3/5 [04:08<02:45, 82.91s/it]\u001b[A\n",
      " 80%|████████  | 4/5 [05:31<01:22, 82.98s/it]\u001b[A\n",
      "100%|██████████| 5/5 [06:54<00:00, 83.00s/it]\u001b[A\n",
      " 29%|██▊       | 2/7 [19:49<46:55, 563.15s/it]  "
     ]
    },
    {
     "name": "stdout",
     "output_type": "stream",
     "text": [
      "Stored results for n_jobs | 2\n",
      "Parameter n_jobs, value 4\n"
     ]
    },
    {
     "name": "stderr",
     "output_type": "stream",
     "text": [
      "\n",
      "  0%|          | 0/5 [00:00<?, ?it/s]\u001b[A\n",
      " 20%|██        | 1/5 [00:41<02:45, 41.38s/it]\u001b[A\n",
      " 40%|████      | 2/5 [01:21<02:02, 40.92s/it]\u001b[A\n",
      " 60%|██████    | 3/5 [02:02<01:21, 40.78s/it]\u001b[A\n",
      " 80%|████████  | 4/5 [02:43<00:40, 40.72s/it]\u001b[A\n",
      "100%|██████████| 5/5 [03:23<00:00, 40.78s/it]\u001b[A\n",
      " 43%|████▎     | 3/7 [23:13<26:36, 399.11s/it]"
     ]
    },
    {
     "name": "stdout",
     "output_type": "stream",
     "text": [
      "Stored results for n_jobs | 4\n",
      "Parameter n_jobs, value 8\n"
     ]
    },
    {
     "name": "stderr",
     "output_type": "stream",
     "text": [
      "\n",
      "  0%|          | 0/5 [00:00<?, ?it/s]\u001b[A\n",
      " 20%|██        | 1/5 [00:22<01:29, 22.43s/it]\u001b[A\n",
      " 40%|████      | 2/5 [00:43<01:05, 21.76s/it]\u001b[A\n",
      " 60%|██████    | 3/5 [01:05<00:43, 21.58s/it]\u001b[A\n",
      " 80%|████████  | 4/5 [01:26<00:21, 21.50s/it]\u001b[A\n",
      "100%|██████████| 5/5 [01:47<00:00, 21.58s/it]\u001b[A\n",
      " 57%|█████▋    | 4/7 [25:01<14:12, 284.14s/it]"
     ]
    },
    {
     "name": "stdout",
     "output_type": "stream",
     "text": [
      "Stored results for n_jobs | 8\n",
      "Parameter n_jobs, value 16\n"
     ]
    },
    {
     "name": "stderr",
     "output_type": "stream",
     "text": [
      "\n",
      "  0%|          | 0/5 [00:00<?, ?it/s]\u001b[A\n",
      " 20%|██        | 1/5 [00:12<00:50, 12.63s/it]\u001b[A\n",
      " 40%|████      | 2/5 [00:25<00:37, 12.60s/it]\u001b[A\n",
      " 60%|██████    | 3/5 [00:37<00:25, 12.52s/it]\u001b[A\n",
      " 80%|████████  | 4/5 [00:49<00:12, 12.45s/it]\u001b[A\n",
      "100%|██████████| 5/5 [01:02<00:00, 12.48s/it]\u001b[A\n",
      " 71%|███████▏  | 5/7 [26:04<06:48, 204.18s/it]"
     ]
    },
    {
     "name": "stdout",
     "output_type": "stream",
     "text": [
      "Stored results for n_jobs | 16\n",
      "Parameter n_jobs, value 32\n"
     ]
    },
    {
     "name": "stderr",
     "output_type": "stream",
     "text": [
      "\n",
      "  0%|          | 0/5 [00:00<?, ?it/s]\u001b[A\n",
      " 20%|██        | 1/5 [00:13<00:53, 13.29s/it]\u001b[A\n",
      " 40%|████      | 2/5 [00:25<00:38, 12.73s/it]\u001b[A\n",
      " 60%|██████    | 3/5 [00:37<00:25, 12.51s/it]\u001b[A\n",
      " 80%|████████  | 4/5 [00:50<00:12, 12.38s/it]\u001b[A\n",
      "100%|██████████| 5/5 [01:02<00:00, 12.52s/it]\u001b[A\n",
      " 86%|████████▌ | 6/7 [27:06<02:36, 156.04s/it]"
     ]
    },
    {
     "name": "stdout",
     "output_type": "stream",
     "text": [
      "Stored results for n_jobs | 32\n",
      "Parameter n_jobs, value 48\n"
     ]
    },
    {
     "name": "stderr",
     "output_type": "stream",
     "text": [
      "\n",
      "  0%|          | 0/5 [00:00<?, ?it/s]\u001b[A\n",
      " 20%|██        | 1/5 [00:13<00:53, 13.27s/it]\u001b[A\n",
      " 40%|████      | 2/5 [00:25<00:37, 12.62s/it]\u001b[A\n",
      " 60%|██████    | 3/5 [00:37<00:24, 12.42s/it]\u001b[A\n",
      " 80%|████████  | 4/5 [00:49<00:12, 12.35s/it]\u001b[A\n",
      "100%|██████████| 5/5 [01:02<00:00, 12.42s/it]\u001b[A\n",
      "100%|██████████| 7/7 [28:08<00:00, 241.24s/it]\n"
     ]
    },
    {
     "name": "stdout",
     "output_type": "stream",
     "text": [
      "Stored results for n_jobs | 48\n",
      "---------------- Synthetic_0 | rank ----------------\n",
      "Exact computation\n"
     ]
    },
    {
     "name": "stderr",
     "output_type": "stream",
     "text": [
      "100%|██████████| 5/5 [01:09<00:00, 13.82s/it]\n"
     ]
    },
    {
     "name": "stdout",
     "output_type": "stream",
     "text": [
      "Finished computing exact results\n",
      "Alternating parameter: coalition_size\n"
     ]
    },
    {
     "name": "stderr",
     "output_type": "stream",
     "text": [
      "  0%|          | 0/2 [00:00<?, ?it/s]"
     ]
    },
    {
     "name": "stdout",
     "output_type": "stream",
     "text": [
      "Parameter coalition_size, value 1\n"
     ]
    },
    {
     "name": "stderr",
     "output_type": "stream",
     "text": [
      "\n",
      "  0%|          | 0/5 [00:00<?, ?it/s]\u001b[A\n",
      " 20%|██        | 1/5 [00:09<00:39,  9.98s/it]\u001b[A\n",
      " 40%|████      | 2/5 [00:20<00:30, 10.02s/it]\u001b[A\n",
      " 60%|██████    | 3/5 [00:29<00:19,  9.98s/it]\u001b[A\n",
      " 80%|████████  | 4/5 [00:39<00:09, 10.00s/it]\u001b[A\n",
      "100%|██████████| 5/5 [00:49<00:00,  9.99s/it]\u001b[A\n",
      " 50%|█████     | 1/2 [00:49<00:49, 49.94s/it]"
     ]
    },
    {
     "name": "stdout",
     "output_type": "stream",
     "text": [
      "Stored results for coalition_size | 1\n",
      "Parameter coalition_size, value 2\n"
     ]
    },
    {
     "name": "stderr",
     "output_type": "stream",
     "text": [
      "\n",
      "  0%|          | 0/5 [00:00<?, ?it/s]\u001b[A\n",
      " 20%|██        | 1/5 [00:13<00:53, 13.29s/it]\u001b[A\n",
      " 40%|████      | 2/5 [00:26<00:39, 13.30s/it]\u001b[A\n",
      " 60%|██████    | 3/5 [00:39<00:26, 13.26s/it]\u001b[A\n",
      " 80%|████████  | 4/5 [00:53<00:13, 13.28s/it]\u001b[A\n",
      "100%|██████████| 5/5 [01:06<00:00, 13.27s/it]\u001b[A\n",
      "100%|██████████| 2/2 [01:56<00:00, 58.15s/it]\n"
     ]
    },
    {
     "name": "stdout",
     "output_type": "stream",
     "text": [
      "Stored results for coalition_size | 2\n",
      "Alternating parameter: sample_size\n"
     ]
    },
    {
     "name": "stderr",
     "output_type": "stream",
     "text": [
      "  0%|          | 0/7 [00:00<?, ?it/s]"
     ]
    },
    {
     "name": "stdout",
     "output_type": "stream",
     "text": [
      "Parameter sample_size, value 20\n"
     ]
    },
    {
     "name": "stderr",
     "output_type": "stream",
     "text": [
      "\n",
      "  0%|          | 0/5 [00:00<?, ?it/s]\u001b[A\n",
      " 20%|██        | 1/5 [00:00<00:02,  1.87it/s]\u001b[A\n",
      " 40%|████      | 2/5 [00:01<00:01,  1.86it/s]\u001b[A\n",
      " 60%|██████    | 3/5 [00:01<00:01,  1.86it/s]\u001b[A\n",
      " 80%|████████  | 4/5 [00:02<00:00,  1.86it/s]\u001b[A\n",
      "100%|██████████| 5/5 [00:02<00:00,  1.87it/s]\u001b[A\n",
      " 14%|█▍        | 1/7 [00:02<00:16,  2.68s/it]"
     ]
    },
    {
     "name": "stdout",
     "output_type": "stream",
     "text": [
      "Stored results for sample_size | 20\n",
      "Parameter sample_size, value 50\n"
     ]
    },
    {
     "name": "stderr",
     "output_type": "stream",
     "text": [
      "\n",
      "  0%|          | 0/5 [00:00<?, ?it/s]\u001b[A\n",
      " 20%|██        | 1/5 [00:00<00:03,  1.33it/s]\u001b[A\n",
      " 40%|████      | 2/5 [00:01<00:02,  1.33it/s]\u001b[A\n",
      " 60%|██████    | 3/5 [00:02<00:01,  1.36it/s]\u001b[A\n",
      " 80%|████████  | 4/5 [00:02<00:00,  1.37it/s]\u001b[A\n",
      "100%|██████████| 5/5 [00:03<00:00,  1.36it/s]\u001b[A\n",
      " 29%|██▊       | 2/7 [00:06<00:16,  3.26s/it]"
     ]
    },
    {
     "name": "stdout",
     "output_type": "stream",
     "text": [
      "Stored results for sample_size | 50\n",
      "Parameter sample_size, value 100\n"
     ]
    },
    {
     "name": "stderr",
     "output_type": "stream",
     "text": [
      "\n",
      "  0%|          | 0/5 [00:00<?, ?it/s]\u001b[A\n",
      " 20%|██        | 1/5 [00:01<00:04,  1.06s/it]\u001b[A\n",
      " 40%|████      | 2/5 [00:02<00:03,  1.08s/it]\u001b[A\n",
      " 60%|██████    | 3/5 [00:03<00:02,  1.08s/it]\u001b[A\n",
      " 80%|████████  | 4/5 [00:04<00:01,  1.08s/it]\u001b[A\n",
      "100%|██████████| 5/5 [00:05<00:00,  1.08s/it]\u001b[A\n",
      " 43%|████▎     | 3/7 [00:11<00:16,  4.24s/it]"
     ]
    },
    {
     "name": "stdout",
     "output_type": "stream",
     "text": [
      "Stored results for sample_size | 100\n",
      "Parameter sample_size, value 250\n"
     ]
    },
    {
     "name": "stderr",
     "output_type": "stream",
     "text": [
      "\n",
      "  0%|          | 0/5 [00:00<?, ?it/s]\u001b[A\n",
      " 20%|██        | 1/5 [00:02<00:08,  2.03s/it]\u001b[A\n",
      " 40%|████      | 2/5 [00:04<00:06,  2.03s/it]\u001b[A\n",
      " 60%|██████    | 3/5 [00:06<00:04,  2.01s/it]\u001b[A\n",
      " 80%|████████  | 4/5 [00:08<00:02,  2.02s/it]\u001b[A\n",
      "100%|██████████| 5/5 [00:10<00:00,  2.02s/it]\u001b[A\n",
      " 57%|█████▋    | 4/7 [00:21<00:19,  6.56s/it]"
     ]
    },
    {
     "name": "stdout",
     "output_type": "stream",
     "text": [
      "Stored results for sample_size | 250\n",
      "Parameter sample_size, value 500\n"
     ]
    },
    {
     "name": "stderr",
     "output_type": "stream",
     "text": [
      "\n",
      "  0%|          | 0/5 [00:00<?, ?it/s]\u001b[A\n",
      " 20%|██        | 1/5 [00:03<00:14,  3.67s/it]\u001b[A\n",
      " 40%|████      | 2/5 [00:07<00:10,  3.64s/it]\u001b[A\n",
      " 60%|██████    | 3/5 [00:10<00:07,  3.67s/it]\u001b[A\n",
      " 80%|████████  | 4/5 [00:14<00:03,  3.66s/it]\u001b[A\n",
      "100%|██████████| 5/5 [00:18<00:00,  3.66s/it]\u001b[A\n",
      " 71%|███████▏  | 5/7 [00:40<00:21, 10.78s/it]"
     ]
    },
    {
     "name": "stdout",
     "output_type": "stream",
     "text": [
      "Stored results for sample_size | 500\n",
      "Parameter sample_size, value 1000\n"
     ]
    },
    {
     "name": "stderr",
     "output_type": "stream",
     "text": [
      "\n",
      "  0%|          | 0/5 [00:00<?, ?it/s]\u001b[A\n",
      " 20%|██        | 1/5 [00:06<00:27,  6.84s/it]\u001b[A\n",
      " 40%|████      | 2/5 [00:13<00:20,  6.87s/it]\u001b[A\n",
      " 60%|██████    | 3/5 [00:20<00:13,  6.85s/it]\u001b[A\n",
      " 80%|████████  | 4/5 [00:27<00:06,  6.86s/it]\u001b[A\n",
      "100%|██████████| 5/5 [00:34<00:00,  6.88s/it]\u001b[A\n",
      " 86%|████████▌ | 6/7 [01:14<00:18, 18.81s/it]"
     ]
    },
    {
     "name": "stdout",
     "output_type": "stream",
     "text": [
      "Stored results for sample_size | 1000\n",
      "Parameter sample_size, value 1500\n"
     ]
    },
    {
     "name": "stderr",
     "output_type": "stream",
     "text": [
      "\n",
      "  0%|          | 0/5 [00:00<?, ?it/s]\u001b[A\n",
      " 20%|██        | 1/5 [00:10<00:40, 10.10s/it]\u001b[A\n",
      " 40%|████      | 2/5 [00:20<00:30, 10.15s/it]\u001b[A\n",
      " 60%|██████    | 3/5 [00:30<00:20, 10.09s/it]\u001b[A\n",
      " 80%|████████  | 4/5 [00:40<00:10, 10.11s/it]\u001b[A\n",
      "100%|██████████| 5/5 [00:50<00:00, 10.10s/it]\u001b[A\n",
      "100%|██████████| 7/7 [02:05<00:00, 17.86s/it]\n"
     ]
    },
    {
     "name": "stdout",
     "output_type": "stream",
     "text": [
      "Stored results for sample_size | 1500\n",
      "Alternating parameter: n_jobs\n"
     ]
    },
    {
     "name": "stderr",
     "output_type": "stream",
     "text": [
      "  0%|          | 0/7 [00:00<?, ?it/s]"
     ]
    },
    {
     "name": "stdout",
     "output_type": "stream",
     "text": [
      "Parameter n_jobs, value 1\n"
     ]
    },
    {
     "name": "stderr",
     "output_type": "stream",
     "text": [
      "\n",
      "  0%|          | 0/5 [00:00<?, ?it/s]\u001b[A\n",
      " 20%|██        | 1/5 [02:38<10:32, 158.18s/it]\u001b[A\n",
      " 40%|████      | 2/5 [05:15<07:52, 157.58s/it]\u001b[A\n",
      " 60%|██████    | 3/5 [07:52<05:14, 157.29s/it]\u001b[A\n",
      " 80%|████████  | 4/5 [10:30<02:37, 157.66s/it]\u001b[A\n",
      "100%|██████████| 5/5 [13:09<00:00, 157.92s/it]\u001b[A\n",
      " 14%|█▍        | 1/7 [13:09<1:18:57, 789.61s/it]"
     ]
    },
    {
     "name": "stdout",
     "output_type": "stream",
     "text": [
      "Stored results for n_jobs | 1\n",
      "Parameter n_jobs, value 2\n"
     ]
    },
    {
     "name": "stderr",
     "output_type": "stream",
     "text": [
      "\n",
      "  0%|          | 0/5 [00:00<?, ?it/s]\u001b[A\n",
      " 20%|██        | 1/5 [01:22<05:31, 82.91s/it]\u001b[A\n",
      " 40%|████      | 2/5 [02:45<04:08, 82.72s/it]\u001b[A\n",
      " 60%|██████    | 3/5 [04:08<02:45, 82.74s/it]\u001b[A\n",
      " 80%|████████  | 4/5 [05:31<01:22, 82.77s/it]\u001b[A\n",
      "100%|██████████| 5/5 [06:53<00:00, 82.79s/it]\u001b[A\n",
      " 29%|██▊       | 2/7 [20:03<47:23, 568.65s/it]  "
     ]
    },
    {
     "name": "stdout",
     "output_type": "stream",
     "text": [
      "Stored results for n_jobs | 2\n",
      "Parameter n_jobs, value 4\n"
     ]
    },
    {
     "name": "stderr",
     "output_type": "stream",
     "text": [
      "\n",
      "  0%|          | 0/5 [00:00<?, ?it/s]\u001b[A\n",
      " 20%|██        | 1/5 [00:42<02:48, 42.22s/it]\u001b[A\n",
      " 40%|████      | 2/5 [01:23<02:05, 41.78s/it]\u001b[A\n",
      " 60%|██████    | 3/5 [02:05<01:23, 41.67s/it]\u001b[A\n",
      " 80%|████████  | 4/5 [02:46<00:41, 41.62s/it]\u001b[A\n",
      "100%|██████████| 5/5 [03:28<00:00, 41.68s/it]\u001b[A\n",
      " 43%|████▎     | 3/7 [23:31<26:56, 404.15s/it]"
     ]
    },
    {
     "name": "stdout",
     "output_type": "stream",
     "text": [
      "Stored results for n_jobs | 4\n",
      "Parameter n_jobs, value 8\n"
     ]
    },
    {
     "name": "stderr",
     "output_type": "stream",
     "text": [
      "\n",
      "  0%|          | 0/5 [00:00<?, ?it/s]\u001b[A\n",
      " 20%|██        | 1/5 [00:22<01:30, 22.55s/it]\u001b[A\n",
      " 40%|████      | 2/5 [00:44<01:06, 22.04s/it]\u001b[A\n",
      " 60%|██████    | 3/5 [01:05<00:43, 21.87s/it]\u001b[A\n",
      " 80%|████████  | 4/5 [01:27<00:21, 21.80s/it]\u001b[A\n",
      "100%|██████████| 5/5 [01:49<00:00, 21.87s/it]\u001b[A\n",
      " 57%|█████▋    | 4/7 [25:21<14:23, 287.76s/it]"
     ]
    },
    {
     "name": "stdout",
     "output_type": "stream",
     "text": [
      "Stored results for n_jobs | 8\n",
      "Parameter n_jobs, value 16\n"
     ]
    },
    {
     "name": "stderr",
     "output_type": "stream",
     "text": [
      "\n",
      "  0%|          | 0/5 [00:00<?, ?it/s]\u001b[A\n",
      " 20%|██        | 1/5 [00:13<00:53, 13.27s/it]\u001b[A\n",
      " 40%|████      | 2/5 [00:25<00:38, 12.82s/it]\u001b[A\n",
      " 60%|██████    | 3/5 [00:38<00:25, 12.76s/it]\u001b[A\n",
      " 80%|████████  | 4/5 [00:51<00:12, 12.71s/it]\u001b[A\n",
      "100%|██████████| 5/5 [01:03<00:00, 12.75s/it]\u001b[A\n",
      " 71%|███████▏  | 5/7 [26:25<06:53, 206.99s/it]"
     ]
    },
    {
     "name": "stdout",
     "output_type": "stream",
     "text": [
      "Stored results for n_jobs | 16\n",
      "Parameter n_jobs, value 32\n"
     ]
    },
    {
     "name": "stderr",
     "output_type": "stream",
     "text": [
      "\n",
      "  0%|          | 0/5 [00:00<?, ?it/s]\u001b[A\n",
      " 20%|██        | 1/5 [00:13<00:53, 13.49s/it]\u001b[A\n",
      " 40%|████      | 2/5 [00:25<00:38, 12.86s/it]\u001b[A\n",
      " 60%|██████    | 3/5 [00:38<00:25, 12.69s/it]\u001b[A\n",
      " 80%|████████  | 4/5 [00:50<00:12, 12.60s/it]\u001b[A\n",
      "100%|██████████| 5/5 [01:03<00:00, 12.65s/it]\u001b[A\n",
      " 86%|████████▌ | 6/7 [27:28<02:38, 158.12s/it]"
     ]
    },
    {
     "name": "stdout",
     "output_type": "stream",
     "text": [
      "Stored results for n_jobs | 32\n",
      "Parameter n_jobs, value 48\n"
     ]
    },
    {
     "name": "stderr",
     "output_type": "stream",
     "text": [
      "\n",
      "  0%|          | 0/5 [00:00<?, ?it/s]\u001b[A\n",
      " 20%|██        | 1/5 [00:13<00:53, 13.36s/it]\u001b[A\n",
      " 40%|████      | 2/5 [00:25<00:38, 12.79s/it]\u001b[A\n",
      " 60%|██████    | 3/5 [00:38<00:25, 12.62s/it]\u001b[A\n",
      " 80%|████████  | 4/5 [00:50<00:12, 12.49s/it]\u001b[A\n",
      "100%|██████████| 5/5 [01:02<00:00, 12.58s/it]\u001b[A\n",
      "100%|██████████| 7/7 [28:31<00:00, 244.47s/it]\n"
     ]
    },
    {
     "name": "stdout",
     "output_type": "stream",
     "text": [
      "Stored results for n_jobs | 48\n",
      "---------------- Moving Company | rank ----------------\n",
      "Exact computation\n"
     ]
    },
    {
     "name": "stderr",
     "output_type": "stream",
     "text": [
      "100%|██████████| 5/5 [1:20:47<00:00, 969.48s/it]\n"
     ]
    },
    {
     "name": "stdout",
     "output_type": "stream",
     "text": [
      "Finished computing exact results\n",
      "Alternating parameter: coalition_size\n"
     ]
    },
    {
     "name": "stderr",
     "output_type": "stream",
     "text": [
      "  0%|          | 0/2 [00:00<?, ?it/s]"
     ]
    },
    {
     "name": "stdout",
     "output_type": "stream",
     "text": [
      "Parameter coalition_size, value 1\n"
     ]
    },
    {
     "name": "stderr",
     "output_type": "stream",
     "text": [
      "\n",
      "  0%|          | 0/5 [00:00<?, ?it/s]\u001b[A\n",
      " 20%|██        | 1/5 [12:05<48:23, 725.93s/it]\u001b[A\n",
      " 40%|████      | 2/5 [24:09<36:13, 724.64s/it]\u001b[A\n",
      " 60%|██████    | 3/5 [36:14<24:09, 724.51s/it]\u001b[A\n",
      " 80%|████████  | 4/5 [48:19<12:05, 725.05s/it]\u001b[A\n",
      "100%|██████████| 5/5 [1:00:25<00:00, 725.08s/it]\u001b[A\n",
      " 50%|█████     | 1/2 [1:00:25<1:00:25, 3625.42s/it]"
     ]
    },
    {
     "name": "stdout",
     "output_type": "stream",
     "text": [
      "Stored results for coalition_size | 1\n",
      "Parameter coalition_size, value 2\n"
     ]
    },
    {
     "name": "stderr",
     "output_type": "stream",
     "text": [
      "\n",
      "  0%|          | 0/5 [00:00<?, ?it/s]\u001b[A\n",
      " 20%|██        | 1/5 [16:03<1:04:15, 963.96s/it]\u001b[A\n",
      " 40%|████      | 2/5 [32:07<48:11, 963.88s/it]  \u001b[A\n",
      " 60%|██████    | 3/5 [48:14<32:10, 965.10s/it]\u001b[A\n",
      " 80%|████████  | 4/5 [1:04:20<16:05, 965.48s/it]\u001b[A\n",
      "100%|██████████| 5/5 [1:20:26<00:00, 965.24s/it]\u001b[A\n",
      "100%|██████████| 2/2 [2:20:51<00:00, 4225.81s/it]  \n"
     ]
    },
    {
     "name": "stdout",
     "output_type": "stream",
     "text": [
      "Stored results for coalition_size | 2\n",
      "Alternating parameter: sample_size\n"
     ]
    },
    {
     "name": "stderr",
     "output_type": "stream",
     "text": [
      "  0%|          | 0/7 [00:00<?, ?it/s]"
     ]
    },
    {
     "name": "stdout",
     "output_type": "stream",
     "text": [
      "Parameter sample_size, value 20\n"
     ]
    },
    {
     "name": "stderr",
     "output_type": "stream",
     "text": [
      "\n",
      "  0%|          | 0/5 [00:00<?, ?it/s]\u001b[A\n",
      " 20%|██        | 1/5 [00:10<00:42, 10.52s/it]\u001b[A\n",
      " 40%|████      | 2/5 [00:21<00:31, 10.54s/it]\u001b[A\n",
      " 60%|██████    | 3/5 [00:31<00:21, 10.57s/it]\u001b[A\n",
      " 80%|████████  | 4/5 [00:42<00:10, 10.60s/it]\u001b[A\n",
      "100%|██████████| 5/5 [00:52<00:00, 10.58s/it]\u001b[A\n",
      " 14%|█▍        | 1/7 [00:52<05:17, 52.92s/it]"
     ]
    },
    {
     "name": "stdout",
     "output_type": "stream",
     "text": [
      "Stored results for sample_size | 20\n",
      "Parameter sample_size, value 50\n"
     ]
    },
    {
     "name": "stderr",
     "output_type": "stream",
     "text": [
      "\n",
      "  0%|          | 0/5 [00:00<?, ?it/s]\u001b[A\n",
      " 20%|██        | 1/5 [00:24<01:39, 24.86s/it]\u001b[A\n",
      " 40%|████      | 2/5 [00:49<01:14, 24.89s/it]\u001b[A\n",
      " 60%|██████    | 3/5 [01:14<00:49, 24.83s/it]\u001b[A\n",
      " 80%|████████  | 4/5 [01:39<00:24, 24.80s/it]\u001b[A\n",
      "100%|██████████| 5/5 [02:04<00:00, 24.85s/it]\u001b[A\n",
      " 29%|██▊       | 2/7 [02:57<07:54, 94.89s/it]"
     ]
    },
    {
     "name": "stdout",
     "output_type": "stream",
     "text": [
      "Stored results for sample_size | 50\n",
      "Parameter sample_size, value 100\n"
     ]
    },
    {
     "name": "stderr",
     "output_type": "stream",
     "text": [
      "\n",
      "  0%|          | 0/5 [00:00<?, ?it/s]\u001b[A\n",
      " 20%|██        | 1/5 [00:49<03:17, 49.31s/it]\u001b[A\n",
      " 40%|████      | 2/5 [01:38<02:27, 49.10s/it]\u001b[A\n",
      " 60%|██████    | 3/5 [02:27<01:38, 49.12s/it]\u001b[A\n",
      " 80%|████████  | 4/5 [03:16<00:49, 49.08s/it]\u001b[A\n",
      "100%|██████████| 5/5 [04:05<00:00, 49.06s/it]\u001b[A\n",
      " 43%|████▎     | 3/7 [07:02<10:54, 163.57s/it]"
     ]
    },
    {
     "name": "stdout",
     "output_type": "stream",
     "text": [
      "Stored results for sample_size | 100\n",
      "Parameter sample_size, value 250\n"
     ]
    },
    {
     "name": "stderr",
     "output_type": "stream",
     "text": [
      "\n",
      "  0%|          | 0/5 [00:00<?, ?it/s]\u001b[A\n",
      " 20%|██        | 1/5 [02:01<08:07, 121.82s/it]\u001b[A\n",
      " 40%|████      | 2/5 [04:03<06:05, 121.86s/it]\u001b[A\n",
      " 60%|██████    | 3/5 [06:06<04:04, 122.17s/it]\u001b[A\n",
      " 80%|████████  | 4/5 [08:08<02:02, 122.11s/it]\u001b[A\n",
      "100%|██████████| 5/5 [10:10<00:00, 122.04s/it]\u001b[A\n",
      " 57%|█████▋    | 4/7 [17:12<16:59, 339.89s/it]"
     ]
    },
    {
     "name": "stdout",
     "output_type": "stream",
     "text": [
      "Stored results for sample_size | 250\n",
      "Parameter sample_size, value 500\n"
     ]
    },
    {
     "name": "stderr",
     "output_type": "stream",
     "text": [
      "\n",
      "  0%|          | 0/5 [00:00<?, ?it/s]\u001b[A\n",
      " 20%|██        | 1/5 [04:03<16:14, 243.51s/it]\u001b[A\n",
      " 40%|████      | 2/5 [08:07<12:11, 243.74s/it]\u001b[A\n",
      " 60%|██████    | 3/5 [12:11<08:07, 243.94s/it]\u001b[A\n",
      " 80%|████████  | 4/5 [16:14<04:03, 243.42s/it]\u001b[A\n",
      "100%|██████████| 5/5 [20:17<00:00, 243.60s/it]\u001b[A\n",
      " 71%|███████▏  | 5/7 [37:30<21:53, 656.54s/it]"
     ]
    },
    {
     "name": "stdout",
     "output_type": "stream",
     "text": [
      "Stored results for sample_size | 500\n",
      "Parameter sample_size, value 1000\n"
     ]
    },
    {
     "name": "stderr",
     "output_type": "stream",
     "text": [
      "\n",
      "  0%|          | 0/5 [00:00<?, ?it/s]\u001b[A\n",
      " 20%|██        | 1/5 [08:06<32:27, 486.87s/it]\u001b[A\n",
      " 40%|████      | 2/5 [16:12<24:18, 486.07s/it]\u001b[A\n",
      " 60%|██████    | 3/5 [24:18<16:12, 486.31s/it]\u001b[A\n",
      " 80%|████████  | 4/5 [32:25<08:06, 486.45s/it]\u001b[A\n",
      "100%|██████████| 5/5 [40:32<00:00, 486.57s/it]\u001b[A\n",
      " 86%|████████▌ | 6/7 [1:18:03<21:00, 1260.50s/it]"
     ]
    },
    {
     "name": "stdout",
     "output_type": "stream",
     "text": [
      "Stored results for sample_size | 1000\n",
      "Parameter sample_size, value 1500\n"
     ]
    },
    {
     "name": "stderr",
     "output_type": "stream",
     "text": [
      "\n",
      "  0%|          | 0/5 [00:00<?, ?it/s]\u001b[A\n",
      " 20%|██        | 1/5 [12:07<48:29, 727.29s/it]\u001b[A\n",
      " 40%|████      | 2/5 [24:14<36:21, 727.10s/it]\u001b[A"
     ]
    }
   ],
   "source": [
    "# Super janky code... It would be a good exercise to refactor this\n",
    "\n",
    "result_cols = (\n",
    "    [\n",
    "        \"dataset\",\n",
    "        \"n_observations\",\n",
    "        \"approach\",\n",
    "        \"parameter\",\n",
    "        \"parameter_value\",\n",
    "        \"avg_time\",\n",
    "    ]\n",
    "    + [f\"time_{i}\" for i in range(N_RUNS)]\n",
    "    + [f\"agreement_kendall_{i}\" for i in range(N_RUNS)]\n",
    "    + [f\"agreement_jaccard2_{i}\" for i in range(N_RUNS)]\n",
    "    + [f\"agreement_euclidean_{i}\" for i in range(N_RUNS)]\n",
    "    + [f\"fidelity_{i}\" for i in range(N_RUNS)]\n",
    ")\n",
    "\n",
    "\n",
    "for dataset in datasets:\n",
    "\n",
    "    result_df = []\n",
    "    # Set up basic settings\n",
    "    X = dataset[\"data\"][0]\n",
    "    scorer = dataset[\"scorer\"]\n",
    "    scores = np.array(scorer(dataset[\"data\"][0]))\n",
    "    ranking = scores_to_ordering(scores)\n",
    "\n",
    "    rng = check_random_state(RNG_SEED)\n",
    "    sam_idx1 = rng.choice(\n",
    "        np.indices((X.shape[0],)).squeeze(),\n",
    "        size=dataset[\"n_observations\"],\n",
    "        replace=False,\n",
    "    )\n",
    "    sam_idx2 = rng.choice(\n",
    "        np.indices((X.shape[0],)).squeeze(),\n",
    "        size=dataset[\"n_observations\"],\n",
    "        replace=False,\n",
    "    )\n",
    "\n",
    "    for approach in approaches:\n",
    "        print(\"----------------\", dataset[\"name\"], \"|\", approach, \"----------------\")\n",
    "\n",
    "        times = []\n",
    "        kendall_cons = []\n",
    "        jaccard_cons = []\n",
    "        euclidean_cons = []\n",
    "        fidelity = []\n",
    "\n",
    "        print(\"Exact computation\")\n",
    "        for i in tqdm.tqdm(range(N_RUNS)):\n",
    "            start = time.time()\n",
    "            if approach != \"pairwise\":\n",
    "                baseline_sharp = ShaRP(\n",
    "                    qoi=approach,\n",
    "                    target_function=dataset[\"scorer\"],\n",
    "                    random_state=random_states[i],\n",
    "                    **default_kwargs,\n",
    "                )\n",
    "                baseline_sharp.fit(X)\n",
    "                baseline_contr = baseline_sharp.all(X.values[sam_idx1])\n",
    "            else:\n",
    "                baseline_sharp = ShaRP(\n",
    "                    target_function=dataset[\"scorer\"],\n",
    "                    random_state=random_states[i],\n",
    "                    **default_kwargs,\n",
    "                )\n",
    "                baseline_pairwise = []\n",
    "                for idx1, idx2 in zip(sam_idx1, sam_idx2):\n",
    "                    baseline_pairwise.append(\n",
    "                        baseline_sharp.pairwise(X.values[idx1], X.values[idx2])\n",
    "                    )\n",
    "                baseline_contr = np.array(baseline_pairwise)\n",
    "\n",
    "            end = time.time()\n",
    "\n",
    "            baseline_contr = pd.DataFrame(\n",
    "                baseline_contr, columns=X.columns, index=X.index.values[sam_idx1]\n",
    "            )\n",
    "            # Save metrics\n",
    "            times.append(end - start)\n",
    "            kendall_cons.append(np.nan)\n",
    "            jaccard_cons.append(np.nan)\n",
    "            euclidean_cons.append(np.nan)\n",
    "\n",
    "            if approach != \"pairwise\":\n",
    "                target = scores if approach == \"rank_score\" else ranking\n",
    "                avg_target = target.mean()\n",
    "                res_ = outcome_fidelity(\n",
    "                    baseline_contr,\n",
    "                    target[sam_idx1],\n",
    "                    avg_target,\n",
    "                    target_max=X.shape[0] if approach == \"rank\" else target.max(),\n",
    "                    rank=approach == \"rank\",\n",
    "                )\n",
    "            else:\n",
    "                res_ = outcome_fidelity(\n",
    "                    baseline_contr,\n",
    "                    target[sam_idx1],\n",
    "                    avg_target,\n",
    "                    target_max=X.shape[0] if approach == \"rank\" else target.max(),\n",
    "                    target_pairs=target[sam_idx2],\n",
    "                    rank=approach == \"rank\",\n",
    "                )\n",
    "\n",
    "            fidelity.append(res_)\n",
    "\n",
    "        exact_results_row = (\n",
    "            [\n",
    "                dataset[\"name\"],\n",
    "                dataset[\"n_observations\"],\n",
    "                approach,\n",
    "                np.nan,\n",
    "                np.nan,\n",
    "                np.mean(times),\n",
    "            ]\n",
    "            + times\n",
    "            + kendall_cons\n",
    "            + jaccard_cons\n",
    "            + euclidean_cons\n",
    "            + fidelity\n",
    "        )\n",
    "        result_df.append(exact_results_row)\n",
    "        print(\"Finished computing exact results\")\n",
    "        ############################################################################################\n",
    "\n",
    "        for parameter, parameter_values in parameters_to_change.items():\n",
    "            print(f\"Alternating parameter: {parameter}\")\n",
    "            default_value = deepcopy(\n",
    "                default_kwargs[parameter] if parameter in default_kwargs else None\n",
    "            )\n",
    "\n",
    "            if parameter == \"coalition_size\":\n",
    "                parameter_values = [\n",
    "                    val for val in parameter_values if X.shape[-1] > val\n",
    "                ]\n",
    "            if parameter == \"sample_size\":\n",
    "                parameter_values = [\n",
    "                    val for val in parameter_values if X.shape[0] >= val\n",
    "                ]\n",
    "\n",
    "            for parameter_value in tqdm.tqdm(parameter_values):\n",
    "\n",
    "                default_kwargs[parameter] = parameter_value\n",
    "\n",
    "                times = []\n",
    "                kendall_cons = []\n",
    "                jaccard_cons = []\n",
    "                euclidean_cons = []\n",
    "                fidelity = []\n",
    "\n",
    "                print(f\"Parameter {parameter}, value {parameter_value}\")\n",
    "                for i in tqdm.tqdm(range(N_RUNS)):\n",
    "                    start = time.time()\n",
    "                    if approach != \"pairwise\":\n",
    "                        sharp = ShaRP(\n",
    "                            qoi=approach,\n",
    "                            target_function=dataset[\"scorer\"],\n",
    "                            random_state=random_states[i],\n",
    "                            **default_kwargs,\n",
    "                        )\n",
    "                        sharp.fit(X)\n",
    "                        contr = sharp.all(X.values[sam_idx1])\n",
    "                    else:\n",
    "                        sharp = ShaRP(\n",
    "                            target_function=dataset[\"scorer\"],\n",
    "                            random_state=random_states[i],\n",
    "                            **default_kwargs,\n",
    "                        )\n",
    "                        pairwise = []\n",
    "                        for idx1, idx2 in zip(sam_idx1, sam_idx2):\n",
    "                            pairwise.append(\n",
    "                                sharp.pairwise(X.values[idx1], X.values[idx2])\n",
    "                            )\n",
    "                        contr = np.array(pairwise)\n",
    "\n",
    "                    end = time.time()\n",
    "\n",
    "                    contr = pd.DataFrame(\n",
    "                        contr, columns=X.columns, index=np.array(X.index)[sam_idx1]\n",
    "                    )\n",
    "\n",
    "                    # Save metrics\n",
    "                    times.append(end - start)\n",
    "                    kendall_cons.append(\n",
    "                        cross_method_explanation_consistency(\n",
    "                            contr, baseline_contr, measure=\"kendall\"\n",
    "                        )[0]\n",
    "                    )\n",
    "                    jaccard_cons.append(\n",
    "                        cross_method_explanation_consistency(\n",
    "                            contr, baseline_contr, measure=\"jaccard\", n_features=2\n",
    "                        )[0]\n",
    "                    )\n",
    "                    euclidean_cons.append(\n",
    "                        cross_method_explanation_consistency(\n",
    "                            contr, baseline_contr, measure=\"euclidean\"\n",
    "                        )[0]\n",
    "                    )\n",
    "\n",
    "                    if approach != \"pairwise\":\n",
    "                        target = scores if approach == \"rank_score\" else ranking\n",
    "                        avg_target = target.mean()\n",
    "                        res_ = outcome_fidelity(\n",
    "                            baseline_contr,\n",
    "                            target[sam_idx1],\n",
    "                            avg_target,\n",
    "                            target_max=X.shape[0] if approach == \"rank\" else target.max(),\n",
    "                            rank=approach == \"rank\",\n",
    "                        )\n",
    "                    else:\n",
    "                        res_ = outcome_fidelity(\n",
    "                            baseline_contr,\n",
    "                            target[sam_idx1],\n",
    "                            avg_target,\n",
    "                            target_max=X.shape[0] if approach == \"rank\" else target.max(),\n",
    "                            target_pairs=target[sam_idx2],\n",
    "                            rank=approach == \"rank\",\n",
    "                        )\n",
    "\n",
    "                    fidelity.append(res_)\n",
    "\n",
    "                results_row = (\n",
    "                    [\n",
    "                        dataset[\"name\"],\n",
    "                        dataset[\"n_observations\"],\n",
    "                        approach,\n",
    "                        parameter,\n",
    "                        parameter_value,\n",
    "                        np.mean(times),\n",
    "                    ]\n",
    "                    + times\n",
    "                    + kendall_cons\n",
    "                    + jaccard_cons\n",
    "                    + euclidean_cons\n",
    "                    + fidelity\n",
    "                )\n",
    "                result_df.append(results_row)\n",
    "                print(f\"Stored results for {parameter} | {parameter_value}\")\n",
    "\n",
    "            default_kwargs[parameter] = default_value\n",
    "\n",
    "    results = pd.DataFrame(result_df, columns=result_cols)\n",
    "    results.to_csv(\"results/time-experiment-\" + dataset[\"name\"] + \".csv\")"
   ]
  },
  {
   "cell_type": "code",
   "execution_count": null,
   "id": "ac3fa04b178aeec3",
   "metadata": {},
   "outputs": [],
   "source": [
    "results = pd.DataFrame(result_df, columns=result_cols)\n",
    "results"
   ]
  },
  {
   "cell_type": "code",
   "execution_count": null,
   "id": "ff441073",
   "metadata": {},
   "outputs": [],
   "source": [
    "metric = \"exp_cons_kendall\"\n",
    "col_mask = results.columns.str.startswith(metric)\n",
    "results[f\"avg_{metric}\"] = results.iloc[:, col_mask].mean(1)\n",
    "col_mask = results.columns == f\"avg_{metric}\"\n",
    "col_mask[:6] = True\n",
    "results.iloc[:, col_mask]"
   ]
  },
  {
   "cell_type": "code",
   "execution_count": null,
   "id": "04be276a",
   "metadata": {},
   "outputs": [],
   "source": []
  }
 ],
 "metadata": {
  "kernelspec": {
   "display_name": "benchmark",
   "language": "python",
   "name": "benchmark"
  },
  "language_info": {
   "codemirror_mode": {
    "name": "ipython",
    "version": 3
   },
   "file_extension": ".py",
   "mimetype": "text/x-python",
   "name": "python",
   "nbconvert_exporter": "python",
   "pygments_lexer": "ipython3",
   "version": "3.12.4"
  }
 },
 "nbformat": 4,
 "nbformat_minor": 5
}
