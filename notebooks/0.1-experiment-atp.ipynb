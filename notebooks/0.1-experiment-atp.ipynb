{
 "cells": [
  {
   "cell_type": "code",
   "execution_count": 1,
   "metadata": {},
   "outputs": [],
   "source": [
    "import sys\n",
    "import pandas as pd\n",
    "\n",
    "sys.path.append(\"..\")\n",
    "\n",
    "import numpy as np\n",
    "import pandas as pd\n",
    "from scipy.stats import kendalltau\n",
    "import math\n",
    "from xai_ranking.benchmarks import (\n",
    "    human_in_the_loop,\n",
    "    hierarchical_ranking_explanation,\n",
    "    lime_experiment,\n",
    "    shap_experiment,\n",
    "    sharp_experiment,\n",
    "    participation_experiment,\n",
    ")\n",
    "from xai_ranking.preprocessing import (\n",
    "    preprocess_atp_data,\n",
    "    preprocess_csrank_data,\n",
    "    preprocess_higher_education_data,\n",
    ")\n",
    "from xai_ranking.datasets import (\n",
    "    fetch_atp_data,\n",
    "    fetch_csrank_data,\n",
    "    fetch_higher_education_data,\n",
    "    fetch_movers_data,\n",
    ")\n",
    "from xai_ranking.scorers import (\n",
    "    atp_score,\n",
    "    csrank_score,\n",
    "    higher_education_score,\n",
    ")\n",
    "from xai_ranking.metrics import (\n",
    "    max_sensitivity\n",
    ")\n",
    "\n",
    "RNG_SEED = 42"
   ]
  },
  {
   "cell_type": "code",
   "execution_count": 5,
   "metadata": {},
   "outputs": [],
   "source": [
    "datasets = [\n",
    "    {\n",
    "        \"name\": \"ATP\",\n",
    "        \"data\": fetch_atp_data(),\n",
    "        \"preprocess\": preprocess_atp_data,\n",
    "        \"scorer\": atp_score,\n",
    "    },\n",
    "    {\n",
    "        \"name\": \"CSRank\",\n",
    "        \"data\": fetch_csrank_data(),\n",
    "        \"preprocess\": preprocess_csrank_data,\n",
    "        \"scorer\": csrank_score,\n",
    "    },\n",
    "    # {\n",
    "    #     \"name\": \"Higher Education\",\n",
    "    #     \"data\": fetch_higher_education_data(year=2021),\n",
    "    #     \"preprocess\": preprocess_higher_education_data,\n",
    "    #     \"scorer\": higher_education_score,\n",
    "    # }\n",
    "]\n",
    "xai_methods = [\n",
    "    {\"name\": \"LIME\", \"experiment\": lime_experiment},\n",
    "    {\"name\": \"SHAP\", \"experiment\": shap_experiment},\n",
    "    {\"name\": \"ShaRP\", \"experiment\": sharp_experiment},\n",
    "    # {\"name\": \"Participation\", \"experiment\": participation_experiment},\n",
    "    {\"name\": \"HRE\", \"experiment\": hierarchical_ranking_explanation},\n",
    "    {\"name\": \"HIL\", \"experiment\": human_in_the_loop},\n",
    "]"
   ]
  },
  {
   "cell_type": "code",
   "execution_count": 6,
   "metadata": {},
   "outputs": [
    {
     "name": "stdout",
     "output_type": "stream",
     "text": [
      "\n",
      "\n",
      "\n",
      "#################### ATP\n",
      "\n",
      "\n",
      "\n",
      "#################### ShaRP\n",
      "\n",
      "\n",
      "\n",
      "#################### CSRank\n",
      "\n",
      "\n",
      "\n",
      "#################### ShaRP\n"
     ]
    }
   ],
   "source": [
    "# max sensitivity experiment\n",
    "# all points in ATP dataset, all methods\n",
    "\n",
    "\n",
    "for dataset in datasets:\n",
    "    preprocess_func = dataset[\"preprocess\"]\n",
    "    features_data, _, _ = preprocess_func(dataset[\"data\"])\n",
    "    num_neighbors = math.floor(math.sqrt(len(features_data)))\n",
    "    print(\"\\n\\n\\n####################\", dataset[\"name\"])\n",
    "    \n",
    "    for xai_method in xai_methods:\n",
    "        print(\"\\n\\n\\n####################\",xai_method[\"name\"])\n",
    "        experiment_result = []\n",
    "        contri_data = pd.read_csv(f\"results/_contributions_{dataset['name']}_{xai_method['name']}.csv\", index_col=0)\n",
    "    \n",
    "        for target_idx in range(len(features_data)):\n",
    "            experiment_result.append(max_sensitivity(features_data, contri_data, target_idx, num_neighbors, dataset[\"scorer\"], kendalltau))\n",
    "    \n",
    "        result_df = pd.DataFrame(experiment_result, columns=[\"max_sensitivity\"], index=features_data.index)\n",
    "        result_df.to_csv(f\"results/_max-sensitivity_{dataset['name']}_{xai_method['name']}_kendalltau_fixed-number-same-outcome.csv\")"
   ]
  },
  {
   "cell_type": "code",
   "execution_count": 1,
   "metadata": {},
   "outputs": [
    {
     "ename": "NameError",
     "evalue": "name 'datasets' is not defined",
     "output_type": "error",
     "traceback": [
      "\u001b[0;31m---------------------------------------------------------------------------\u001b[0m",
      "\u001b[0;31mNameError\u001b[0m                                 Traceback (most recent call last)",
      "Cell \u001b[0;32mIn[1], line 3\u001b[0m\n\u001b[1;32m      1\u001b[0m \u001b[38;5;66;03m# contribution results\u001b[39;00m\n\u001b[1;32m      2\u001b[0m results \u001b[38;5;241m=\u001b[39m {}\n\u001b[0;32m----> 3\u001b[0m \u001b[38;5;28;01mfor\u001b[39;00m dataset \u001b[38;5;129;01min\u001b[39;00m datasets:\n\u001b[1;32m      4\u001b[0m     results[dataset[\u001b[38;5;124m\"\u001b[39m\u001b[38;5;124mname\u001b[39m\u001b[38;5;124m\"\u001b[39m]] \u001b[38;5;241m=\u001b[39m {}\n\u001b[1;32m      5\u001b[0m     \u001b[38;5;28;01mfor\u001b[39;00m xai_method \u001b[38;5;129;01min\u001b[39;00m xai_methods:\n",
      "\u001b[0;31mNameError\u001b[0m: name 'datasets' is not defined"
     ]
    }
   ],
   "source": [
    "# contribution results\n",
    "results = {}\n",
    "for dataset in datasets:\n",
    "    results[dataset[\"name\"]] = {}\n",
    "    for xai_method in xai_methods:\n",
    "        experiment_func = xai_method[\"experiment\"]\n",
    "        preprocess_func = dataset[\"preprocess\"]\n",
    "        score_func = dataset[\"scorer\"]\n",
    "        X, ranks, scores = preprocess_func(dataset[\"data\"])\n",
    "        contributions = experiment_func(X, score_func)\n",
    "        results[dataset[\"name\"]][xai_method[\"name\"]] = contributions\n",
    "        \n",
    "        result_df = pd.DataFrame(contributions, columns=X.columns, index=X.index)\n",
    "        result_df.to_csv(f\"results/_contributions_{dataset['name']}_{xai_method['name']}.csv\")\n",
    "        # with open(f\"_contributions_{dataset['name']}_{xai_method['name']}.npy\", \"wb\") as f:\n",
    "        #     np.save(f, contributions)"
   ]
  },
  {
   "cell_type": "code",
   "execution_count": null,
   "metadata": {},
   "outputs": [],
   "source": []
  }
 ],
 "metadata": {
  "kernelspec": {
   "display_name": "Python 3 (ipykernel)",
   "language": "python",
   "name": "python3"
  },
  "language_info": {
   "codemirror_mode": {
    "name": "ipython",
    "version": 3
   },
   "file_extension": ".py",
   "mimetype": "text/x-python",
   "name": "python",
   "nbconvert_exporter": "python",
   "pygments_lexer": "ipython3",
   "version": "3.11.7"
  }
 },
 "nbformat": 4,
 "nbformat_minor": 4
}
