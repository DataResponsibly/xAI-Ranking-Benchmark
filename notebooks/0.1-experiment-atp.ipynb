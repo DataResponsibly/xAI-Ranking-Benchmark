{
 "cells": [
  {
   "cell_type": "code",
   "execution_count": 1,
   "metadata": {},
   "outputs": [],
   "source": [
    "import sys\n",
    "import pandas as pd\n",
    "\n",
    "sys.path.append(\"..\")\n",
    "\n",
    "import numpy as np\n",
    "import pandas as pd\n",
    "from scipy.stats import kendalltau\n",
    "from xai_ranking.benchmarks import (\n",
    "    human_in_the_loop,\n",
    "    hierarchical_ranking_explanation,\n",
    "    lime_experiment,\n",
    "    shap_experiment,\n",
    "    sharp_experiment,\n",
    "    participation_experiment,\n",
    ")\n",
    "from xai_ranking.preprocessing import (\n",
    "    preprocess_atp_data,\n",
    "    preprocess_csrank_data,\n",
    "    preprocess_higher_education_data,\n",
    ")\n",
    "from xai_ranking.datasets import (\n",
    "    fetch_atp_data,\n",
    "    fetch_csrank_data,\n",
    "    fetch_higher_education_data,\n",
    "    fetch_movers_data,\n",
    ")\n",
    "from xai_ranking.scorers import (\n",
    "    atp_score,\n",
    "    csrank_score,\n",
    "    higher_education_score,\n",
    ")\n",
    "from xai_ranking.metrics import (\n",
    "    max_sensitivity\n",
    ")\n",
    "\n",
    "RNG_SEED = 42"
   ]
  },
  {
   "cell_type": "code",
   "execution_count": 2,
   "metadata": {},
   "outputs": [],
   "source": [
    "datasets = [\n",
    "    {\n",
    "        \"name\": \"ATP\",\n",
    "        \"data\": fetch_atp_data(),\n",
    "        \"preprocess\": preprocess_atp_data,\n",
    "        \"scorer\": atp_score,\n",
    "    },\n",
    "]\n",
    "xai_methods = [\n",
    "    {\"name\": \"LIME\", \"experiment\": lime_experiment},\n",
    "    {\"name\": \"SHAP\", \"experiment\": shap_experiment},\n",
    "    {\"name\": \"ShaRP\", \"experiment\": sharp_experiment},\n",
    "    # {\"name\": \"Participation\", \"experiment\": participation_experiment},\n",
    "    {\"name\": \"HRE\", \"experiment\": hierarchical_ranking_explanation},\n",
    "    {\"name\": \"HIL\", \"experiment\": human_in_the_loop},\n",
    "]"
   ]
  },
  {
   "cell_type": "code",
   "execution_count": 3,
   "metadata": {},
   "outputs": [],
   "source": [
    "# max sensitivity experiment\n",
    "# all points in ATP dataset, all methods\n",
    "\n",
    "num_neighbors = 8\n",
    "features_data, _, _ = preprocess_atp_data(fetch_atp_data())\n",
    "\n",
    "for xai_method in xai_methods:\n",
    "    experiment_result = []\n",
    "    contri_data = pd.read_csv(f\"results/_contributions_ATP_{xai_method['name']}.csv\", index_col=\"player_name\")\n",
    "\n",
    "    for target_idx in range(len(features_data)):\n",
    "        experiment_result.append(max_sensitivity(features_data, contri_data, target_idx, num_neighbors, atp_score, kendalltau))\n",
    "\n",
    "    result_df = pd.DataFrame(experiment_result, columns=[\"max_sensitivity\"], index=features_data.index)\n",
    "    result_df.to_csv(f\"results/_max-sensitivity_ATP_{xai_method['name']}.csv\")"
   ]
  },
  {
   "cell_type": "code",
   "execution_count": 5,
   "metadata": {},
   "outputs": [],
   "source": [
    "# contribution results\n",
    "results = {}\n",
    "for dataset in datasets:\n",
    "    results[dataset[\"name\"]] = {}\n",
    "    for xai_method in xai_methods:\n",
    "        experiment_func = xai_method[\"experiment\"]\n",
    "        preprocess_func = dataset[\"preprocess\"]\n",
    "        score_func = dataset[\"scorer\"]\n",
    "        X, ranks, scores = preprocess_func(dataset[\"data\"])\n",
    "        contributions = experiment_func(X, score_func)\n",
    "        results[dataset[\"name\"]][xai_method[\"name\"]] = contributions\n",
    "        \n",
    "        result_df = pd.DataFrame(contributions, columns=X.columns, index=X.index)\n",
    "        result_df.to_csv(f\"results/_contributions_{dataset['name']}_{xai_method['name']}.csv\")\n",
    "        # with open(f\"_contributions_{dataset['name']}_{xai_method['name']}.npy\", \"wb\") as f:\n",
    "        #     np.save(f, contributions)"
   ]
  },
  {
   "cell_type": "code",
   "execution_count": null,
   "metadata": {},
   "outputs": [],
   "source": []
  }
 ],
 "metadata": {
  "kernelspec": {
   "display_name": "Python 3 (ipykernel)",
   "language": "python",
   "name": "python3"
  },
  "language_info": {
   "codemirror_mode": {
    "name": "ipython",
    "version": 3
   },
   "file_extension": ".py",
   "mimetype": "text/x-python",
   "name": "python",
   "nbconvert_exporter": "python",
   "pygments_lexer": "ipython3",
   "version": "3.11.7"
  }
 },
 "nbformat": 4,
 "nbformat_minor": 4
}
